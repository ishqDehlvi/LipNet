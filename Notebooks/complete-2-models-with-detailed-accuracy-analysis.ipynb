{
  "metadata": {
    "kernelspec": {
      "language": "python",
      "display_name": "Python 3",
      "name": "python3"
    },
    "language_info": {
      "name": "python",
      "version": "3.10.12",
      "mimetype": "text/x-python",
      "codemirror_mode": {
        "name": "ipython",
        "version": 3
      },
      "pygments_lexer": "ipython3",
      "nbconvert_exporter": "python",
      "file_extension": ".py"
    },
    "kaggle": {
      "accelerator": "gpu",
      "dataSources": [],
      "dockerImageVersionId": 30558,
      "isInternetEnabled": true,
      "language": "python",
      "sourceType": "notebook",
      "isGpuEnabled": true
    },
    "colab": {
      "provenance": [],
      "include_colab_link": true
    }
  },
  "nbformat_minor": 0,
  "nbformat": 4,
  "cells": [
    {
      "cell_type": "markdown",
      "metadata": {
        "id": "view-in-github",
        "colab_type": "text"
      },
      "source": [
        "<a href=\"https://colab.research.google.com/github/ishqDehlvi/LipNet/blob/master/Notebooks/complete-2-models-with-detailed-accuracy-analysis.ipynb\" target=\"_parent\"><img src=\"https://colab.research.google.com/assets/colab-badge.svg\" alt=\"Open In Colab\"/></a>"
      ]
    },
    {
      "cell_type": "markdown",
      "source": [
        "# 0. Install and Import Dependencies"
      ],
      "metadata": {
        "tags": [],
        "id": "1g546Idm7tiP"
      }
    },
    {
      "cell_type": "code",
      "source": [
        "!pip list"
      ],
      "metadata": {
        "scrolled": true,
        "tags": [],
        "execution": {
          "iopub.status.busy": "2023-11-16T01:01:15.733384Z",
          "iopub.execute_input": "2023-11-16T01:01:15.733704Z",
          "iopub.status.idle": "2023-11-16T01:01:19.284684Z",
          "shell.execute_reply.started": "2023-11-16T01:01:15.733678Z",
          "shell.execute_reply": "2023-11-16T01:01:19.283662Z"
        },
        "trusted": true,
        "id": "V2vAoyK-7tiR",
        "outputId": "5518a639-f353-4034-e2d2-834a67ab9deb",
        "colab": {
          "base_uri": "https://localhost:8080/"
        }
      },
      "execution_count": 1,
      "outputs": [
        {
          "output_type": "stream",
          "name": "stdout",
          "text": [
            "Package                            Version\n",
            "---------------------------------- -------------------\n",
            "absl-py                            1.4.0\n",
            "accelerate                         1.1.1\n",
            "aiohappyeyeballs                   2.4.3\n",
            "aiohttp                            3.11.2\n",
            "aiosignal                          1.3.1\n",
            "alabaster                          1.0.0\n",
            "albucore                           0.0.19\n",
            "albumentations                     1.4.20\n",
            "altair                             4.2.2\n",
            "annotated-types                    0.7.0\n",
            "anyio                              3.7.1\n",
            "argon2-cffi                        23.1.0\n",
            "argon2-cffi-bindings               21.2.0\n",
            "array_record                       0.5.1\n",
            "arviz                              0.20.0\n",
            "astropy                            6.1.6\n",
            "astropy-iers-data                  0.2024.11.18.0.35.2\n",
            "astunparse                         1.6.3\n",
            "async-timeout                      4.0.3\n",
            "atpublic                           4.1.0\n",
            "attrs                              24.2.0\n",
            "audioread                          3.0.1\n",
            "autograd                           1.7.0\n",
            "babel                              2.16.0\n",
            "backcall                           0.2.0\n",
            "beautifulsoup4                     4.12.3\n",
            "bigframes                          1.27.0\n",
            "bigquery-magics                    0.4.0\n",
            "bleach                             6.2.0\n",
            "blinker                            1.9.0\n",
            "blis                               0.7.11\n",
            "blosc2                             2.7.1\n",
            "bokeh                              3.6.1\n",
            "Bottleneck                         1.4.2\n",
            "bqplot                             0.12.43\n",
            "branca                             0.8.0\n",
            "CacheControl                       0.14.1\n",
            "cachetools                         5.5.0\n",
            "catalogue                          2.0.10\n",
            "certifi                            2024.8.30\n",
            "cffi                               1.17.1\n",
            "chardet                            5.2.0\n",
            "charset-normalizer                 3.4.0\n",
            "chex                               0.1.87\n",
            "clarabel                           0.9.0\n",
            "click                              8.1.7\n",
            "cloudpathlib                       0.20.0\n",
            "cloudpickle                        3.1.0\n",
            "cmake                              3.30.5\n",
            "cmdstanpy                          1.2.4\n",
            "colorcet                           3.1.0\n",
            "colorlover                         0.3.0\n",
            "colour                             0.1.5\n",
            "community                          1.0.0b1\n",
            "confection                         0.1.5\n",
            "cons                               0.4.6\n",
            "contourpy                          1.3.1\n",
            "cryptography                       43.0.3\n",
            "cuda-python                        12.2.1\n",
            "cudf-cu12                          24.10.1\n",
            "cufflinks                          0.17.3\n",
            "cupy-cuda12x                       12.2.0\n",
            "cvxopt                             1.3.2\n",
            "cvxpy                              1.5.4\n",
            "cycler                             0.12.1\n",
            "cymem                              2.0.8\n",
            "Cython                             3.0.11\n",
            "dask                               2024.10.0\n",
            "datascience                        0.17.6\n",
            "db-dtypes                          1.3.1\n",
            "dbus-python                        1.2.18\n",
            "debugpy                            1.8.0\n",
            "decorator                          4.4.2\n",
            "defusedxml                         0.7.1\n",
            "Deprecated                         1.2.15\n",
            "diffusers                          0.31.0\n",
            "distro                             1.9.0\n",
            "dlib                               19.24.2\n",
            "dm-tree                            0.1.8\n",
            "docker-pycreds                     0.4.0\n",
            "docstring_parser                   0.16\n",
            "docutils                           0.21.2\n",
            "dopamine_rl                        4.0.9\n",
            "duckdb                             1.1.3\n",
            "earthengine-api                    1.2.0\n",
            "easydict                           1.13\n",
            "ecos                               2.0.14\n",
            "editdistance                       0.8.1\n",
            "eerepr                             0.0.4\n",
            "einops                             0.8.0\n",
            "en-core-web-sm                     3.7.1\n",
            "entrypoints                        0.4\n",
            "et_xmlfile                         2.0.0\n",
            "etils                              1.10.0\n",
            "etuples                            0.3.9\n",
            "eval_type_backport                 0.2.0\n",
            "exceptiongroup                     1.2.2\n",
            "fastai                             2.7.18\n",
            "fastcore                           1.7.20\n",
            "fastdownload                       0.0.7\n",
            "fastjsonschema                     2.20.0\n",
            "fastprogress                       1.0.3\n",
            "fastrlock                          0.8.2\n",
            "filelock                           3.16.1\n",
            "firebase-admin                     6.5.0\n",
            "Flask                              3.0.3\n",
            "flatbuffers                        24.3.25\n",
            "flax                               0.8.5\n",
            "folium                             0.18.0\n",
            "fonttools                          4.55.0\n",
            "frozendict                         2.4.6\n",
            "frozenlist                         1.5.0\n",
            "fsspec                             2024.10.0\n",
            "future                             1.0.0\n",
            "gast                               0.6.0\n",
            "gcsfs                              2024.10.0\n",
            "GDAL                               3.6.4\n",
            "gdown                              5.2.0\n",
            "geemap                             0.35.1\n",
            "gensim                             4.3.3\n",
            "geocoder                           1.38.1\n",
            "geographiclib                      2.0\n",
            "geopandas                          1.0.1\n",
            "geopy                              2.4.1\n",
            "gin-config                         0.5.0\n",
            "gitdb                              4.0.11\n",
            "GitPython                          3.1.43\n",
            "glob2                              0.7\n",
            "google                             2.0.3\n",
            "google-ai-generativelanguage       0.6.10\n",
            "google-api-core                    2.19.2\n",
            "google-api-python-client           2.151.0\n",
            "google-auth                        2.27.0\n",
            "google-auth-httplib2               0.2.0\n",
            "google-auth-oauthlib               1.2.1\n",
            "google-cloud-aiplatform            1.71.1\n",
            "google-cloud-bigquery              3.25.0\n",
            "google-cloud-bigquery-connection   1.16.1\n",
            "google-cloud-bigquery-storage      2.27.0\n",
            "google-cloud-bigtable              2.27.0\n",
            "google-cloud-core                  2.4.1\n",
            "google-cloud-datastore             2.20.1\n",
            "google-cloud-firestore             2.19.0\n",
            "google-cloud-functions             1.18.1\n",
            "google-cloud-iam                   2.16.1\n",
            "google-cloud-language              2.15.1\n",
            "google-cloud-pubsub                2.27.1\n",
            "google-cloud-resource-manager      1.13.1\n",
            "google-cloud-storage               2.8.0\n",
            "google-cloud-translate             3.17.0\n",
            "google-colab                       1.0.0\n",
            "google-crc32c                      1.6.0\n",
            "google-generativeai                0.8.3\n",
            "google-pasta                       0.2.0\n",
            "google-resumable-media             2.7.2\n",
            "googleapis-common-protos           1.66.0\n",
            "googledrivedownloader              0.4\n",
            "graphviz                           0.20.3\n",
            "greenlet                           3.1.1\n",
            "grpc-google-iam-v1                 0.13.1\n",
            "grpcio                             1.68.0\n",
            "grpcio-status                      1.62.3\n",
            "gspread                            6.0.2\n",
            "gspread-dataframe                  3.3.1\n",
            "gym                                0.25.2\n",
            "gym-notices                        0.0.8\n",
            "h11                                0.14.0\n",
            "h5netcdf                           1.4.1\n",
            "h5py                               3.12.1\n",
            "holidays                           0.61\n",
            "holoviews                          1.20.0\n",
            "html5lib                           1.1\n",
            "httpcore                           1.0.7\n",
            "httpimport                         1.4.0\n",
            "httplib2                           0.22.0\n",
            "httpx                              0.27.2\n",
            "huggingface-hub                    0.26.2\n",
            "humanize                           4.11.0\n",
            "hyperopt                           0.2.7\n",
            "ibis-framework                     9.2.0\n",
            "idna                               3.10\n",
            "imageio                            2.36.0\n",
            "imageio-ffmpeg                     0.5.1\n",
            "imagesize                          1.4.1\n",
            "imbalanced-learn                   0.12.4\n",
            "imgaug                             0.4.0\n",
            "immutabledict                      4.2.1\n",
            "importlib_metadata                 8.5.0\n",
            "importlib_resources                6.4.5\n",
            "imutils                            0.5.4\n",
            "inflect                            7.4.0\n",
            "iniconfig                          2.0.0\n",
            "intel-cmplr-lib-ur                 2025.0.0\n",
            "intel-openmp                       2025.0.0\n",
            "ipyevents                          2.0.2\n",
            "ipyfilechooser                     0.6.0\n",
            "ipykernel                          5.5.6\n",
            "ipyleaflet                         0.19.2\n",
            "ipyparallel                        8.8.0\n",
            "ipython                            7.34.0\n",
            "ipython-genutils                   0.2.0\n",
            "ipython-sql                        0.5.0\n",
            "ipytree                            0.2.2\n",
            "ipywidgets                         7.7.1\n",
            "itsdangerous                       2.2.0\n",
            "jax                                0.4.33\n",
            "jax-cuda12-pjrt                    0.4.33\n",
            "jax-cuda12-plugin                  0.4.33\n",
            "jaxlib                             0.4.33\n",
            "jeepney                            0.7.1\n",
            "jellyfish                          1.1.0\n",
            "jieba                              0.42.1\n",
            "Jinja2                             3.1.4\n",
            "jiter                              0.7.1\n",
            "joblib                             1.4.2\n",
            "jsonpatch                          1.33\n",
            "jsonpickle                         4.0.0\n",
            "jsonpointer                        3.0.0\n",
            "jsonschema                         4.23.0\n",
            "jsonschema-specifications          2024.10.1\n",
            "jupyter-client                     6.1.12\n",
            "jupyter-console                    6.1.0\n",
            "jupyter_core                       5.7.2\n",
            "jupyter-leaflet                    0.19.2\n",
            "jupyter-server                     1.24.0\n",
            "jupyterlab_pygments                0.3.0\n",
            "jupyterlab_widgets                 3.0.13\n",
            "kaggle                             1.6.17\n",
            "kagglehub                          0.3.4\n",
            "keras                              3.5.0\n",
            "keyring                            23.5.0\n",
            "kiwisolver                         1.4.7\n",
            "langchain                          0.3.7\n",
            "langchain-core                     0.3.19\n",
            "langchain-text-splitters           0.3.2\n",
            "langcodes                          3.4.1\n",
            "langsmith                          0.1.143\n",
            "language_data                      1.2.0\n",
            "launchpadlib                       1.10.16\n",
            "lazr.restfulclient                 0.14.4\n",
            "lazr.uri                           1.0.6\n",
            "lazy_loader                        0.4\n",
            "libclang                           18.1.1\n",
            "libcudf-cu12                       24.10.1\n",
            "librosa                            0.10.2.post1\n",
            "lightgbm                           4.5.0\n",
            "linkify-it-py                      2.0.3\n",
            "llvmlite                           0.43.0\n",
            "locket                             1.0.0\n",
            "logical-unification                0.4.6\n",
            "lxml                               5.3.0\n",
            "marisa-trie                        1.2.1\n",
            "Markdown                           3.7\n",
            "markdown-it-py                     3.0.0\n",
            "MarkupSafe                         3.0.2\n",
            "matplotlib                         3.8.0\n",
            "matplotlib-inline                  0.1.7\n",
            "matplotlib-venn                    1.1.1\n",
            "mdit-py-plugins                    0.4.2\n",
            "mdurl                              0.1.2\n",
            "miniKanren                         1.0.3\n",
            "missingno                          0.5.2\n",
            "mistune                            3.0.2\n",
            "mizani                             0.13.0\n",
            "mkl                                2025.0.0\n",
            "ml-dtypes                          0.4.1\n",
            "mlxtend                            0.23.3\n",
            "more-itertools                     10.5.0\n",
            "moviepy                            1.0.3\n",
            "mpmath                             1.3.0\n",
            "msgpack                            1.1.0\n",
            "multidict                          6.1.0\n",
            "multipledispatch                   1.0.0\n",
            "multitasking                       0.0.11\n",
            "murmurhash                         1.0.10\n",
            "music21                            9.3.0\n",
            "namex                              0.0.8\n",
            "natsort                            8.4.0\n",
            "nbclassic                          1.1.0\n",
            "nbclient                           0.10.0\n",
            "nbconvert                          7.16.4\n",
            "nbformat                           5.10.4\n",
            "ndindex                            1.9.2\n",
            "nest-asyncio                       1.6.0\n",
            "networkx                           3.4.2\n",
            "nibabel                            5.3.2\n",
            "nltk                               3.9.1\n",
            "notebook                           6.5.5\n",
            "notebook_shim                      0.2.4\n",
            "numba                              0.60.0\n",
            "numexpr                            2.10.1\n",
            "numpy                              1.26.4\n",
            "nvidia-cublas-cu12                 12.6.3.3\n",
            "nvidia-cuda-cupti-cu12             12.6.80\n",
            "nvidia-cuda-nvcc-cu12              12.6.77\n",
            "nvidia-cuda-runtime-cu12           12.6.77\n",
            "nvidia-cudnn-cu12                  9.5.1.17\n",
            "nvidia-cufft-cu12                  11.3.0.4\n",
            "nvidia-curand-cu12                 10.3.7.77\n",
            "nvidia-cusolver-cu12               11.7.1.2\n",
            "nvidia-cusparse-cu12               12.5.4.2\n",
            "nvidia-nccl-cu12                   2.23.4\n",
            "nvidia-nvjitlink-cu12              12.6.77\n",
            "nvtx                               0.2.10\n",
            "nx-cugraph-cu12                    24.10.0\n",
            "oauth2client                       4.1.3\n",
            "oauthlib                           3.2.2\n",
            "openai                             1.54.4\n",
            "opencv-contrib-python              4.10.0.84\n",
            "opencv-python                      4.10.0.84\n",
            "opencv-python-headless             4.10.0.84\n",
            "openpyxl                           3.1.5\n",
            "opentelemetry-api                  1.28.2\n",
            "opentelemetry-sdk                  1.28.2\n",
            "opentelemetry-semantic-conventions 0.49b2\n",
            "opt_einsum                         3.4.0\n",
            "optax                              0.2.4\n",
            "optree                             0.13.1\n",
            "orbax-checkpoint                   0.6.4\n",
            "orjson                             3.10.11\n",
            "osqp                               0.6.7.post3\n",
            "packaging                          24.2\n",
            "pandas                             2.2.2\n",
            "pandas-datareader                  0.10.0\n",
            "pandas-gbq                         0.24.0\n",
            "pandas-stubs                       2.2.2.240909\n",
            "pandocfilters                      1.5.1\n",
            "panel                              1.5.4\n",
            "param                              2.1.1\n",
            "parso                              0.8.4\n",
            "parsy                              2.1\n",
            "partd                              1.4.2\n",
            "pathlib                            1.0.1\n",
            "patsy                              1.0.1\n",
            "peewee                             3.17.8\n",
            "peft                               0.13.2\n",
            "pexpect                            4.9.0\n",
            "pickleshare                        0.7.5\n",
            "pillow                             11.0.0\n",
            "pip                                24.1.2\n",
            "platformdirs                       4.3.6\n",
            "plotly                             5.24.1\n",
            "plotnine                           0.14.1\n",
            "pluggy                             1.5.0\n",
            "polars                             1.9.0\n",
            "pooch                              1.8.2\n",
            "portpicker                         1.5.2\n",
            "preshed                            3.0.9\n",
            "prettytable                        3.12.0\n",
            "proglog                            0.1.10\n",
            "progressbar2                       4.5.0\n",
            "prometheus_client                  0.21.0\n",
            "promise                            2.3\n",
            "prompt_toolkit                     3.0.48\n",
            "propcache                          0.2.0\n",
            "prophet                            1.1.6\n",
            "proto-plus                         1.25.0\n",
            "protobuf                           4.25.5\n",
            "psutil                             5.9.5\n",
            "psycopg2                           2.9.10\n",
            "ptyprocess                         0.7.0\n",
            "py-cpuinfo                         9.0.0\n",
            "py4j                               0.10.9.7\n",
            "pyarrow                            17.0.0\n",
            "pyarrow-hotfix                     0.6\n",
            "pyasn1                             0.6.1\n",
            "pyasn1_modules                     0.4.1\n",
            "pycocotools                        2.0.8\n",
            "pycparser                          2.22\n",
            "pydantic                           2.9.2\n",
            "pydantic_core                      2.23.4\n",
            "pydata-google-auth                 1.8.2\n",
            "pydot                              3.0.2\n",
            "pydotplus                          2.0.2\n",
            "PyDrive                            1.3.1\n",
            "PyDrive2                           1.21.1\n",
            "pyerfa                             2.0.1.5\n",
            "pygame                             2.6.1\n",
            "pygit2                             1.16.0\n",
            "Pygments                           2.18.0\n",
            "PyGObject                          3.42.1\n",
            "PyJWT                              2.10.0\n",
            "pylibcudf-cu12                     24.10.1\n",
            "pylibcugraph-cu12                  24.10.0\n",
            "pylibraft-cu12                     24.10.0\n",
            "pymc                               5.18.2\n",
            "pymystem3                          0.2.0\n",
            "pynvjitlink-cu12                   0.4.0\n",
            "pyogrio                            0.10.0\n",
            "PyOpenGL                           3.1.7\n",
            "pyOpenSSL                          24.2.1\n",
            "pyparsing                          3.2.0\n",
            "pyperclip                          1.9.0\n",
            "pyproj                             3.7.0\n",
            "pyshp                              2.3.1\n",
            "PySocks                            1.7.1\n",
            "pyspark                            3.5.3\n",
            "pytensor                           2.26.3\n",
            "pytest                             8.3.3\n",
            "python-apt                         0.0.0\n",
            "python-box                         7.2.0\n",
            "python-dateutil                    2.8.2\n",
            "python-louvain                     0.16\n",
            "python-slugify                     8.0.4\n",
            "python-utils                       3.9.0\n",
            "pytz                               2024.2\n",
            "pyviz_comms                        3.0.3\n",
            "PyYAML                             6.0.2\n",
            "pyzmq                              24.0.1\n",
            "qdldl                              0.1.7.post4\n",
            "ratelim                            0.1.6\n",
            "referencing                        0.35.1\n",
            "regex                              2024.9.11\n",
            "requests                           2.32.3\n",
            "requests-oauthlib                  1.3.1\n",
            "requests-toolbelt                  1.0.0\n",
            "requirements-parser                0.9.0\n",
            "rich                               13.9.4\n",
            "rmm-cu12                           24.10.0\n",
            "rpds-py                            0.21.0\n",
            "rpy2                               3.4.2\n",
            "rsa                                4.9\n",
            "safetensors                        0.4.5\n",
            "scikit-image                       0.24.0\n",
            "scikit-learn                       1.5.2\n",
            "scipy                              1.13.1\n",
            "scooby                             0.10.0\n",
            "scs                                3.2.7\n",
            "seaborn                            0.13.2\n",
            "SecretStorage                      3.3.1\n",
            "Send2Trash                         1.8.3\n",
            "sentence-transformers              3.2.1\n",
            "sentencepiece                      0.2.0\n",
            "sentry-sdk                         2.18.0\n",
            "setproctitle                       1.3.4\n",
            "setuptools                         75.1.0\n",
            "shap                               0.46.0\n",
            "shapely                            2.0.6\n",
            "shellingham                        1.5.4\n",
            "simple-parsing                     0.1.6\n",
            "six                                1.16.0\n",
            "sklearn-pandas                     2.2.0\n",
            "slicer                             0.0.8\n",
            "smart-open                         7.0.5\n",
            "smmap                              5.0.1\n",
            "sniffio                            1.3.1\n",
            "snowballstemmer                    2.2.0\n",
            "soundfile                          0.12.1\n",
            "soupsieve                          2.6\n",
            "soxr                               0.5.0.post1\n",
            "spacy                              3.7.5\n",
            "spacy-legacy                       3.0.12\n",
            "spacy-loggers                      1.0.5\n",
            "Sphinx                             8.1.3\n",
            "sphinxcontrib-applehelp            2.0.0\n",
            "sphinxcontrib-devhelp              2.0.0\n",
            "sphinxcontrib-htmlhelp             2.1.0\n",
            "sphinxcontrib-jsmath               1.0.1\n",
            "sphinxcontrib-qthelp               2.0.0\n",
            "sphinxcontrib-serializinghtml      2.0.0\n",
            "SQLAlchemy                         2.0.36\n",
            "sqlglot                            25.1.0\n",
            "sqlparse                           0.5.2\n",
            "srsly                              2.4.8\n",
            "stanio                             0.5.1\n",
            "statsmodels                        0.14.4\n",
            "StrEnum                            0.4.15\n",
            "stringzilla                        3.10.10\n",
            "sympy                              1.13.1\n",
            "tables                             3.10.1\n",
            "tabulate                           0.9.0\n",
            "tbb                                2022.0.0\n",
            "tcmlib                             1.2.0\n",
            "tenacity                           9.0.0\n",
            "tensorboard                        2.17.1\n",
            "tensorboard-data-server            0.7.2\n",
            "tensorflow                         2.17.1\n",
            "tensorflow-datasets                4.9.7\n",
            "tensorflow-hub                     0.16.1\n",
            "tensorflow-io-gcs-filesystem       0.37.1\n",
            "tensorflow-metadata                1.13.1\n",
            "tensorflow-probability             0.24.0\n",
            "tensorstore                        0.1.68\n",
            "termcolor                          2.5.0\n",
            "terminado                          0.18.1\n",
            "text-unidecode                     1.3\n",
            "textblob                           0.17.1\n",
            "tf_keras                           2.17.0\n",
            "tf-slim                            1.1.0\n",
            "thinc                              8.2.5\n",
            "threadpoolctl                      3.5.0\n",
            "tifffile                           2024.9.20\n",
            "timm                               1.0.11\n",
            "tinycss2                           1.4.0\n",
            "tokenizers                         0.20.3\n",
            "toml                               0.10.2\n",
            "tomli                              2.1.0\n",
            "toolz                              0.12.1\n",
            "torch                              2.5.1+cu121\n",
            "torchaudio                         2.5.1+cu121\n",
            "torchsummary                       1.5.1\n",
            "torchvision                        0.20.1+cu121\n",
            "tornado                            6.3.3\n",
            "tqdm                               4.66.6\n",
            "traitlets                          5.7.1\n",
            "traittypes                         0.2.1\n",
            "transformers                       4.46.2\n",
            "tweepy                             4.14.0\n",
            "typeguard                          4.4.1\n",
            "typer                              0.13.0\n",
            "types-pytz                         2024.2.0.20241003\n",
            "types-setuptools                   75.5.0.20241122\n",
            "typing_extensions                  4.12.2\n",
            "tzdata                             2024.2\n",
            "tzlocal                            5.2\n",
            "uc-micro-py                        1.0.3\n",
            "umf                                0.9.0\n",
            "uritemplate                        4.1.1\n",
            "urllib3                            2.2.3\n",
            "vega-datasets                      0.9.0\n",
            "wadllib                            1.3.6\n",
            "wandb                              0.18.7\n",
            "wasabi                             1.1.3\n",
            "wcwidth                            0.2.13\n",
            "weasel                             0.4.1\n",
            "webcolors                          24.11.1\n",
            "webencodings                       0.5.1\n",
            "websocket-client                   1.8.0\n",
            "Werkzeug                           3.1.3\n",
            "wheel                              0.45.0\n",
            "widgetsnbextension                 3.6.10\n",
            "wordcloud                          1.9.4\n",
            "wrapt                              1.16.0\n",
            "xarray                             2024.10.0\n",
            "xarray-einstats                    0.8.0\n",
            "xgboost                            2.1.2\n",
            "xlrd                               2.0.1\n",
            "xyzservices                        2024.9.0\n",
            "yarl                               1.17.2\n",
            "yellowbrick                        1.5\n",
            "yfinance                           0.2.49\n",
            "zipp                               3.21.0\n"
          ]
        }
      ]
    },
    {
      "cell_type": "code",
      "source": [
        "%pip install opencv-python matplotlib imageio gdown tensorflow"
      ],
      "metadata": {
        "tags": [],
        "execution": {
          "iopub.status.busy": "2023-11-16T01:01:19.286574Z",
          "iopub.execute_input": "2023-11-16T01:01:19.286879Z",
          "iopub.status.idle": "2023-11-16T01:01:31.565919Z",
          "shell.execute_reply.started": "2023-11-16T01:01:19.286851Z",
          "shell.execute_reply": "2023-11-16T01:01:31.564810Z"
        },
        "trusted": true,
        "id": "cHPkjGpc7tiR",
        "outputId": "c9d6939c-9f1a-4c0c-85de-512dc3ca992c"
      },
      "execution_count": null,
      "outputs": [
        {
          "name": "stdout",
          "text": "Requirement already satisfied: opencv-python in /opt/conda/lib/python3.10/site-packages (4.8.0.76)\nRequirement already satisfied: matplotlib in /opt/conda/lib/python3.10/site-packages (3.7.2)\nRequirement already satisfied: imageio in /opt/conda/lib/python3.10/site-packages (2.31.1)\nCollecting gdown\n  Downloading gdown-4.7.1-py3-none-any.whl (15 kB)\nRequirement already satisfied: tensorflow in /opt/conda/lib/python3.10/site-packages (2.12.0)\nRequirement already satisfied: numpy>=1.21.2 in /opt/conda/lib/python3.10/site-packages (from opencv-python) (1.23.5)\nRequirement already satisfied: contourpy>=1.0.1 in /opt/conda/lib/python3.10/site-packages (from matplotlib) (1.1.0)\nRequirement already satisfied: cycler>=0.10 in /opt/conda/lib/python3.10/site-packages (from matplotlib) (0.11.0)\nRequirement already satisfied: fonttools>=4.22.0 in /opt/conda/lib/python3.10/site-packages (from matplotlib) (4.40.0)\nRequirement already satisfied: kiwisolver>=1.0.1 in /opt/conda/lib/python3.10/site-packages (from matplotlib) (1.4.4)\nRequirement already satisfied: packaging>=20.0 in /opt/conda/lib/python3.10/site-packages (from matplotlib) (21.3)\nRequirement already satisfied: pillow>=6.2.0 in /opt/conda/lib/python3.10/site-packages (from matplotlib) (9.5.0)\nRequirement already satisfied: pyparsing<3.1,>=2.3.1 in /opt/conda/lib/python3.10/site-packages (from matplotlib) (3.0.9)\nRequirement already satisfied: python-dateutil>=2.7 in /opt/conda/lib/python3.10/site-packages (from matplotlib) (2.8.2)\nRequirement already satisfied: filelock in /opt/conda/lib/python3.10/site-packages (from gdown) (3.12.2)\nRequirement already satisfied: requests[socks] in /opt/conda/lib/python3.10/site-packages (from gdown) (2.31.0)\nRequirement already satisfied: six in /opt/conda/lib/python3.10/site-packages (from gdown) (1.16.0)\nRequirement already satisfied: tqdm in /opt/conda/lib/python3.10/site-packages (from gdown) (4.66.1)\nRequirement already satisfied: beautifulsoup4 in /opt/conda/lib/python3.10/site-packages (from gdown) (4.12.2)\nRequirement already satisfied: absl-py>=1.0.0 in /opt/conda/lib/python3.10/site-packages (from tensorflow) (1.4.0)\nRequirement already satisfied: astunparse>=1.6.0 in /opt/conda/lib/python3.10/site-packages (from tensorflow) (1.6.3)\nRequirement already satisfied: flatbuffers>=2.0 in /opt/conda/lib/python3.10/site-packages (from tensorflow) (23.5.26)\nRequirement already satisfied: gast<=0.4.0,>=0.2.1 in /opt/conda/lib/python3.10/site-packages (from tensorflow) (0.4.0)\nRequirement already satisfied: google-pasta>=0.1.1 in /opt/conda/lib/python3.10/site-packages (from tensorflow) (0.2.0)\nRequirement already satisfied: grpcio<2.0,>=1.24.3 in /opt/conda/lib/python3.10/site-packages (from tensorflow) (1.51.1)\nRequirement already satisfied: h5py>=2.9.0 in /opt/conda/lib/python3.10/site-packages (from tensorflow) (3.9.0)\nRequirement already satisfied: jax>=0.3.15 in /opt/conda/lib/python3.10/site-packages (from tensorflow) (0.4.13)\nRequirement already satisfied: keras<2.13,>=2.12.0 in /opt/conda/lib/python3.10/site-packages (from tensorflow) (2.12.0)\nRequirement already satisfied: libclang>=13.0.0 in /opt/conda/lib/python3.10/site-packages (from tensorflow) (16.0.0)\nRequirement already satisfied: opt-einsum>=2.3.2 in /opt/conda/lib/python3.10/site-packages (from tensorflow) (3.3.0)\nRequirement already satisfied: protobuf!=4.21.0,!=4.21.1,!=4.21.2,!=4.21.3,!=4.21.4,!=4.21.5,<5.0.0dev,>=3.20.3 in /opt/conda/lib/python3.10/site-packages (from tensorflow) (3.20.3)\nRequirement already satisfied: setuptools in /opt/conda/lib/python3.10/site-packages (from tensorflow) (68.0.0)\nRequirement already satisfied: tensorboard<2.13,>=2.12 in /opt/conda/lib/python3.10/site-packages (from tensorflow) (2.12.3)\nRequirement already satisfied: tensorflow-estimator<2.13,>=2.12.0 in /opt/conda/lib/python3.10/site-packages (from tensorflow) (2.12.0)\nRequirement already satisfied: termcolor>=1.1.0 in /opt/conda/lib/python3.10/site-packages (from tensorflow) (2.3.0)\nRequirement already satisfied: typing-extensions>=3.6.6 in /opt/conda/lib/python3.10/site-packages (from tensorflow) (4.6.3)\nRequirement already satisfied: wrapt<1.15,>=1.11.0 in /opt/conda/lib/python3.10/site-packages (from tensorflow) (1.14.1)\nRequirement already satisfied: tensorflow-io-gcs-filesystem>=0.23.1 in /opt/conda/lib/python3.10/site-packages (from tensorflow) (0.32.0)\nRequirement already satisfied: wheel<1.0,>=0.23.0 in /opt/conda/lib/python3.10/site-packages (from astunparse>=1.6.0->tensorflow) (0.40.0)\nRequirement already satisfied: ml-dtypes>=0.1.0 in /opt/conda/lib/python3.10/site-packages (from jax>=0.3.15->tensorflow) (0.2.0)\nRequirement already satisfied: scipy>=1.7 in /opt/conda/lib/python3.10/site-packages (from jax>=0.3.15->tensorflow) (1.11.2)\nRequirement already satisfied: google-auth<3,>=1.6.3 in /opt/conda/lib/python3.10/site-packages (from tensorboard<2.13,>=2.12->tensorflow) (2.20.0)\nRequirement already satisfied: google-auth-oauthlib<1.1,>=0.5 in /opt/conda/lib/python3.10/site-packages (from tensorboard<2.13,>=2.12->tensorflow) (1.0.0)\nRequirement already satisfied: markdown>=2.6.8 in /opt/conda/lib/python3.10/site-packages (from tensorboard<2.13,>=2.12->tensorflow) (3.4.3)\nRequirement already satisfied: tensorboard-data-server<0.8.0,>=0.7.0 in /opt/conda/lib/python3.10/site-packages (from tensorboard<2.13,>=2.12->tensorflow) (0.7.1)\nRequirement already satisfied: werkzeug>=1.0.1 in /opt/conda/lib/python3.10/site-packages (from tensorboard<2.13,>=2.12->tensorflow) (2.3.7)\nRequirement already satisfied: soupsieve>1.2 in /opt/conda/lib/python3.10/site-packages (from beautifulsoup4->gdown) (2.3.2.post1)\nRequirement already satisfied: charset-normalizer<4,>=2 in /opt/conda/lib/python3.10/site-packages (from requests[socks]->gdown) (3.1.0)\nRequirement already satisfied: idna<4,>=2.5 in /opt/conda/lib/python3.10/site-packages (from requests[socks]->gdown) (3.4)\nRequirement already satisfied: urllib3<3,>=1.21.1 in /opt/conda/lib/python3.10/site-packages (from requests[socks]->gdown) (1.26.15)\nRequirement already satisfied: certifi>=2017.4.17 in /opt/conda/lib/python3.10/site-packages (from requests[socks]->gdown) (2023.7.22)\nRequirement already satisfied: PySocks!=1.5.7,>=1.5.6 in /opt/conda/lib/python3.10/site-packages (from requests[socks]->gdown) (1.7.1)\nRequirement already satisfied: cachetools<6.0,>=2.0.0 in /opt/conda/lib/python3.10/site-packages (from google-auth<3,>=1.6.3->tensorboard<2.13,>=2.12->tensorflow) (4.2.4)\nRequirement already satisfied: pyasn1-modules>=0.2.1 in /opt/conda/lib/python3.10/site-packages (from google-auth<3,>=1.6.3->tensorboard<2.13,>=2.12->tensorflow) (0.2.7)\nRequirement already satisfied: rsa<5,>=3.1.4 in /opt/conda/lib/python3.10/site-packages (from google-auth<3,>=1.6.3->tensorboard<2.13,>=2.12->tensorflow) (4.9)\nRequirement already satisfied: requests-oauthlib>=0.7.0 in /opt/conda/lib/python3.10/site-packages (from google-auth-oauthlib<1.1,>=0.5->tensorboard<2.13,>=2.12->tensorflow) (1.3.1)\nRequirement already satisfied: MarkupSafe>=2.1.1 in /opt/conda/lib/python3.10/site-packages (from werkzeug>=1.0.1->tensorboard<2.13,>=2.12->tensorflow) (2.1.3)\nRequirement already satisfied: pyasn1<0.5.0,>=0.4.6 in /opt/conda/lib/python3.10/site-packages (from pyasn1-modules>=0.2.1->google-auth<3,>=1.6.3->tensorboard<2.13,>=2.12->tensorflow) (0.4.8)\nRequirement already satisfied: oauthlib>=3.0.0 in /opt/conda/lib/python3.10/site-packages (from requests-oauthlib>=0.7.0->google-auth-oauthlib<1.1,>=0.5->tensorboard<2.13,>=2.12->tensorflow) (3.2.2)\nInstalling collected packages: gdown\nSuccessfully installed gdown-4.7.1\nNote: you may need to restart the kernel to use updated packages.\n",
          "output_type": "stream"
        }
      ]
    },
    {
      "cell_type": "code",
      "source": [
        "import os\n",
        "import cv2\n",
        "import tensorflow as tf\n",
        "import numpy as np\n",
        "from typing import List\n",
        "from matplotlib import pyplot as plt\n"
      ],
      "metadata": {
        "tags": [],
        "execution": {
          "iopub.status.busy": "2023-11-16T01:01:31.568504Z",
          "iopub.execute_input": "2023-11-16T01:01:31.569275Z",
          "iopub.status.idle": "2023-11-16T01:01:39.424403Z",
          "shell.execute_reply.started": "2023-11-16T01:01:31.569244Z",
          "shell.execute_reply": "2023-11-16T01:01:39.423624Z"
        },
        "trusted": true,
        "id": "XvJvLP397tiS"
      },
      "execution_count": 2,
      "outputs": []
    },
    {
      "cell_type": "code",
      "source": [
        "import imageio"
      ],
      "metadata": {
        "execution": {
          "iopub.status.busy": "2023-11-16T01:01:39.426957Z",
          "iopub.execute_input": "2023-11-16T01:01:39.427676Z",
          "iopub.status.idle": "2023-11-16T01:01:39.495305Z",
          "shell.execute_reply.started": "2023-11-16T01:01:39.427634Z",
          "shell.execute_reply": "2023-11-16T01:01:39.494577Z"
        },
        "trusted": true,
        "id": "AJyziGx87tiS"
      },
      "execution_count": 3,
      "outputs": []
    },
    {
      "cell_type": "code",
      "source": [
        "tf.config.list_physical_devices('GPU')"
      ],
      "metadata": {
        "execution": {
          "iopub.status.busy": "2023-11-16T01:01:39.496389Z",
          "iopub.execute_input": "2023-11-16T01:01:39.496715Z",
          "iopub.status.idle": "2023-11-16T01:01:39.827526Z",
          "shell.execute_reply.started": "2023-11-16T01:01:39.496687Z",
          "shell.execute_reply": "2023-11-16T01:01:39.826489Z"
        },
        "trusted": true,
        "id": "kBvizLuv7tiT",
        "outputId": "afae112d-7155-40c1-8e95-74d770663704",
        "colab": {
          "base_uri": "https://localhost:8080/"
        }
      },
      "execution_count": 4,
      "outputs": [
        {
          "output_type": "execute_result",
          "data": {
            "text/plain": [
              "[]"
            ]
          },
          "metadata": {},
          "execution_count": 4
        }
      ]
    },
    {
      "cell_type": "code",
      "source": [
        "physical_devices = tf.config.list_physical_devices('GPU')\n",
        "try:\n",
        "    tf.config.experimental.set_memory_growth(physical_devices[0], True)\n",
        "except:\n",
        "    pass"
      ],
      "metadata": {
        "tags": [],
        "execution": {
          "iopub.status.busy": "2023-11-16T01:01:39.828983Z",
          "iopub.execute_input": "2023-11-16T01:01:39.829843Z",
          "iopub.status.idle": "2023-11-16T01:01:39.836424Z",
          "shell.execute_reply.started": "2023-11-16T01:01:39.829805Z",
          "shell.execute_reply": "2023-11-16T01:01:39.835564Z"
        },
        "trusted": true,
        "id": "1s4dfwzL7tiT"
      },
      "execution_count": 5,
      "outputs": []
    },
    {
      "cell_type": "markdown",
      "source": [
        "# 1. Build Data Loading Functions"
      ],
      "metadata": {
        "tags": [],
        "id": "XylpUMdj7tiT"
      }
    },
    {
      "cell_type": "code",
      "source": [
        "import gdown"
      ],
      "metadata": {
        "tags": [],
        "execution": {
          "iopub.status.busy": "2023-11-16T01:01:39.837750Z",
          "iopub.execute_input": "2023-11-16T01:01:39.838469Z",
          "iopub.status.idle": "2023-11-16T01:01:40.019714Z",
          "shell.execute_reply.started": "2023-11-16T01:01:39.838420Z",
          "shell.execute_reply": "2023-11-16T01:01:40.018899Z"
        },
        "trusted": true,
        "id": "KSIS3bWr7tiU"
      },
      "execution_count": 6,
      "outputs": []
    },
    {
      "cell_type": "code",
      "source": [
        "url = 'https://drive.google.com/uc?id=1YlvpDLix3S-U8fd-gqRwPcWXAXm8JwjL'\n",
        "output = 'data.zip'\n",
        "gdown.download(url, output, quiet=False)\n",
        "gdown.extractall('data.zip')"
      ],
      "metadata": {
        "execution": {
          "iopub.status.busy": "2023-11-16T01:01:40.021138Z",
          "iopub.execute_input": "2023-11-16T01:01:40.021974Z",
          "iopub.status.idle": "2023-11-16T01:02:02.192867Z",
          "shell.execute_reply.started": "2023-11-16T01:01:40.021938Z",
          "shell.execute_reply": "2023-11-16T01:02:02.191833Z"
        },
        "trusted": true,
        "id": "U_8A4pOF7tiV",
        "outputId": "223864e1-78ea-4173-dcc6-27717a212b47",
        "colab": {
          "base_uri": "https://localhost:8080/"
        }
      },
      "execution_count": 7,
      "outputs": [
        {
          "output_type": "stream",
          "name": "stderr",
          "text": [
            "Downloading...\n",
            "From (original): https://drive.google.com/uc?id=1YlvpDLix3S-U8fd-gqRwPcWXAXm8JwjL\n",
            "From (redirected): https://drive.google.com/uc?id=1YlvpDLix3S-U8fd-gqRwPcWXAXm8JwjL&confirm=t&uuid=7e2ad44b-f8aa-4ca2-88fc-61ef98c81383\n",
            "To: /content/data.zip\n",
            "100%|██████████| 423M/423M [00:06<00:00, 62.9MB/s]\n"
          ]
        },
        {
          "output_type": "execute_result",
          "data": {
            "text/plain": [
              "['data/',\n",
              " 'data/alignments/',\n",
              " 'data/alignments/s1/',\n",
              " 'data/alignments/s1/bbaf2n.align',\n",
              " 'data/alignments/s1/bbaf3s.align',\n",
              " 'data/alignments/s1/bbaf4p.align',\n",
              " 'data/alignments/s1/bbaf5a.align',\n",
              " 'data/alignments/s1/bbal6n.align',\n",
              " 'data/alignments/s1/bbal7s.align',\n",
              " 'data/alignments/s1/bbal8p.align',\n",
              " 'data/alignments/s1/bbal9a.align',\n",
              " 'data/alignments/s1/bbas1s.align',\n",
              " 'data/alignments/s1/bbas2p.align',\n",
              " 'data/alignments/s1/bbas3a.align',\n",
              " 'data/alignments/s1/bbaszn.align',\n",
              " 'data/alignments/s1/bbaz4n.align',\n",
              " 'data/alignments/s1/bbaz5s.align',\n",
              " 'data/alignments/s1/bbaz6p.align',\n",
              " 'data/alignments/s1/bbaz7a.align',\n",
              " 'data/alignments/s1/bbbf6n.align',\n",
              " 'data/alignments/s1/bbbf7s.align',\n",
              " 'data/alignments/s1/bbbf8p.align',\n",
              " 'data/alignments/s1/bbbf9a.align',\n",
              " 'data/alignments/s1/bbbm1s.align',\n",
              " 'data/alignments/s1/bbbm2p.align',\n",
              " 'data/alignments/s1/bbbm3a.align',\n",
              " 'data/alignments/s1/bbbmzn.align',\n",
              " 'data/alignments/s1/bbbs4n.align',\n",
              " 'data/alignments/s1/bbbs5s.align',\n",
              " 'data/alignments/s1/bbbs6p.align',\n",
              " 'data/alignments/s1/bbbs7a.align',\n",
              " 'data/alignments/s1/bbbz8n.align',\n",
              " 'data/alignments/s1/bbbz9s.align',\n",
              " 'data/alignments/s1/bbie8n.align',\n",
              " 'data/alignments/s1/bbie9s.align',\n",
              " 'data/alignments/s1/bbif1a.align',\n",
              " 'data/alignments/s1/bbifzp.align',\n",
              " 'data/alignments/s1/bbil2n.align',\n",
              " 'data/alignments/s1/bbil3s.align',\n",
              " 'data/alignments/s1/bbil4p.align',\n",
              " 'data/alignments/s1/bbil5a.align',\n",
              " 'data/alignments/s1/bbir6n.align',\n",
              " 'data/alignments/s1/bbir7s.align',\n",
              " 'data/alignments/s1/bbir8p.align',\n",
              " 'data/alignments/s1/bbir9a.align',\n",
              " 'data/alignments/s1/bbiz1s.align',\n",
              " 'data/alignments/s1/bbiz2p.align',\n",
              " 'data/alignments/s1/bbiz3a.align',\n",
              " 'data/alignments/s1/bbizzn.align',\n",
              " 'data/alignments/s1/bbwg1s.align',\n",
              " 'data/alignments/s1/bbwg2p.align',\n",
              " 'data/alignments/s1/bbwg3a.align',\n",
              " 'data/alignments/s1/bbwgzn.align',\n",
              " 'data/alignments/s1/bbwm4n.align',\n",
              " 'data/alignments/s1/bbwm5s.align',\n",
              " 'data/alignments/s1/bbwm6p.align',\n",
              " 'data/alignments/s1/bbwm7a.align',\n",
              " 'data/alignments/s1/bbws8n.align',\n",
              " 'data/alignments/s1/bbws9s.align',\n",
              " 'data/alignments/s1/bbwt1a.align',\n",
              " 'data/alignments/s1/bbwtzp.align',\n",
              " 'data/alignments/s1/bgaa6n.align',\n",
              " 'data/alignments/s1/bgaa7s.align',\n",
              " 'data/alignments/s1/bgaa8p.align',\n",
              " 'data/alignments/s1/bgaa9a.align',\n",
              " 'data/alignments/s1/bgah1s.align',\n",
              " 'data/alignments/s1/bgah2p.align',\n",
              " 'data/alignments/s1/bgah3a.align',\n",
              " 'data/alignments/s1/bgahzn.align',\n",
              " 'data/alignments/s1/bgan4n.align',\n",
              " 'data/alignments/s1/bgan5s.align',\n",
              " 'data/alignments/s1/bgan6p.align',\n",
              " 'data/alignments/s1/bgan7a.align',\n",
              " 'data/alignments/s1/bgat8n.align',\n",
              " 'data/alignments/s1/bgat9s.align',\n",
              " 'data/alignments/s1/bgau1a.align',\n",
              " 'data/alignments/s1/bgauzp.align',\n",
              " 'data/alignments/s1/bgbb1s.align',\n",
              " 'data/alignments/s1/bgbb2p.align',\n",
              " 'data/alignments/s1/bgbb3a.align',\n",
              " 'data/alignments/s1/bgbbzn.align',\n",
              " 'data/alignments/s1/bgbh4n.align',\n",
              " 'data/alignments/s1/bgbh5s.align',\n",
              " 'data/alignments/s1/bgbh6p.align',\n",
              " 'data/alignments/s1/bgbh7a.align',\n",
              " 'data/alignments/s1/bgbn8n.align',\n",
              " 'data/alignments/s1/bgbn9s.align',\n",
              " 'data/alignments/s1/bgbo1a.align',\n",
              " 'data/alignments/s1/bgbozp.align',\n",
              " 'data/alignments/s1/bgbu2n.align',\n",
              " 'data/alignments/s1/bgbu3s.align',\n",
              " 'data/alignments/s1/bgbu4p.align',\n",
              " 'data/alignments/s1/bgbu5a.align',\n",
              " 'data/alignments/s1/bgia2n.align',\n",
              " 'data/alignments/s1/bgia3s.align',\n",
              " 'data/alignments/s1/bgia4p.align',\n",
              " 'data/alignments/s1/bgia5a.align',\n",
              " 'data/alignments/s1/bgig6n.align',\n",
              " 'data/alignments/s1/bgig7s.align',\n",
              " 'data/alignments/s1/bgig8p.align',\n",
              " 'data/alignments/s1/bgig9a.align',\n",
              " 'data/alignments/s1/bgin1s.align',\n",
              " 'data/alignments/s1/bgin2p.align',\n",
              " 'data/alignments/s1/bgin3a.align',\n",
              " 'data/alignments/s1/bginzn.align',\n",
              " 'data/alignments/s1/bgit4n.align',\n",
              " 'data/alignments/s1/bgit5s.align',\n",
              " 'data/alignments/s1/bgit6p.align',\n",
              " 'data/alignments/s1/bgit7a.align',\n",
              " 'data/alignments/s1/bgwb4n.align',\n",
              " 'data/alignments/s1/bgwb5s.align',\n",
              " 'data/alignments/s1/bgwb6p.align',\n",
              " 'data/alignments/s1/bgwb7a.align',\n",
              " 'data/alignments/s1/bgwh8n.align',\n",
              " 'data/alignments/s1/bgwh9s.align',\n",
              " 'data/alignments/s1/bgwi1a.align',\n",
              " 'data/alignments/s1/bgwizp.align',\n",
              " 'data/alignments/s1/bgwo2n.align',\n",
              " 'data/alignments/s1/bgwo3s.align',\n",
              " 'data/alignments/s1/bgwo4p.align',\n",
              " 'data/alignments/s1/bgwo5a.align',\n",
              " 'data/alignments/s1/bgwu6n.align',\n",
              " 'data/alignments/s1/bgwu7s.align',\n",
              " 'data/alignments/s1/bgwu8p.align',\n",
              " 'data/alignments/s1/bgwu9a.align',\n",
              " 'data/alignments/s1/braf8n.align',\n",
              " 'data/alignments/s1/braf9s.align',\n",
              " 'data/alignments/s1/brag1a.align',\n",
              " 'data/alignments/s1/bragzp.align',\n",
              " 'data/alignments/s1/bram2n.align',\n",
              " 'data/alignments/s1/bram3s.align',\n",
              " 'data/alignments/s1/bram4p.align',\n",
              " 'data/alignments/s1/bram5a.align',\n",
              " 'data/alignments/s1/bras6n.align',\n",
              " 'data/alignments/s1/bras7s.align',\n",
              " 'data/alignments/s1/bras8p.align',\n",
              " 'data/alignments/s1/bras9a.align',\n",
              " 'data/alignments/s1/brba1a.align',\n",
              " 'data/alignments/s1/brbazp.align',\n",
              " 'data/alignments/s1/brbg2n.align',\n",
              " 'data/alignments/s1/brbg3s.align',\n",
              " 'data/alignments/s1/brbg4p.align',\n",
              " 'data/alignments/s1/brbg5a.align',\n",
              " 'data/alignments/s1/brbm6n.align',\n",
              " 'data/alignments/s1/brbm7s.align',\n",
              " 'data/alignments/s1/brbm8p.align',\n",
              " 'data/alignments/s1/brbm9a.align',\n",
              " 'data/alignments/s1/brbt1s.align',\n",
              " 'data/alignments/s1/brbt2p.align',\n",
              " 'data/alignments/s1/brbt3a.align',\n",
              " 'data/alignments/s1/brbtzn.align',\n",
              " 'data/alignments/s1/brif4n.align',\n",
              " 'data/alignments/s1/brif5s.align',\n",
              " 'data/alignments/s1/brif6p.align',\n",
              " 'data/alignments/s1/brif7a.align',\n",
              " 'data/alignments/s1/bril8n.align',\n",
              " 'data/alignments/s1/bril9s.align',\n",
              " 'data/alignments/s1/brim1a.align',\n",
              " 'data/alignments/s1/brimzp.align',\n",
              " 'data/alignments/s1/bris2n.align',\n",
              " 'data/alignments/s1/bris3s.align',\n",
              " 'data/alignments/s1/bris4p.align',\n",
              " 'data/alignments/s1/bris5a.align',\n",
              " 'data/alignments/s1/briz6n.align',\n",
              " 'data/alignments/s1/briz7s.align',\n",
              " 'data/alignments/s1/briz8p.align',\n",
              " 'data/alignments/s1/briz9a.align',\n",
              " 'data/alignments/s1/brwa2n.align',\n",
              " 'data/alignments/s1/brwa3s.align',\n",
              " 'data/alignments/s1/brwa4p.align',\n",
              " 'data/alignments/s1/brwa5a.align',\n",
              " 'data/alignments/s1/brwg6n.align',\n",
              " 'data/alignments/s1/brwg7s.align',\n",
              " 'data/alignments/s1/brwg8p.align',\n",
              " 'data/alignments/s1/brwg9a.align',\n",
              " 'data/alignments/s1/brwn1s.align',\n",
              " 'data/alignments/s1/brwn2p.align',\n",
              " 'data/alignments/s1/brwn3a.align',\n",
              " 'data/alignments/s1/brwnzn.align',\n",
              " 'data/alignments/s1/brwt4n.align',\n",
              " 'data/alignments/s1/brwt5s.align',\n",
              " 'data/alignments/s1/brwt6p.align',\n",
              " 'data/alignments/s1/brwt7a.align',\n",
              " 'data/alignments/s1/bwaa1s.align',\n",
              " 'data/alignments/s1/bwaa2p.align',\n",
              " 'data/alignments/s1/bwaa3a.align',\n",
              " 'data/alignments/s1/bwaazn.align',\n",
              " 'data/alignments/s1/bwag4n.align',\n",
              " 'data/alignments/s1/bwag5s.align',\n",
              " 'data/alignments/s1/bwag6p.align',\n",
              " 'data/alignments/s1/bwag7a.align',\n",
              " 'data/alignments/s1/bwam8n.align',\n",
              " 'data/alignments/s1/bwam9s.align',\n",
              " 'data/alignments/s1/bwan1a.align',\n",
              " 'data/alignments/s1/bwanzp.align',\n",
              " 'data/alignments/s1/bwat2n.align',\n",
              " 'data/alignments/s1/bwat3s.align',\n",
              " 'data/alignments/s1/bwat4p.align',\n",
              " 'data/alignments/s1/bwat5a.align',\n",
              " 'data/alignments/s1/bwba4n.align',\n",
              " 'data/alignments/s1/bwba5s.align',\n",
              " 'data/alignments/s1/bwba6p.align',\n",
              " 'data/alignments/s1/bwba7a.align',\n",
              " 'data/alignments/s1/bwbg8n.align',\n",
              " 'data/alignments/s1/bwbg9s.align',\n",
              " 'data/alignments/s1/bwbh1a.align',\n",
              " 'data/alignments/s1/bwbhzp.align',\n",
              " 'data/alignments/s1/bwbn2n.align',\n",
              " 'data/alignments/s1/bwbn3s.align',\n",
              " 'data/alignments/s1/bwbn4p.align',\n",
              " 'data/alignments/s1/bwbn5a.align',\n",
              " 'data/alignments/s1/bwbt6n.align',\n",
              " 'data/alignments/s1/bwbt7s.align',\n",
              " 'data/alignments/s1/bwbt8p.align',\n",
              " 'data/alignments/s1/bwbt9a.align',\n",
              " 'data/alignments/s1/bwig1s.align',\n",
              " 'data/alignments/s1/bwig2p.align',\n",
              " 'data/alignments/s1/bwig3a.align',\n",
              " 'data/alignments/s1/bwigzn.align',\n",
              " 'data/alignments/s1/bwim4n.align',\n",
              " 'data/alignments/s1/bwim5s.align',\n",
              " 'data/alignments/s1/bwim6p.align',\n",
              " 'data/alignments/s1/bwim7a.align',\n",
              " 'data/alignments/s1/bwis8n.align',\n",
              " 'data/alignments/s1/bwis9s.align',\n",
              " 'data/alignments/s1/bwit1a.align',\n",
              " 'data/alignments/s1/bwitzp.align',\n",
              " 'data/alignments/s1/bwwa8n.align',\n",
              " 'data/alignments/s1/bwwa9s.align',\n",
              " 'data/alignments/s1/bwwb1a.align',\n",
              " 'data/alignments/s1/bwwbzp.align',\n",
              " 'data/alignments/s1/bwwh2n.align',\n",
              " 'data/alignments/s1/bwwh3s.align',\n",
              " 'data/alignments/s1/bwwh4p.align',\n",
              " 'data/alignments/s1/bwwh5a.align',\n",
              " 'data/alignments/s1/bwwn6n.align',\n",
              " 'data/alignments/s1/bwwn7s.align',\n",
              " 'data/alignments/s1/bwwn8p.align',\n",
              " 'data/alignments/s1/bwwn9a.align',\n",
              " 'data/alignments/s1/bwwu1s.align',\n",
              " 'data/alignments/s1/bwwu2p.align',\n",
              " 'data/alignments/s1/bwwu3a.align',\n",
              " 'data/alignments/s1/bwwuzn.align',\n",
              " 'data/alignments/s1/lbad6n.align',\n",
              " 'data/alignments/s1/lbad7s.align',\n",
              " 'data/alignments/s1/lbad8p.align',\n",
              " 'data/alignments/s1/lbad9a.align',\n",
              " 'data/alignments/s1/lbak1s.align',\n",
              " 'data/alignments/s1/lbak2p.align',\n",
              " 'data/alignments/s1/lbak3a.align',\n",
              " 'data/alignments/s1/lbakzn.align',\n",
              " 'data/alignments/s1/lbaq4n.align',\n",
              " 'data/alignments/s1/lbaq5s.align',\n",
              " 'data/alignments/s1/lbaq6p.align',\n",
              " 'data/alignments/s1/lbaq7a.align',\n",
              " 'data/alignments/s1/lbax8n.align',\n",
              " 'data/alignments/s1/lbax9s.align',\n",
              " 'data/alignments/s1/lbay1a.align',\n",
              " 'data/alignments/s1/lbayzp.align',\n",
              " 'data/alignments/s1/lbbe1s.align',\n",
              " 'data/alignments/s1/lbbe2p.align',\n",
              " 'data/alignments/s1/lbbe3a.align',\n",
              " 'data/alignments/s1/lbbezn.align',\n",
              " 'data/alignments/s1/lbbk4n.align',\n",
              " 'data/alignments/s1/lbbk5s.align',\n",
              " 'data/alignments/s1/lbbk6p.align',\n",
              " 'data/alignments/s1/lbbk7a.align',\n",
              " 'data/alignments/s1/lbbq8n.align',\n",
              " 'data/alignments/s1/lbbq9s.align',\n",
              " 'data/alignments/s1/lbbr1a.align',\n",
              " 'data/alignments/s1/lbbrzp.align',\n",
              " 'data/alignments/s1/lbby2n.align',\n",
              " 'data/alignments/s1/lbby3s.align',\n",
              " 'data/alignments/s1/lbby4p.align',\n",
              " 'data/alignments/s1/lbby5a.align',\n",
              " 'data/alignments/s1/lbid2n.align',\n",
              " 'data/alignments/s1/lbid3s.align',\n",
              " 'data/alignments/s1/lbid4p.align',\n",
              " 'data/alignments/s1/lbid5a.align',\n",
              " 'data/alignments/s1/lbij6n.align',\n",
              " 'data/alignments/s1/lbij7s.align',\n",
              " 'data/alignments/s1/lbij8p.align',\n",
              " 'data/alignments/s1/lbij9a.align',\n",
              " 'data/alignments/s1/lbiq1s.align',\n",
              " 'data/alignments/s1/lbiq2p.align',\n",
              " 'data/alignments/s1/lbiq3a.align',\n",
              " 'data/alignments/s1/lbiqzn.align',\n",
              " 'data/alignments/s1/lbix4n.align',\n",
              " 'data/alignments/s1/lbix5s.align',\n",
              " 'data/alignments/s1/lbix6p.align',\n",
              " 'data/alignments/s1/lbix7a.align',\n",
              " 'data/alignments/s1/lbwe4n.align',\n",
              " 'data/alignments/s1/lbwe5s.align',\n",
              " 'data/alignments/s1/lbwe6p.align',\n",
              " 'data/alignments/s1/lbwe7a.align',\n",
              " 'data/alignments/s1/lbwk8n.align',\n",
              " 'data/alignments/s1/lbwk9s.align',\n",
              " 'data/alignments/s1/lbwl1a.align',\n",
              " 'data/alignments/s1/lbwlzp.align',\n",
              " 'data/alignments/s1/lbwr2n.align',\n",
              " 'data/alignments/s1/lbwr3s.align',\n",
              " 'data/alignments/s1/lbwr4p.align',\n",
              " 'data/alignments/s1/lbwr5a.align',\n",
              " 'data/alignments/s1/lbwy6n.align',\n",
              " 'data/alignments/s1/lbwy7s.align',\n",
              " 'data/alignments/s1/lbwy8p.align',\n",
              " 'data/alignments/s1/lbwy9a.align',\n",
              " 'data/alignments/s1/lgaf4n.align',\n",
              " 'data/alignments/s1/lgaf5s.align',\n",
              " 'data/alignments/s1/lgaf6p.align',\n",
              " 'data/alignments/s1/lgaf7a.align',\n",
              " 'data/alignments/s1/lgal8n.align',\n",
              " 'data/alignments/s1/lgal9s.align',\n",
              " 'data/alignments/s1/lgam1a.align',\n",
              " 'data/alignments/s1/lgamzp.align',\n",
              " 'data/alignments/s1/lgas2n.align',\n",
              " 'data/alignments/s1/lgas3s.align',\n",
              " 'data/alignments/s1/lgas4p.align',\n",
              " 'data/alignments/s1/lgas5a.align',\n",
              " 'data/alignments/s1/lgaz6n.align',\n",
              " 'data/alignments/s1/lgaz7s.align',\n",
              " 'data/alignments/s1/lgaz8p.align',\n",
              " 'data/alignments/s1/lgaz9a.align',\n",
              " 'data/alignments/s1/lgbf8n.align',\n",
              " 'data/alignments/s1/lgbf9s.align',\n",
              " 'data/alignments/s1/lgbg1a.align',\n",
              " 'data/alignments/s1/lgbgzp.align',\n",
              " 'data/alignments/s1/lgbm2n.align',\n",
              " 'data/alignments/s1/lgbm3s.align',\n",
              " 'data/alignments/s1/lgbm4p.align',\n",
              " 'data/alignments/s1/lgbm5a.align',\n",
              " 'data/alignments/s1/lgbs6n.align',\n",
              " 'data/alignments/s1/lgbs7s.align',\n",
              " 'data/alignments/s1/lgbs8p.align',\n",
              " 'data/alignments/s1/lgbs9a.align',\n",
              " 'data/alignments/s1/lgif1s.align',\n",
              " 'data/alignments/s1/lgif2p.align',\n",
              " 'data/alignments/s1/lgif3a.align',\n",
              " 'data/alignments/s1/lgifzn.align',\n",
              " 'data/alignments/s1/lgil4n.align',\n",
              " 'data/alignments/s1/lgil5s.align',\n",
              " 'data/alignments/s1/lgil6p.align',\n",
              " 'data/alignments/s1/lgil7a.align',\n",
              " 'data/alignments/s1/lgir8n.align',\n",
              " 'data/alignments/s1/lgir9s.align',\n",
              " 'data/alignments/s1/lgis1a.align',\n",
              " 'data/alignments/s1/lgiszp.align',\n",
              " 'data/alignments/s1/lgiz2n.align',\n",
              " 'data/alignments/s1/lgiz3s.align',\n",
              " 'data/alignments/s1/lgiz4p.align',\n",
              " 'data/alignments/s1/lgiz5a.align',\n",
              " 'data/alignments/s1/lgwa1a.align',\n",
              " 'data/alignments/s1/lgwazp.align',\n",
              " 'data/alignments/s1/lgwg2n.align',\n",
              " 'data/alignments/s1/lgwg3s.align',\n",
              " 'data/alignments/s1/lgwg4p.align',\n",
              " 'data/alignments/s1/lgwg5a.align',\n",
              " 'data/alignments/s1/lgwm6n.align',\n",
              " 'data/alignments/s1/lgwm7s.align',\n",
              " 'data/alignments/s1/lgwm8p.align',\n",
              " 'data/alignments/s1/lgwm9a.align',\n",
              " 'data/alignments/s1/lgwt1s.align',\n",
              " 'data/alignments/s1/lgwt2p.align',\n",
              " 'data/alignments/s1/lgwt3a.align',\n",
              " 'data/alignments/s1/lgwtzn.align',\n",
              " 'data/alignments/s1/lrae2n.align',\n",
              " 'data/alignments/s1/lrae3s.align',\n",
              " 'data/alignments/s1/lrae4p.align',\n",
              " 'data/alignments/s1/lrae5a.align',\n",
              " 'data/alignments/s1/lrak6n.align',\n",
              " 'data/alignments/s1/lrak7s.align',\n",
              " 'data/alignments/s1/lrak8p.align',\n",
              " 'data/alignments/s1/lrak9a.align',\n",
              " 'data/alignments/s1/lrar1s.align',\n",
              " 'data/alignments/s1/lrar2p.align',\n",
              " 'data/alignments/s1/lrar3a.align',\n",
              " 'data/alignments/s1/lrarzn.align',\n",
              " 'data/alignments/s1/lray4n.align',\n",
              " 'data/alignments/s1/lray5s.align',\n",
              " 'data/alignments/s1/lray6p.align',\n",
              " 'data/alignments/s1/lray7a.align',\n",
              " 'data/alignments/s1/lrbe6n.align',\n",
              " 'data/alignments/s1/lrbe7s.align',\n",
              " 'data/alignments/s1/lrbe8p.align',\n",
              " 'data/alignments/s1/lrbe9a.align',\n",
              " 'data/alignments/s1/lrbl1s.align',\n",
              " 'data/alignments/s1/lrbl2p.align',\n",
              " 'data/alignments/s1/lrbl3a.align',\n",
              " 'data/alignments/s1/lrblzn.align',\n",
              " 'data/alignments/s1/lrbr4n.align',\n",
              " 'data/alignments/s1/lrbr5s.align',\n",
              " 'data/alignments/s1/lrbr6p.align',\n",
              " 'data/alignments/s1/lrbr7a.align',\n",
              " 'data/alignments/s1/lrby8n.align',\n",
              " 'data/alignments/s1/lrby9s.align',\n",
              " 'data/alignments/s1/lrbz1a.align',\n",
              " 'data/alignments/s1/lrbzzp.align',\n",
              " 'data/alignments/s1/lrid8n.align',\n",
              " 'data/alignments/s1/lrid9s.align',\n",
              " 'data/alignments/s1/lrie1a.align',\n",
              " 'data/alignments/s1/lriezp.align',\n",
              " 'data/alignments/s1/lrik2n.align',\n",
              " 'data/alignments/s1/lrik3s.align',\n",
              " 'data/alignments/s1/lrik4p.align',\n",
              " 'data/alignments/s1/lrik5a.align',\n",
              " 'data/alignments/s1/lriq6n.align',\n",
              " 'data/alignments/s1/lriq7s.align',\n",
              " 'data/alignments/s1/lriq8p.align',\n",
              " 'data/alignments/s1/lriq9a.align',\n",
              " 'data/alignments/s1/lriy1s.align',\n",
              " 'data/alignments/s1/lriy2p.align',\n",
              " 'data/alignments/s1/lriy3a.align',\n",
              " 'data/alignments/s1/lriyzn.align',\n",
              " 'data/alignments/s1/lrwf1s.align',\n",
              " 'data/alignments/s1/lrwf2p.align',\n",
              " 'data/alignments/s1/lrwf3a.align',\n",
              " 'data/alignments/s1/lrwfzn.align',\n",
              " 'data/alignments/s1/lrwl4n.align',\n",
              " 'data/alignments/s1/lrwl5s.align',\n",
              " 'data/alignments/s1/lrwl6p.align',\n",
              " 'data/alignments/s1/lrwl7a.align',\n",
              " 'data/alignments/s1/lrwr8n.align',\n",
              " 'data/alignments/s1/lrwr9s.align',\n",
              " 'data/alignments/s1/lrws1a.align',\n",
              " 'data/alignments/s1/lrwszp.align',\n",
              " 'data/alignments/s1/lrwz2n.align',\n",
              " 'data/alignments/s1/lrwz3s.align',\n",
              " 'data/alignments/s1/lrwz4p.align',\n",
              " 'data/alignments/s1/lrwz5a.align',\n",
              " 'data/alignments/s1/lwae8n.align',\n",
              " 'data/alignments/s1/lwae9s.align',\n",
              " 'data/alignments/s1/lwaf1a.align',\n",
              " 'data/alignments/s1/lwafzp.align',\n",
              " 'data/alignments/s1/lwal2n.align',\n",
              " 'data/alignments/s1/lwal3s.align',\n",
              " 'data/alignments/s1/lwal4p.align',\n",
              " 'data/alignments/s1/lwal5a.align',\n",
              " 'data/alignments/s1/lwar6n.align',\n",
              " 'data/alignments/s1/lwar7s.align',\n",
              " 'data/alignments/s1/lwar8p.align',\n",
              " 'data/alignments/s1/lwar9a.align',\n",
              " 'data/alignments/s1/lwaz1s.align',\n",
              " 'data/alignments/s1/lwaz2p.align',\n",
              " 'data/alignments/s1/lwaz3a.align',\n",
              " 'data/alignments/s1/lwazzn.align',\n",
              " 'data/alignments/s1/lwbf2n.align',\n",
              " 'data/alignments/s1/lwbf3s.align',\n",
              " 'data/alignments/s1/lwbf4p.align',\n",
              " 'data/alignments/s1/lwbf5a.align',\n",
              " 'data/alignments/s1/lwbl6n.align',\n",
              " 'data/alignments/s1/lwbl7s.align',\n",
              " 'data/alignments/s1/lwbl8p.align',\n",
              " 'data/alignments/s1/lwbl9a.align',\n",
              " 'data/alignments/s1/lwbs1s.align',\n",
              " 'data/alignments/s1/lwbs2p.align',\n",
              " 'data/alignments/s1/lwbs3a.align',\n",
              " 'data/alignments/s1/lwbszn.align',\n",
              " 'data/alignments/s1/lwbz4n.align',\n",
              " 'data/alignments/s1/lwbz5s.align',\n",
              " 'data/alignments/s1/lwbz6p.align',\n",
              " 'data/alignments/s1/lwbz7a.align',\n",
              " 'data/alignments/s1/lwie4n.align',\n",
              " 'data/alignments/s1/lwie5s.align',\n",
              " 'data/alignments/s1/lwie6p.align',\n",
              " 'data/alignments/s1/lwie7a.align',\n",
              " 'data/alignments/s1/lwik8n.align',\n",
              " 'data/alignments/s1/lwik9s.align',\n",
              " 'data/alignments/s1/lwil1a.align',\n",
              " 'data/alignments/s1/lwilzp.align',\n",
              " 'data/alignments/s1/lwir2n.align',\n",
              " 'data/alignments/s1/lwir3s.align',\n",
              " 'data/alignments/s1/lwir4p.align',\n",
              " 'data/alignments/s1/lwir5a.align',\n",
              " 'data/alignments/s1/lwiy6n.align',\n",
              " 'data/alignments/s1/lwiy7s.align',\n",
              " 'data/alignments/s1/lwiy8p.align',\n",
              " 'data/alignments/s1/lwiy9a.align',\n",
              " 'data/alignments/s1/lwwf6n.align',\n",
              " 'data/alignments/s1/lwwf7s.align',\n",
              " 'data/alignments/s1/lwwf8p.align',\n",
              " 'data/alignments/s1/lwwf9a.align',\n",
              " 'data/alignments/s1/lwwm1s.align',\n",
              " 'data/alignments/s1/lwwm2p.align',\n",
              " 'data/alignments/s1/lwwm3a.align',\n",
              " 'data/alignments/s1/lwwmzn.align',\n",
              " 'data/alignments/s1/lwws4n.align',\n",
              " 'data/alignments/s1/lwws5s.align',\n",
              " 'data/alignments/s1/lwws6p.align',\n",
              " 'data/alignments/s1/lwws7a.align',\n",
              " 'data/alignments/s1/lwwz8n.align',\n",
              " 'data/alignments/s1/lwwz9s.align',\n",
              " 'data/alignments/s1/pbac1s.align',\n",
              " 'data/alignments/s1/pbac2p.align',\n",
              " 'data/alignments/s1/pbac3a.align',\n",
              " 'data/alignments/s1/pbaczn.align',\n",
              " 'data/alignments/s1/pbai4n.align',\n",
              " 'data/alignments/s1/pbai5s.align',\n",
              " 'data/alignments/s1/pbai6p.align',\n",
              " 'data/alignments/s1/pbai7a.align',\n",
              " 'data/alignments/s1/pbao8n.align',\n",
              " 'data/alignments/s1/pbao9s.align',\n",
              " 'data/alignments/s1/pbap1a.align',\n",
              " 'data/alignments/s1/pbapzp.align',\n",
              " 'data/alignments/s1/pbav2n.align',\n",
              " 'data/alignments/s1/pbav3s.align',\n",
              " 'data/alignments/s1/pbav4p.align',\n",
              " 'data/alignments/s1/pbav5a.align',\n",
              " 'data/alignments/s1/pbbc4n.align',\n",
              " 'data/alignments/s1/pbbc5s.align',\n",
              " 'data/alignments/s1/pbbc6p.align',\n",
              " 'data/alignments/s1/pbbc7a.align',\n",
              " 'data/alignments/s1/pbbi8n.align',\n",
              " 'data/alignments/s1/pbbi9s.align',\n",
              " 'data/alignments/s1/pbbj1a.align',\n",
              " 'data/alignments/s1/pbbjzp.align',\n",
              " 'data/alignments/s1/pbbp2n.align',\n",
              " 'data/alignments/s1/pbbp3s.align',\n",
              " 'data/alignments/s1/pbbp4p.align',\n",
              " 'data/alignments/s1/pbbp5a.align',\n",
              " 'data/alignments/s1/pbbv6n.align',\n",
              " 'data/alignments/s1/pbbv7s.align',\n",
              " 'data/alignments/s1/pbbv8p.align',\n",
              " 'data/alignments/s1/pbbv9a.align',\n",
              " 'data/alignments/s1/pbib6n.align',\n",
              " 'data/alignments/s1/pbib7s.align',\n",
              " 'data/alignments/s1/pbib8p.align',\n",
              " 'data/alignments/s1/pbib9a.align',\n",
              " 'data/alignments/s1/pbii1s.align',\n",
              " 'data/alignments/s1/pbii2p.align',\n",
              " 'data/alignments/s1/pbii3a.align',\n",
              " 'data/alignments/s1/pbiizn.align',\n",
              " 'data/alignments/s1/pbio4n.align',\n",
              " 'data/alignments/s1/pbio5s.align',\n",
              " 'data/alignments/s1/pbio6p.align',\n",
              " 'data/alignments/s1/pbio7a.align',\n",
              " 'data/alignments/s1/pbiu8n.align',\n",
              " 'data/alignments/s1/pbiu9s.align',\n",
              " 'data/alignments/s1/pbiv1a.align',\n",
              " 'data/alignments/s1/pbivzp.align',\n",
              " 'data/alignments/s1/pbwc8n.align',\n",
              " 'data/alignments/s1/pbwc9s.align',\n",
              " 'data/alignments/s1/pbwd1a.align',\n",
              " 'data/alignments/s1/pbwdzp.align',\n",
              " 'data/alignments/s1/pbwj2n.align',\n",
              " 'data/alignments/s1/pbwj3s.align',\n",
              " 'data/alignments/s1/pbwj4p.align',\n",
              " 'data/alignments/s1/pbwj5a.align',\n",
              " 'data/alignments/s1/pbwp6n.align',\n",
              " 'data/alignments/s1/pbwp7s.align',\n",
              " 'data/alignments/s1/pbwp8p.align',\n",
              " 'data/alignments/s1/pbwp9a.align',\n",
              " 'data/alignments/s1/pbwx1s.align',\n",
              " 'data/alignments/s1/pbwx2p.align',\n",
              " 'data/alignments/s1/pbwx3a.align',\n",
              " 'data/alignments/s1/pbwxzn.align',\n",
              " 'data/alignments/s1/pgad8n.align',\n",
              " 'data/alignments/s1/pgad9s.align',\n",
              " 'data/alignments/s1/pgae1a.align',\n",
              " 'data/alignments/s1/pgaezp.align',\n",
              " 'data/alignments/s1/pgak2n.align',\n",
              " 'data/alignments/s1/pgak3s.align',\n",
              " 'data/alignments/s1/pgak4p.align',\n",
              " 'data/alignments/s1/pgak5a.align',\n",
              " 'data/alignments/s1/pgaq6n.align',\n",
              " 'data/alignments/s1/pgaq7s.align',\n",
              " 'data/alignments/s1/pgaq8p.align',\n",
              " 'data/alignments/s1/pgaq9a.align',\n",
              " 'data/alignments/s1/pgay1s.align',\n",
              " 'data/alignments/s1/pgay2p.align',\n",
              " 'data/alignments/s1/pgay3a.align',\n",
              " 'data/alignments/s1/pgayzn.align',\n",
              " 'data/alignments/s1/pgbe2n.align',\n",
              " 'data/alignments/s1/pgbe3s.align',\n",
              " 'data/alignments/s1/pgbe4p.align',\n",
              " 'data/alignments/s1/pgbe5a.align',\n",
              " 'data/alignments/s1/pgbk6n.align',\n",
              " 'data/alignments/s1/pgbk7s.align',\n",
              " 'data/alignments/s1/pgbk8p.align',\n",
              " 'data/alignments/s1/pgbk9a.align',\n",
              " 'data/alignments/s1/pgbr1s.align',\n",
              " 'data/alignments/s1/pgbr2p.align',\n",
              " 'data/alignments/s1/pgbr3a.align',\n",
              " 'data/alignments/s1/pgbrzn.align',\n",
              " 'data/alignments/s1/pgby4n.align',\n",
              " 'data/alignments/s1/pgby5s.align',\n",
              " 'data/alignments/s1/pgby6p.align',\n",
              " 'data/alignments/s1/pgby7a.align',\n",
              " 'data/alignments/s1/pgid4n.align',\n",
              " 'data/alignments/s1/pgid5s.align',\n",
              " 'data/alignments/s1/pgid6p.align',\n",
              " 'data/alignments/s1/pgid7a.align',\n",
              " 'data/alignments/s1/pgij8n.align',\n",
              " 'data/alignments/s1/pgij9s.align',\n",
              " 'data/alignments/s1/pgik1a.align',\n",
              " 'data/alignments/s1/pgikzp.align',\n",
              " 'data/alignments/s1/pgiq2n.align',\n",
              " 'data/alignments/s1/pgiq3s.align',\n",
              " 'data/alignments/s1/pgiq4p.align',\n",
              " 'data/alignments/s1/pgiq5a.align',\n",
              " 'data/alignments/s1/pgix6n.align',\n",
              " 'data/alignments/s1/pgix7s.align',\n",
              " 'data/alignments/s1/pgix8p.align',\n",
              " 'data/alignments/s1/pgix9a.align',\n",
              " 'data/alignments/s1/pgwe6n.align',\n",
              " 'data/alignments/s1/pgwe7s.align',\n",
              " 'data/alignments/s1/pgwe8p.align',\n",
              " 'data/alignments/s1/pgwe9a.align',\n",
              " 'data/alignments/s1/pgwl1s.align',\n",
              " 'data/alignments/s1/pgwl2p.align',\n",
              " 'data/alignments/s1/pgwl3a.align',\n",
              " 'data/alignments/s1/pgwlzn.align',\n",
              " 'data/alignments/s1/pgwr4n.align',\n",
              " 'data/alignments/s1/pgwr5s.align',\n",
              " 'data/alignments/s1/pgwr6p.align',\n",
              " 'data/alignments/s1/pgwr7a.align',\n",
              " 'data/alignments/s1/pgwy8n.align',\n",
              " 'data/alignments/s1/pgwy9s.align',\n",
              " 'data/alignments/s1/pgwz1a.align',\n",
              " 'data/alignments/s1/pgwzzp.align',\n",
              " 'data/alignments/s1/prac6n.align',\n",
              " 'data/alignments/s1/prac7s.align',\n",
              " 'data/alignments/s1/prac8p.align',\n",
              " 'data/alignments/s1/prac9a.align',\n",
              " 'data/alignments/s1/praj1s.align',\n",
              " 'data/alignments/s1/praj2p.align',\n",
              " 'data/alignments/s1/praj3a.align',\n",
              " 'data/alignments/s1/prajzn.align',\n",
              " 'data/alignments/s1/prap4n.align',\n",
              " 'data/alignments/s1/prap5s.align',\n",
              " 'data/alignments/s1/prap6p.align',\n",
              " 'data/alignments/s1/prap7a.align',\n",
              " 'data/alignments/s1/prav8n.align',\n",
              " 'data/alignments/s1/prav9s.align',\n",
              " 'data/alignments/s1/prax1a.align',\n",
              " 'data/alignments/s1/praxzp.align',\n",
              " 'data/alignments/s1/prbd1s.align',\n",
              " 'data/alignments/s1/prbd2p.align',\n",
              " 'data/alignments/s1/prbd3a.align',\n",
              " 'data/alignments/s1/prbdzn.align',\n",
              " 'data/alignments/s1/prbj4n.align',\n",
              " 'data/alignments/s1/prbj5s.align',\n",
              " 'data/alignments/s1/prbj6p.align',\n",
              " 'data/alignments/s1/prbj7a.align',\n",
              " 'data/alignments/s1/prbp8n.align',\n",
              " 'data/alignments/s1/prbp9s.align',\n",
              " 'data/alignments/s1/prbq1a.align',\n",
              " 'data/alignments/s1/prbqzp.align',\n",
              " 'data/alignments/s1/prbx2n.align',\n",
              " 'data/alignments/s1/prbx3s.align',\n",
              " 'data/alignments/s1/prbx4p.align',\n",
              " 'data/alignments/s1/prbx5a.align',\n",
              " 'data/alignments/s1/pric2n.align',\n",
              " 'data/alignments/s1/pric3s.align',\n",
              " 'data/alignments/s1/pric4p.align',\n",
              " 'data/alignments/s1/pric5a.align',\n",
              " 'data/alignments/s1/prii6n.align',\n",
              " 'data/alignments/s1/prii7s.align',\n",
              " 'data/alignments/s1/prii8p.align',\n",
              " 'data/alignments/s1/prii9a.align',\n",
              " 'data/alignments/s1/prip1s.align',\n",
              " 'data/alignments/s1/prip2p.align',\n",
              " 'data/alignments/s1/prip3a.align',\n",
              " 'data/alignments/s1/pripzn.align',\n",
              " 'data/alignments/s1/priv4n.align',\n",
              " 'data/alignments/s1/priv5s.align',\n",
              " 'data/alignments/s1/priv6p.align',\n",
              " 'data/alignments/s1/priv7a.align',\n",
              " 'data/alignments/s1/prwd4n.align',\n",
              " 'data/alignments/s1/prwd5s.align',\n",
              " 'data/alignments/s1/prwd6p.align',\n",
              " 'data/alignments/s1/prwd7a.align',\n",
              " 'data/alignments/s1/prwj8n.align',\n",
              " 'data/alignments/s1/prwj9s.align',\n",
              " 'data/alignments/s1/prwk1a.align',\n",
              " 'data/alignments/s1/prwkzp.align',\n",
              " 'data/alignments/s1/prwq2n.align',\n",
              " 'data/alignments/s1/prwq3s.align',\n",
              " 'data/alignments/s1/prwq4p.align',\n",
              " 'data/alignments/s1/prwq5a.align',\n",
              " 'data/alignments/s1/prwx6n.align',\n",
              " 'data/alignments/s1/prwx7s.align',\n",
              " 'data/alignments/s1/prwx8p.align',\n",
              " 'data/alignments/s1/prwx9a.align',\n",
              " 'data/alignments/s1/pwad2n.align',\n",
              " 'data/alignments/s1/pwad3s.align',\n",
              " 'data/alignments/s1/pwad4p.align',\n",
              " 'data/alignments/s1/pwad5a.align',\n",
              " 'data/alignments/s1/pwaj6n.align',\n",
              " 'data/alignments/s1/pwaj7s.align',\n",
              " 'data/alignments/s1/pwaj8p.align',\n",
              " 'data/alignments/s1/pwaj9a.align',\n",
              " 'data/alignments/s1/pwaq1s.align',\n",
              " 'data/alignments/s1/pwaq2p.align',\n",
              " 'data/alignments/s1/pwaq3a.align',\n",
              " 'data/alignments/s1/pwaqzn.align',\n",
              " 'data/alignments/s1/pwax4n.align',\n",
              " 'data/alignments/s1/pwax5s.align',\n",
              " 'data/alignments/s1/pwax6p.align',\n",
              " 'data/alignments/s1/pwax7a.align',\n",
              " 'data/alignments/s1/pwbd6n.align',\n",
              " 'data/alignments/s1/pwbd7s.align',\n",
              " 'data/alignments/s1/pwbd8p.align',\n",
              " 'data/alignments/s1/pwbd9a.align',\n",
              " 'data/alignments/s1/pwbk1s.align',\n",
              " 'data/alignments/s1/pwbk2p.align',\n",
              " 'data/alignments/s1/pwbk3a.align',\n",
              " 'data/alignments/s1/pwbkzn.align',\n",
              " 'data/alignments/s1/pwbq4n.align',\n",
              " 'data/alignments/s1/pwbq5s.align',\n",
              " 'data/alignments/s1/pwbq6p.align',\n",
              " 'data/alignments/s1/pwbq7a.align',\n",
              " 'data/alignments/s1/pwbx8n.align',\n",
              " 'data/alignments/s1/pwbx9s.align',\n",
              " 'data/alignments/s1/pwby1a.align',\n",
              " 'data/alignments/s1/pwbyzp.align',\n",
              " 'data/alignments/s1/pwic8n.align',\n",
              " 'data/alignments/s1/pwic9s.align',\n",
              " 'data/alignments/s1/pwid1a.align',\n",
              " 'data/alignments/s1/pwidzp.align',\n",
              " 'data/alignments/s1/pwij2n.align',\n",
              " 'data/alignments/s1/pwij3s.align',\n",
              " 'data/alignments/s1/pwij4p.align',\n",
              " 'data/alignments/s1/pwij5a.align',\n",
              " 'data/alignments/s1/pwip6n.align',\n",
              " 'data/alignments/s1/pwip7s.align',\n",
              " 'data/alignments/s1/pwip8p.align',\n",
              " 'data/alignments/s1/pwip9a.align',\n",
              " 'data/alignments/s1/pwix1s.align',\n",
              " 'data/alignments/s1/pwix2p.align',\n",
              " 'data/alignments/s1/pwix3a.align',\n",
              " 'data/alignments/s1/pwixzn.align',\n",
              " 'data/alignments/s1/pwwe1s.align',\n",
              " 'data/alignments/s1/pwwe2p.align',\n",
              " 'data/alignments/s1/pwwe3a.align',\n",
              " 'data/alignments/s1/pwwezn.align',\n",
              " 'data/alignments/s1/pwwk4n.align',\n",
              " 'data/alignments/s1/pwwk5s.align',\n",
              " 'data/alignments/s1/pwwk6p.align',\n",
              " 'data/alignments/s1/pwwk7a.align',\n",
              " 'data/alignments/s1/pwwq8n.align',\n",
              " 'data/alignments/s1/pwwq9s.align',\n",
              " 'data/alignments/s1/pwwr1a.align',\n",
              " 'data/alignments/s1/pwwrzp.align',\n",
              " 'data/alignments/s1/pwwy2n.align',\n",
              " 'data/alignments/s1/pwwy3s.align',\n",
              " 'data/alignments/s1/pwwy4p.align',\n",
              " 'data/alignments/s1/pwwy5a.align',\n",
              " 'data/alignments/s1/sbaa4n.align',\n",
              " 'data/alignments/s1/sbaa5s.align',\n",
              " 'data/alignments/s1/sbaa6p.align',\n",
              " 'data/alignments/s1/sbaa7a.align',\n",
              " 'data/alignments/s1/sbag8n.align',\n",
              " 'data/alignments/s1/sbag9s.align',\n",
              " 'data/alignments/s1/sbah1a.align',\n",
              " 'data/alignments/s1/sbahzp.align',\n",
              " 'data/alignments/s1/sban2n.align',\n",
              " 'data/alignments/s1/sban3s.align',\n",
              " 'data/alignments/s1/sban4p.align',\n",
              " 'data/alignments/s1/sban5a.align',\n",
              " 'data/alignments/s1/sbat6n.align',\n",
              " 'data/alignments/s1/sbat7s.align',\n",
              " 'data/alignments/s1/sbat8p.align',\n",
              " 'data/alignments/s1/sbat9a.align',\n",
              " 'data/alignments/s1/sbba8n.align',\n",
              " 'data/alignments/s1/sbba9s.align',\n",
              " 'data/alignments/s1/sbbb1a.align',\n",
              " 'data/alignments/s1/sbbbzp.align',\n",
              " 'data/alignments/s1/sbbh2n.align',\n",
              " 'data/alignments/s1/sbbh3s.align',\n",
              " 'data/alignments/s1/sbbh4p.align',\n",
              " 'data/alignments/s1/sbbh5a.align',\n",
              " 'data/alignments/s1/sbbn6n.align',\n",
              " 'data/alignments/s1/sbbn7s.align',\n",
              " 'data/alignments/s1/sbbn8p.align',\n",
              " 'data/alignments/s1/sbbn9a.align',\n",
              " 'data/alignments/s1/sbbu1s.align',\n",
              " 'data/alignments/s1/sbbu2p.align',\n",
              " 'data/alignments/s1/sbbu3a.align',\n",
              " 'data/alignments/s1/sbbuzn.align',\n",
              " 'data/alignments/s1/sbia1s.align',\n",
              " 'data/alignments/s1/sbia2p.align',\n",
              " 'data/alignments/s1/sbia3a.align',\n",
              " 'data/alignments/s1/sbiazn.align',\n",
              " 'data/alignments/s1/sbig4n.align',\n",
              " 'data/alignments/s1/sbig5s.align',\n",
              " 'data/alignments/s1/sbig6p.align',\n",
              " 'data/alignments/s1/sbig7a.align',\n",
              " 'data/alignments/s1/sbim8n.align',\n",
              " 'data/alignments/s1/sbim9s.align',\n",
              " 'data/alignments/s1/sbin1a.align',\n",
              " 'data/alignments/s1/sbinzp.align',\n",
              " 'data/alignments/s1/sbit2n.align',\n",
              " 'data/alignments/s1/sbit3s.align',\n",
              " 'data/alignments/s1/sbit4p.align',\n",
              " 'data/alignments/s1/sbit5a.align',\n",
              " 'data/alignments/s1/sbwb2n.align',\n",
              " 'data/alignments/s1/sbwb3s.align',\n",
              " 'data/alignments/s1/sbwb4p.align',\n",
              " 'data/alignments/s1/sbwb5a.align',\n",
              " 'data/alignments/s1/sbwh6n.align',\n",
              " 'data/alignments/s1/sbwh7s.align',\n",
              " 'data/alignments/s1/sbwh8p.align',\n",
              " 'data/alignments/s1/sbwh9a.align',\n",
              " 'data/alignments/s1/sbwo1s.align',\n",
              " 'data/alignments/s1/sbwo2p.align',\n",
              " 'data/alignments/s1/sbwo3a.align',\n",
              " 'data/alignments/s1/sbwozn.align',\n",
              " 'data/alignments/s1/sbwu4n.align',\n",
              " 'data/alignments/s1/sbwu5s.align',\n",
              " 'data/alignments/s1/sbwu6p.align',\n",
              " 'data/alignments/s1/sbwu7a.align',\n",
              " 'data/alignments/s1/sgac2n.align',\n",
              " 'data/alignments/s1/sgac3s.align',\n",
              " 'data/alignments/s1/sgac4p.align',\n",
              " 'data/alignments/s1/sgac5a.align',\n",
              " 'data/alignments/s1/sgai6n.align',\n",
              " 'data/alignments/s1/sgai7s.align',\n",
              " 'data/alignments/s1/sgai8p.align',\n",
              " 'data/alignments/s1/sgai9a.align',\n",
              " 'data/alignments/s1/sgap1s.align',\n",
              " 'data/alignments/s1/sgap2p.align',\n",
              " 'data/alignments/s1/sgap3a.align',\n",
              " 'data/alignments/s1/sgapzn.align',\n",
              " 'data/alignments/s1/sgav4n.align',\n",
              " 'data/alignments/s1/sgav5s.align',\n",
              " 'data/alignments/s1/sgav6p.align',\n",
              " 'data/alignments/s1/sgav7a.align',\n",
              " 'data/alignments/s1/sgbc6n.align',\n",
              " 'data/alignments/s1/sgbc7s.align',\n",
              " 'data/alignments/s1/sgbc8p.align',\n",
              " 'data/alignments/s1/sgbc9a.align',\n",
              " 'data/alignments/s1/sgbj1s.align',\n",
              " 'data/alignments/s1/sgbj2p.align',\n",
              " 'data/alignments/s1/sgbj3a.align',\n",
              " 'data/alignments/s1/sgbjzn.align',\n",
              " 'data/alignments/s1/sgbp4n.align',\n",
              " 'data/alignments/s1/sgbp5s.align',\n",
              " 'data/alignments/s1/sgbp6p.align',\n",
              " 'data/alignments/s1/sgbp7a.align',\n",
              " 'data/alignments/s1/sgbv8n.align',\n",
              " 'data/alignments/s1/sgbv9s.align',\n",
              " 'data/alignments/s1/sgbx1a.align',\n",
              " 'data/alignments/s1/sgbxzp.align',\n",
              " 'data/alignments/s1/sgib8n.align',\n",
              " 'data/alignments/s1/sgib9s.align',\n",
              " 'data/alignments/s1/sgic1a.align',\n",
              " 'data/alignments/s1/sgiczp.align',\n",
              " 'data/alignments/s1/sgii2n.align',\n",
              " 'data/alignments/s1/sgii3s.align',\n",
              " 'data/alignments/s1/sgii4p.align',\n",
              " 'data/alignments/s1/sgii5a.align',\n",
              " 'data/alignments/s1/sgio6n.align',\n",
              " 'data/alignments/s1/sgio7s.align',\n",
              " 'data/alignments/s1/sgio8p.align',\n",
              " 'data/alignments/s1/sgio9a.align',\n",
              " 'data/alignments/s1/sgiv1s.align',\n",
              " 'data/alignments/s1/sgiv2p.align',\n",
              " 'data/alignments/s1/sgiv3a.align',\n",
              " 'data/alignments/s1/sgivzn.align',\n",
              " 'data/alignments/s1/sgwd1s.align',\n",
              " 'data/alignments/s1/sgwd2p.align',\n",
              " 'data/alignments/s1/sgwd3a.align',\n",
              " 'data/alignments/s1/sgwdzn.align',\n",
              " 'data/alignments/s1/sgwj4n.align',\n",
              " 'data/alignments/s1/sgwj5s.align',\n",
              " 'data/alignments/s1/sgwj6p.align',\n",
              " 'data/alignments/s1/sgwj7a.align',\n",
              " 'data/alignments/s1/sgwp8n.align',\n",
              " 'data/alignments/s1/sgwp9s.align',\n",
              " 'data/alignments/s1/sgwq1a.align',\n",
              " 'data/alignments/s1/sgwqzp.align',\n",
              " 'data/alignments/s1/sgwx2n.align',\n",
              " 'data/alignments/s1/sgwx3s.align',\n",
              " 'data/alignments/s1/sgwx4p.align',\n",
              " 'data/alignments/s1/sgwx5a.align',\n",
              " 'data/alignments/s1/srab1s.align',\n",
              " 'data/alignments/s1/srab2p.align',\n",
              " 'data/alignments/s1/srab3a.align',\n",
              " 'data/alignments/s1/srabzn.align',\n",
              " 'data/alignments/s1/srah4n.align',\n",
              " 'data/alignments/s1/srah5s.align',\n",
              " 'data/alignments/s1/srah6p.align',\n",
              " 'data/alignments/s1/srah7a.align',\n",
              " 'data/alignments/s1/sran8n.align',\n",
              " 'data/alignments/s1/sran9s.align',\n",
              " 'data/alignments/s1/srao1a.align',\n",
              " 'data/alignments/s1/sraozp.align',\n",
              " 'data/alignments/s1/srau2n.align',\n",
              " 'data/alignments/s1/srau3s.align',\n",
              " 'data/alignments/s1/srau4p.align',\n",
              " 'data/alignments/s1/srau5a.align',\n",
              " 'data/alignments/s1/srbb4n.align',\n",
              " 'data/alignments/s1/srbb5s.align',\n",
              " 'data/alignments/s1/srbb6p.align',\n",
              " 'data/alignments/s1/srbb7a.align',\n",
              " 'data/alignments/s1/srbh8n.align',\n",
              " 'data/alignments/s1/srbh9s.align',\n",
              " 'data/alignments/s1/srbi1a.align',\n",
              " 'data/alignments/s1/srbizp.align',\n",
              " 'data/alignments/s1/srbo2n.align',\n",
              " 'data/alignments/s1/srbo3s.align',\n",
              " 'data/alignments/s1/srbo4p.align',\n",
              " 'data/alignments/s1/srbo5a.align',\n",
              " 'data/alignments/s1/srbu6n.align',\n",
              " 'data/alignments/s1/srbu7s.align',\n",
              " 'data/alignments/s1/srbu8p.align',\n",
              " 'data/alignments/s1/srbu9a.align',\n",
              " 'data/alignments/s1/sria6n.align',\n",
              " 'data/alignments/s1/sria7s.align',\n",
              " 'data/alignments/s1/sria8p.align',\n",
              " 'data/alignments/s1/sria9a.align',\n",
              " 'data/alignments/s1/srih1s.align',\n",
              " 'data/alignments/s1/srih2p.align',\n",
              " 'data/alignments/s1/srih3a.align',\n",
              " 'data/alignments/s1/srihzn.align',\n",
              " 'data/alignments/s1/srin4n.align',\n",
              " 'data/alignments/s1/srin5s.align',\n",
              " 'data/alignments/s1/srin6p.align',\n",
              " 'data/alignments/s1/srin7a.align',\n",
              " 'data/alignments/s1/srit8n.align',\n",
              " 'data/alignments/s1/srit9s.align',\n",
              " 'data/alignments/s1/sriu1a.align',\n",
              " 'data/alignments/s1/sriuzp.align',\n",
              " 'data/alignments/s1/srwb8n.align',\n",
              " 'data/alignments/s1/srwb9s.align',\n",
              " 'data/alignments/s1/srwc1a.align',\n",
              " 'data/alignments/s1/srwczp.align',\n",
              " 'data/alignments/s1/srwi2n.align',\n",
              " 'data/alignments/s1/srwi3s.align',\n",
              " 'data/alignments/s1/srwi4p.align',\n",
              " 'data/alignments/s1/srwi5a.align',\n",
              " 'data/alignments/s1/srwo6n.align',\n",
              " 'data/alignments/s1/srwo7s.align',\n",
              " 'data/alignments/s1/srwo8p.align',\n",
              " 'data/alignments/s1/srwo9a.align',\n",
              " 'data/alignments/s1/srwv1s.align',\n",
              " 'data/alignments/s1/srwv2p.align',\n",
              " 'data/alignments/s1/srwv3a.align',\n",
              " 'data/alignments/s1/srwvzn.align',\n",
              " 'data/alignments/s1/swab6n.align',\n",
              " 'data/alignments/s1/swab7s.align',\n",
              " 'data/alignments/s1/swab8p.align',\n",
              " 'data/alignments/s1/swab9a.align',\n",
              " 'data/alignments/s1/swai1s.align',\n",
              " 'data/alignments/s1/swai2p.align',\n",
              " 'data/alignments/s1/swai3a.align',\n",
              " 'data/alignments/s1/swaizn.align',\n",
              " 'data/alignments/s1/swao4n.align',\n",
              " 'data/alignments/s1/swao5s.align',\n",
              " 'data/alignments/s1/swao6p.align',\n",
              " 'data/alignments/s1/swao7a.align',\n",
              " 'data/alignments/s1/swau8n.align',\n",
              " 'data/alignments/s1/swau9s.align',\n",
              " 'data/alignments/s1/swav1a.align',\n",
              " 'data/alignments/s1/swavzp.align',\n",
              " 'data/alignments/s1/swbc1s.align',\n",
              " 'data/alignments/s1/swbc2p.align',\n",
              " 'data/alignments/s1/swbc3a.align',\n",
              " 'data/alignments/s1/swbczn.align',\n",
              " 'data/alignments/s1/swbi4n.align',\n",
              " 'data/alignments/s1/swbi5s.align',\n",
              " 'data/alignments/s1/swbi6p.align',\n",
              " 'data/alignments/s1/swbi7a.align',\n",
              " 'data/alignments/s1/swbo8n.align',\n",
              " 'data/alignments/s1/swbo9s.align',\n",
              " 'data/alignments/s1/swbp1a.align',\n",
              " 'data/alignments/s1/swbpzp.align',\n",
              " 'data/alignments/s1/swbv2n.align',\n",
              " 'data/alignments/s1/swbv3s.align',\n",
              " 'data/alignments/s1/swbv4p.align',\n",
              " 'data/alignments/s1/swbv5a.align',\n",
              " 'data/alignments/s1/swib2n.align',\n",
              " 'data/alignments/s1/swib3s.align',\n",
              " 'data/alignments/s1/swib4p.align',\n",
              " 'data/alignments/s1/swib5a.align',\n",
              " 'data/alignments/s1/swih6n.align',\n",
              " 'data/alignments/s1/swih7s.align',\n",
              " 'data/alignments/s1/swih8p.align',\n",
              " 'data/alignments/s1/swih9a.align',\n",
              " 'data/alignments/s1/swio1s.align',\n",
              " 'data/alignments/s1/swio2p.align',\n",
              " 'data/alignments/s1/swio3a.align',\n",
              " 'data/alignments/s1/swiozn.align',\n",
              " 'data/alignments/s1/swiu4n.align',\n",
              " 'data/alignments/s1/swiu5s.align',\n",
              " 'data/alignments/s1/swiu6p.align',\n",
              " 'data/alignments/s1/swiu7a.align',\n",
              " 'data/alignments/s1/swwc4n.align',\n",
              " 'data/alignments/s1/swwc5s.align',\n",
              " 'data/alignments/s1/swwc6p.align',\n",
              " 'data/alignments/s1/swwc7a.align',\n",
              " 'data/alignments/s1/swwi8n.align',\n",
              " 'data/alignments/s1/swwi9s.align',\n",
              " 'data/alignments/s1/swwj1a.align',\n",
              " 'data/alignments/s1/swwjzp.align',\n",
              " 'data/alignments/s1/swwp2n.align',\n",
              " 'data/alignments/s1/swwp3s.align',\n",
              " 'data/alignments/s1/swwp4p.align',\n",
              " 'data/alignments/s1/swwp5a.align',\n",
              " 'data/alignments/s1/swwv6n.align',\n",
              " ...]"
            ]
          },
          "metadata": {},
          "execution_count": 7
        }
      ]
    },
    {
      "cell_type": "code",
      "source": [
        "def load_video(path:str) -> List[float]:\n",
        "\n",
        "    cap = cv2.VideoCapture(path)\n",
        "    frames = []\n",
        "    for _ in range(int(cap.get(cv2.CAP_PROP_FRAME_COUNT))):\n",
        "        ret, frame = cap.read()\n",
        "        frame = tf.image.rgb_to_grayscale(frame)\n",
        "        frames.append(frame[190:236,80:220,:])\n",
        "    cap.release()\n",
        "\n",
        "    mean = tf.math.reduce_mean(frames)\n",
        "    std = tf.math.reduce_std(tf.cast(frames, tf.float32))\n",
        "    return tf.cast((frames - mean), tf.float32) / std"
      ],
      "metadata": {
        "tags": [],
        "execution": {
          "iopub.status.busy": "2023-11-16T01:02:02.194276Z",
          "iopub.execute_input": "2023-11-16T01:02:02.195068Z",
          "iopub.status.idle": "2023-11-16T01:02:02.202688Z",
          "shell.execute_reply.started": "2023-11-16T01:02:02.195028Z",
          "shell.execute_reply": "2023-11-16T01:02:02.201627Z"
        },
        "trusted": true,
        "id": "3yCMM3XX7tiV"
      },
      "execution_count": 8,
      "outputs": []
    },
    {
      "cell_type": "code",
      "source": [
        "vocab = [x for x in \"abcdefghijklmnopqrstuvwxyz'?!123456789 \"]"
      ],
      "metadata": {
        "tags": [],
        "execution": {
          "iopub.status.busy": "2023-11-16T01:02:02.207148Z",
          "iopub.execute_input": "2023-11-16T01:02:02.207747Z",
          "iopub.status.idle": "2023-11-16T01:02:02.212605Z",
          "shell.execute_reply.started": "2023-11-16T01:02:02.207718Z",
          "shell.execute_reply": "2023-11-16T01:02:02.211502Z"
        },
        "trusted": true,
        "id": "C_9c4YMV7tiW"
      },
      "execution_count": 9,
      "outputs": []
    },
    {
      "cell_type": "code",
      "source": [
        "char_to_num = tf.keras.layers.StringLookup(vocabulary=vocab, oov_token=\"\")\n",
        "num_to_char = tf.keras.layers.StringLookup(\n",
        "    vocabulary=char_to_num.get_vocabulary(), oov_token=\"\", invert=True\n",
        ")\n",
        "\n",
        "print(\n",
        "    f\"The vocabulary is: {char_to_num.get_vocabulary()} \"\n",
        "    f\"(size ={char_to_num.vocabulary_size()})\"\n",
        ")"
      ],
      "metadata": {
        "tags": [],
        "execution": {
          "iopub.status.busy": "2023-11-16T01:02:02.213908Z",
          "iopub.execute_input": "2023-11-16T01:02:02.214219Z",
          "iopub.status.idle": "2023-11-16T01:02:04.369046Z",
          "shell.execute_reply.started": "2023-11-16T01:02:02.214191Z",
          "shell.execute_reply": "2023-11-16T01:02:04.368025Z"
        },
        "trusted": true,
        "id": "6gv004vh7tiW",
        "outputId": "fb130b55-3358-45ef-dfc3-5c78a7d4e94f",
        "colab": {
          "base_uri": "https://localhost:8080/"
        }
      },
      "execution_count": 10,
      "outputs": [
        {
          "output_type": "stream",
          "name": "stdout",
          "text": [
            "The vocabulary is: ['', 'a', 'b', 'c', 'd', 'e', 'f', 'g', 'h', 'i', 'j', 'k', 'l', 'm', 'n', 'o', 'p', 'q', 'r', 's', 't', 'u', 'v', 'w', 'x', 'y', 'z', \"'\", '?', '!', '1', '2', '3', '4', '5', '6', '7', '8', '9', ' '] (size =40)\n"
          ]
        }
      ]
    },
    {
      "cell_type": "code",
      "source": [
        "char_to_num.get_vocabulary()"
      ],
      "metadata": {
        "tags": [],
        "execution": {
          "iopub.status.busy": "2023-11-16T01:02:04.370200Z",
          "iopub.execute_input": "2023-11-16T01:02:04.370490Z",
          "iopub.status.idle": "2023-11-16T01:02:04.379020Z",
          "shell.execute_reply.started": "2023-11-16T01:02:04.370459Z",
          "shell.execute_reply": "2023-11-16T01:02:04.378119Z"
        },
        "trusted": true,
        "id": "626Fh44y7tiW",
        "outputId": "de57f833-7fe5-4be3-8ad3-9ff0012b6881",
        "colab": {
          "base_uri": "https://localhost:8080/"
        }
      },
      "execution_count": 11,
      "outputs": [
        {
          "output_type": "execute_result",
          "data": {
            "text/plain": [
              "['',\n",
              " 'a',\n",
              " 'b',\n",
              " 'c',\n",
              " 'd',\n",
              " 'e',\n",
              " 'f',\n",
              " 'g',\n",
              " 'h',\n",
              " 'i',\n",
              " 'j',\n",
              " 'k',\n",
              " 'l',\n",
              " 'm',\n",
              " 'n',\n",
              " 'o',\n",
              " 'p',\n",
              " 'q',\n",
              " 'r',\n",
              " 's',\n",
              " 't',\n",
              " 'u',\n",
              " 'v',\n",
              " 'w',\n",
              " 'x',\n",
              " 'y',\n",
              " 'z',\n",
              " \"'\",\n",
              " '?',\n",
              " '!',\n",
              " '1',\n",
              " '2',\n",
              " '3',\n",
              " '4',\n",
              " '5',\n",
              " '6',\n",
              " '7',\n",
              " '8',\n",
              " '9',\n",
              " ' ']"
            ]
          },
          "metadata": {},
          "execution_count": 11
        }
      ]
    },
    {
      "cell_type": "code",
      "source": [
        "char_to_num(['n','i','c','k'])"
      ],
      "metadata": {
        "tags": [],
        "execution": {
          "iopub.status.busy": "2023-11-16T01:02:04.380175Z",
          "iopub.execute_input": "2023-11-16T01:02:04.380486Z",
          "iopub.status.idle": "2023-11-16T01:02:04.390993Z",
          "shell.execute_reply.started": "2023-11-16T01:02:04.380453Z",
          "shell.execute_reply": "2023-11-16T01:02:04.390020Z"
        },
        "trusted": true,
        "id": "LZpdXh1O7tiW",
        "outputId": "2c15e5b2-d9d7-462d-a2db-c722122590b8",
        "colab": {
          "base_uri": "https://localhost:8080/"
        }
      },
      "execution_count": 12,
      "outputs": [
        {
          "output_type": "execute_result",
          "data": {
            "text/plain": [
              "<tf.Tensor: shape=(4,), dtype=int64, numpy=array([14,  9,  3, 11])>"
            ]
          },
          "metadata": {},
          "execution_count": 12
        }
      ]
    },
    {
      "cell_type": "code",
      "source": [
        "num_to_char([14,  9,  3, 11])"
      ],
      "metadata": {
        "execution": {
          "iopub.status.busy": "2023-11-16T01:02:04.392256Z",
          "iopub.execute_input": "2023-11-16T01:02:04.392841Z",
          "iopub.status.idle": "2023-11-16T01:02:04.406456Z",
          "shell.execute_reply.started": "2023-11-16T01:02:04.392809Z",
          "shell.execute_reply": "2023-11-16T01:02:04.405663Z"
        },
        "trusted": true,
        "id": "W9DnDjJY7tiW",
        "outputId": "f5df78d1-8a0e-42a9-9ab0-caf20133c137",
        "colab": {
          "base_uri": "https://localhost:8080/"
        }
      },
      "execution_count": 13,
      "outputs": [
        {
          "output_type": "execute_result",
          "data": {
            "text/plain": [
              "<tf.Tensor: shape=(4,), dtype=string, numpy=array([b'n', b'i', b'c', b'k'], dtype=object)>"
            ]
          },
          "metadata": {},
          "execution_count": 13
        }
      ]
    },
    {
      "cell_type": "code",
      "source": [
        "def load_alignments(path:str) -> List[str]:\n",
        "    with open(path, 'r') as f:\n",
        "        lines = f.readlines()\n",
        "    tokens = []\n",
        "    for line in lines:\n",
        "        line = line.split()\n",
        "        if line[2] != 'sil':\n",
        "            tokens = [*tokens,' ',line[2]]\n",
        "    return char_to_num(tf.reshape(tf.strings.unicode_split(tokens, input_encoding='UTF-8'), (-1)))[1:]"
      ],
      "metadata": {
        "tags": [],
        "execution": {
          "iopub.status.busy": "2023-11-16T01:02:04.407449Z",
          "iopub.execute_input": "2023-11-16T01:02:04.407722Z",
          "iopub.status.idle": "2023-11-16T01:02:04.413358Z",
          "shell.execute_reply.started": "2023-11-16T01:02:04.407699Z",
          "shell.execute_reply": "2023-11-16T01:02:04.412495Z"
        },
        "trusted": true,
        "id": "2J5Z0og57tiW"
      },
      "execution_count": 14,
      "outputs": []
    },
    {
      "cell_type": "code",
      "source": [
        "def load_data(path: str):\n",
        "#     path = bytes.decode(path.numpy())\n",
        "#     print(path)\n",
        "    file_name = path.numpy().decode('utf-8').split('/')[-1].split('.')[0]\n",
        "    # File name splitting for windows\n",
        "#     file_name = path.split('\\\\')[-1].split('.')[0]\n",
        "    video_path = os.path.join('data','s1',f'{file_name}.mpg')\n",
        "    alignment_path = os.path.join('data','alignments','s1',f'{file_name}.align')\n",
        "    frames = load_video(video_path)\n",
        "    alignments = load_alignments(alignment_path)\n",
        "\n",
        "    return frames, alignments\n",
        "#     return file_name"
      ],
      "metadata": {
        "tags": [],
        "execution": {
          "iopub.status.busy": "2023-11-16T01:02:04.414492Z",
          "iopub.execute_input": "2023-11-16T01:02:04.414812Z",
          "iopub.status.idle": "2023-11-16T01:02:04.422524Z",
          "shell.execute_reply.started": "2023-11-16T01:02:04.414781Z",
          "shell.execute_reply": "2023-11-16T01:02:04.421748Z"
        },
        "trusted": true,
        "id": "5ayyISek7tiX"
      },
      "execution_count": 15,
      "outputs": []
    },
    {
      "cell_type": "code",
      "source": [
        "test_path = './data/s1/bbal6n.mpg'"
      ],
      "metadata": {
        "tags": [],
        "execution": {
          "iopub.status.busy": "2023-11-16T01:02:04.423603Z",
          "iopub.execute_input": "2023-11-16T01:02:04.424480Z",
          "iopub.status.idle": "2023-11-16T01:02:04.433202Z",
          "shell.execute_reply.started": "2023-11-16T01:02:04.424448Z",
          "shell.execute_reply": "2023-11-16T01:02:04.432474Z"
        },
        "trusted": true,
        "id": "I4jZsJPP7tiX"
      },
      "execution_count": 16,
      "outputs": []
    },
    {
      "cell_type": "code",
      "source": [
        "# test_path = bytes.decode(test_path.numpy())"
      ],
      "metadata": {
        "execution": {
          "iopub.status.busy": "2023-11-16T01:02:04.434154Z",
          "iopub.execute_input": "2023-11-16T01:02:04.434441Z",
          "iopub.status.idle": "2023-11-16T01:02:04.441157Z",
          "shell.execute_reply.started": "2023-11-16T01:02:04.434409Z",
          "shell.execute_reply": "2023-11-16T01:02:04.440440Z"
        },
        "trusted": true,
        "id": "1i_RLPo47tiX"
      },
      "execution_count": null,
      "outputs": []
    },
    {
      "cell_type": "code",
      "source": [
        "# hi = tf.convert_to_tensor(test_path).numpy().decode('utf-8')\n",
        "# hi"
      ],
      "metadata": {
        "execution": {
          "iopub.status.busy": "2023-11-16T01:02:04.442400Z",
          "iopub.execute_input": "2023-11-16T01:02:04.442760Z",
          "iopub.status.idle": "2023-11-16T01:02:04.449944Z",
          "shell.execute_reply.started": "2023-11-16T01:02:04.442734Z",
          "shell.execute_reply": "2023-11-16T01:02:04.449118Z"
        },
        "trusted": true,
        "id": "iPcdJQsC7tiX"
      },
      "execution_count": null,
      "outputs": []
    },
    {
      "cell_type": "code",
      "source": [
        "tf.convert_to_tensor(test_path).numpy().decode('utf-8').split('/')[-1].split('.')[0]"
      ],
      "metadata": {
        "execution": {
          "iopub.status.busy": "2023-11-16T01:02:04.450947Z",
          "iopub.execute_input": "2023-11-16T01:02:04.451255Z",
          "iopub.status.idle": "2023-11-16T01:02:04.460280Z",
          "shell.execute_reply.started": "2023-11-16T01:02:04.451231Z",
          "shell.execute_reply": "2023-11-16T01:02:04.459452Z"
        },
        "trusted": true,
        "id": "LqXr4UDy7tiX",
        "outputId": "1ff73fb1-257f-48a1-9655-7b81aa90c322",
        "colab": {
          "base_uri": "https://localhost:8080/",
          "height": 36
        }
      },
      "execution_count": 17,
      "outputs": [
        {
          "output_type": "execute_result",
          "data": {
            "text/plain": [
              "'bbal6n'"
            ],
            "application/vnd.google.colaboratory.intrinsic+json": {
              "type": "string"
            }
          },
          "metadata": {},
          "execution_count": 17
        }
      ]
    },
    {
      "cell_type": "code",
      "source": [],
      "metadata": {
        "id": "f5_ipxyy7tiX"
      },
      "execution_count": null,
      "outputs": []
    },
    {
      "cell_type": "code",
      "source": [
        "frames, alignments = load_data(tf.convert_to_tensor(test_path))"
      ],
      "metadata": {
        "scrolled": true,
        "tags": [],
        "execution": {
          "iopub.status.busy": "2023-11-16T01:02:04.461196Z",
          "iopub.execute_input": "2023-11-16T01:02:04.461507Z",
          "iopub.status.idle": "2023-11-16T01:02:07.211166Z",
          "shell.execute_reply.started": "2023-11-16T01:02:04.461477Z",
          "shell.execute_reply": "2023-11-16T01:02:07.210200Z"
        },
        "trusted": true,
        "id": "dp9qI4oM7tiY"
      },
      "execution_count": 18,
      "outputs": []
    },
    {
      "cell_type": "code",
      "source": [
        "alignments"
      ],
      "metadata": {
        "execution": {
          "iopub.status.busy": "2023-11-16T01:02:07.212518Z",
          "iopub.execute_input": "2023-11-16T01:02:07.213171Z",
          "iopub.status.idle": "2023-11-16T01:02:07.219601Z",
          "shell.execute_reply.started": "2023-11-16T01:02:07.213125Z",
          "shell.execute_reply": "2023-11-16T01:02:07.218675Z"
        },
        "trusted": true,
        "id": "evN6luFS7tiY",
        "outputId": "430bf282-54a5-43f9-e445-e8af5a48f6d8",
        "colab": {
          "base_uri": "https://localhost:8080/"
        }
      },
      "execution_count": 19,
      "outputs": [
        {
          "output_type": "execute_result",
          "data": {
            "text/plain": [
              "<tf.Tensor: shape=(21,), dtype=int64, numpy=\n",
              "array([ 2,  9, 14, 39,  2, 12, 21,  5, 39,  1, 20, 39, 12, 39, 19,  9, 24,\n",
              "       39, 14, 15, 23])>"
            ]
          },
          "metadata": {},
          "execution_count": 19
        }
      ]
    },
    {
      "cell_type": "code",
      "source": [
        "plt.imshow(frames[40])"
      ],
      "metadata": {
        "execution": {
          "iopub.status.busy": "2023-11-16T01:02:07.220912Z",
          "iopub.execute_input": "2023-11-16T01:02:07.221257Z",
          "iopub.status.idle": "2023-11-16T01:02:07.507113Z",
          "shell.execute_reply.started": "2023-11-16T01:02:07.221218Z",
          "shell.execute_reply": "2023-11-16T01:02:07.506374Z"
        },
        "trusted": true,
        "id": "Xn-hmD_p7tiY",
        "outputId": "0363d2bc-4e94-4ef4-8c01-b5795b3ccc29",
        "colab": {
          "base_uri": "https://localhost:8080/",
          "height": 245
        }
      },
      "execution_count": 20,
      "outputs": [
        {
          "output_type": "execute_result",
          "data": {
            "text/plain": [
              "<matplotlib.image.AxesImage at 0x79f36d4dd7e0>"
            ]
          },
          "metadata": {},
          "execution_count": 20
        },
        {
          "output_type": "display_data",
          "data": {
            "text/plain": [
              "<Figure size 640x480 with 1 Axes>"
            ],
            "image/png": "[encoded data removed]"
          },
          "metadata": {}
        }
      ]
    },
    {
      "cell_type": "code",
      "source": [
        "alignments"
      ],
      "metadata": {
        "execution": {
          "iopub.status.busy": "2023-11-16T01:02:07.508655Z",
          "iopub.execute_input": "2023-11-16T01:02:07.509308Z",
          "iopub.status.idle": "2023-11-16T01:02:07.515693Z",
          "shell.execute_reply.started": "2023-11-16T01:02:07.509270Z",
          "shell.execute_reply": "2023-11-16T01:02:07.514752Z"
        },
        "trusted": true,
        "id": "7b-yRs557tiY",
        "outputId": "2faa78c6-8a3a-4903-9f42-5795d7d62e11",
        "colab": {
          "base_uri": "https://localhost:8080/"
        }
      },
      "execution_count": 21,
      "outputs": [
        {
          "output_type": "execute_result",
          "data": {
            "text/plain": [
              "<tf.Tensor: shape=(21,), dtype=int64, numpy=\n",
              "array([ 2,  9, 14, 39,  2, 12, 21,  5, 39,  1, 20, 39, 12, 39, 19,  9, 24,\n",
              "       39, 14, 15, 23])>"
            ]
          },
          "metadata": {},
          "execution_count": 21
        }
      ]
    },
    {
      "cell_type": "code",
      "source": [
        "tf.strings.reduce_join([bytes.decode(x) for x in num_to_char(alignments.numpy()).numpy()])"
      ],
      "metadata": {
        "execution": {
          "iopub.status.busy": "2023-11-16T01:02:07.516841Z",
          "iopub.execute_input": "2023-11-16T01:02:07.517148Z",
          "iopub.status.idle": "2023-11-16T01:02:07.527980Z",
          "shell.execute_reply.started": "2023-11-16T01:02:07.517117Z",
          "shell.execute_reply": "2023-11-16T01:02:07.527058Z"
        },
        "trusted": true,
        "id": "Zz-TqLoI7tiY",
        "outputId": "e938264e-98d5-4ba4-b938-0ef350991e85",
        "colab": {
          "base_uri": "https://localhost:8080/"
        }
      },
      "execution_count": 22,
      "outputs": [
        {
          "output_type": "execute_result",
          "data": {
            "text/plain": [
              "<tf.Tensor: shape=(), dtype=string, numpy=b'bin blue at l six now'>"
            ]
          },
          "metadata": {},
          "execution_count": 22
        }
      ]
    },
    {
      "cell_type": "code",
      "source": [
        "def mappable_function(path:str) ->List[str]:\n",
        "    result = tf.py_function(load_data, [path], (tf.float32, tf.int64))\n",
        "    return result"
      ],
      "metadata": {
        "tags": [],
        "execution": {
          "iopub.status.busy": "2023-11-16T01:02:07.528969Z",
          "iopub.execute_input": "2023-11-16T01:02:07.529207Z",
          "iopub.status.idle": "2023-11-16T01:02:07.534332Z",
          "shell.execute_reply.started": "2023-11-16T01:02:07.529185Z",
          "shell.execute_reply": "2023-11-16T01:02:07.533492Z"
        },
        "trusted": true,
        "id": "ZGk9R6qs7tiY"
      },
      "execution_count": 23,
      "outputs": []
    },
    {
      "cell_type": "markdown",
      "source": [
        "# 2. Create Data Pipeline"
      ],
      "metadata": {
        "tags": [],
        "id": "2-zSHLth7tiZ"
      }
    },
    {
      "cell_type": "code",
      "source": [
        "from matplotlib import pyplot as plt"
      ],
      "metadata": {
        "tags": [],
        "execution": {
          "iopub.status.busy": "2023-11-16T01:02:07.535419Z",
          "iopub.execute_input": "2023-11-16T01:02:07.535709Z",
          "iopub.status.idle": "2023-11-16T01:02:07.543321Z",
          "shell.execute_reply.started": "2023-11-16T01:02:07.535685Z",
          "shell.execute_reply": "2023-11-16T01:02:07.542480Z"
        },
        "trusted": true,
        "id": "pHUfqDjk7tiZ"
      },
      "execution_count": 24,
      "outputs": []
    },
    {
      "cell_type": "code",
      "source": [
        "data = tf.data.Dataset.list_files('./data/s1/*.mpg')\n",
        "data = data.shuffle(500, reshuffle_each_iteration=False)\n",
        "data = data.map(mappable_function)\n",
        "data = data.padded_batch(2, padded_shapes=([75,None,None,None],[40]))\n",
        "data = data.prefetch(tf.data.AUTOTUNE)\n",
        "# Added for split\n",
        "train = data.take(450)\n",
        "test = data.skip(450)"
      ],
      "metadata": {
        "tags": [],
        "execution": {
          "iopub.status.busy": "2023-11-16T01:02:07.552753Z",
          "iopub.execute_input": "2023-11-16T01:02:07.553068Z",
          "iopub.status.idle": "2023-11-16T01:02:07.660047Z",
          "shell.execute_reply.started": "2023-11-16T01:02:07.553045Z",
          "shell.execute_reply": "2023-11-16T01:02:07.659302Z"
        },
        "trusted": true,
        "id": "r2M0SH7J7tiZ"
      },
      "execution_count": 25,
      "outputs": []
    },
    {
      "cell_type": "code",
      "source": [
        "len(train)"
      ],
      "metadata": {
        "execution": {
          "iopub.status.busy": "2023-11-16T01:02:07.661133Z",
          "iopub.execute_input": "2023-11-16T01:02:07.661413Z",
          "iopub.status.idle": "2023-11-16T01:02:07.667877Z",
          "shell.execute_reply.started": "2023-11-16T01:02:07.661387Z",
          "shell.execute_reply": "2023-11-16T01:02:07.666701Z"
        },
        "trusted": true,
        "id": "ff0t6Yqk7tiZ",
        "outputId": "cb7d8b0d-8f0a-4574-c8eb-a47cd225710b",
        "colab": {
          "base_uri": "https://localhost:8080/"
        }
      },
      "execution_count": 26,
      "outputs": [
        {
          "output_type": "execute_result",
          "data": {
            "text/plain": [
              "450"
            ]
          },
          "metadata": {},
          "execution_count": 26
        }
      ]
    },
    {
      "cell_type": "code",
      "source": [
        "frames, alignments = data.as_numpy_iterator().next()"
      ],
      "metadata": {
        "execution": {
          "iopub.status.busy": "2023-11-16T01:02:07.668868Z",
          "iopub.execute_input": "2023-11-16T01:02:07.669157Z",
          "iopub.status.idle": "2023-11-16T01:02:08.373507Z",
          "shell.execute_reply.started": "2023-11-16T01:02:07.669123Z",
          "shell.execute_reply": "2023-11-16T01:02:08.372488Z"
        },
        "trusted": true,
        "id": "HR1w4akR7tiZ"
      },
      "execution_count": 27,
      "outputs": []
    },
    {
      "cell_type": "code",
      "source": [
        "len(frames)"
      ],
      "metadata": {
        "execution": {
          "iopub.status.busy": "2023-11-16T01:02:08.374766Z",
          "iopub.execute_input": "2023-11-16T01:02:08.375065Z",
          "iopub.status.idle": "2023-11-16T01:02:08.381548Z",
          "shell.execute_reply.started": "2023-11-16T01:02:08.375038Z",
          "shell.execute_reply": "2023-11-16T01:02:08.380485Z"
        },
        "trusted": true,
        "id": "Rdb0JUK67tiZ",
        "outputId": "ea3c7e6a-9362-4cd9-ab98-f2c6fe79a49b",
        "colab": {
          "base_uri": "https://localhost:8080/"
        }
      },
      "execution_count": 28,
      "outputs": [
        {
          "output_type": "execute_result",
          "data": {
            "text/plain": [
              "2"
            ]
          },
          "metadata": {},
          "execution_count": 28
        }
      ]
    },
    {
      "cell_type": "code",
      "source": [
        "sample = data.as_numpy_iterator()"
      ],
      "metadata": {
        "tags": [],
        "execution": {
          "iopub.status.busy": "2023-11-16T01:02:08.382959Z",
          "iopub.execute_input": "2023-11-16T01:02:08.383352Z",
          "iopub.status.idle": "2023-11-16T01:02:08.393436Z",
          "shell.execute_reply.started": "2023-11-16T01:02:08.383319Z",
          "shell.execute_reply": "2023-11-16T01:02:08.392611Z"
        },
        "trusted": true,
        "id": "GX9CYKNC7tia"
      },
      "execution_count": 29,
      "outputs": []
    },
    {
      "cell_type": "code",
      "source": [
        "# len(sample)"
      ],
      "metadata": {
        "execution": {
          "iopub.status.busy": "2023-11-16T01:02:08.394839Z",
          "iopub.execute_input": "2023-11-16T01:02:08.395420Z",
          "iopub.status.idle": "2023-11-16T01:02:08.399362Z",
          "shell.execute_reply.started": "2023-11-16T01:02:08.395387Z",
          "shell.execute_reply": "2023-11-16T01:02:08.398384Z"
        },
        "trusted": true,
        "id": "5Lp7WWqF7tia"
      },
      "execution_count": null,
      "outputs": []
    },
    {
      "cell_type": "code",
      "source": [
        "val = sample.next(); val[0]"
      ],
      "metadata": {
        "scrolled": true,
        "tags": [],
        "execution": {
          "iopub.status.busy": "2023-11-16T01:02:08.400409Z",
          "iopub.execute_input": "2023-11-16T01:02:08.400690Z",
          "iopub.status.idle": "2023-11-16T01:02:08.845733Z",
          "shell.execute_reply.started": "2023-11-16T01:02:08.400667Z",
          "shell.execute_reply": "2023-11-16T01:02:08.844693Z"
        },
        "trusted": true,
        "id": "2EwmHWJd7tia",
        "outputId": "bb684545-21d9-477c-e582-28b90a26a470",
        "colab": {
          "base_uri": "https://localhost:8080/"
        }
      },
      "execution_count": 30,
      "outputs": [
        {
          "output_type": "execute_result",
          "data": {
            "text/plain": [
              "array([[[[[ 1.2339853 ],\n",
              "          [ 1.3534032 ],\n",
              "          [ 1.1941793 ],\n",
              "          ...,\n",
              "          [ 0.23883587],\n",
              "          [ 0.23883587],\n",
              "          [ 0.23883587]],\n",
              "\n",
              "         [[ 1.1941793 ],\n",
              "          [ 1.3534032 ],\n",
              "          [ 1.1543734 ],\n",
              "          ...,\n",
              "          [ 0.23883587],\n",
              "          [ 0.23883587],\n",
              "          [ 0.23883587]],\n",
              "\n",
              "         [[ 1.3534032 ],\n",
              "          [ 1.1543734 ],\n",
              "          [ 0.8359255 ],\n",
              "          ...,\n",
              "          [ 0.27864185],\n",
              "          [ 0.1990299 ],\n",
              "          [ 0.1990299 ]],\n",
              "\n",
              "         ...,\n",
              "\n",
              "         [[ 1.1145674 ],\n",
              "          [ 1.1145674 ],\n",
              "          [ 1.0747614 ],\n",
              "          ...,\n",
              "          [ 0.        ],\n",
              "          [10.150524  ],\n",
              "          [10.150524  ]],\n",
              "\n",
              "         [[ 1.1145674 ],\n",
              "          [ 1.1145674 ],\n",
              "          [ 1.0349554 ],\n",
              "          ...,\n",
              "          [ 0.        ],\n",
              "          [10.150524  ],\n",
              "          [10.150524  ]],\n",
              "\n",
              "         [[ 1.1145674 ],\n",
              "          [ 1.1145674 ],\n",
              "          [ 1.0349554 ],\n",
              "          ...,\n",
              "          [ 0.        ],\n",
              "          [10.150524  ],\n",
              "          [10.150524  ]]],\n",
              "\n",
              "\n",
              "        [[[ 1.3534032 ],\n",
              "          [ 1.3534032 ],\n",
              "          [ 1.1543734 ],\n",
              "          ...,\n",
              "          [ 0.23883587],\n",
              "          [ 0.23883587],\n",
              "          [ 0.23883587]],\n",
              "\n",
              "         [[ 1.1145674 ],\n",
              "          [ 1.2339853 ],\n",
              "          [ 1.1145674 ],\n",
              "          ...,\n",
              "          [ 0.23883587],\n",
              "          [ 0.23883587],\n",
              "          [ 0.23883587]],\n",
              "\n",
              "         [[ 1.3534032 ],\n",
              "          [ 1.4330152 ],\n",
              "          [ 0.8757315 ],\n",
              "          ...,\n",
              "          [ 0.1990299 ],\n",
              "          [ 0.1990299 ],\n",
              "          [ 0.15922391]],\n",
              "\n",
              "         ...,\n",
              "\n",
              "         [[ 1.1145674 ],\n",
              "          [ 1.1145674 ],\n",
              "          [ 1.0747614 ],\n",
              "          ...,\n",
              "          [ 0.        ],\n",
              "          [10.150524  ],\n",
              "          [10.150524  ]],\n",
              "\n",
              "         [[ 1.0747614 ],\n",
              "          [ 1.0747614 ],\n",
              "          [ 1.0747614 ],\n",
              "          ...,\n",
              "          [ 0.        ],\n",
              "          [10.150524  ],\n",
              "          [10.150524  ]],\n",
              "\n",
              "         [[ 1.0747614 ],\n",
              "          [ 1.0747614 ],\n",
              "          [ 1.0747614 ],\n",
              "          ...,\n",
              "          [ 0.        ],\n",
              "          [10.150524  ],\n",
              "          [10.150524  ]]],\n",
              "\n",
              "\n",
              "        [[[ 1.4330152 ],\n",
              "          [ 1.3135973 ],\n",
              "          [ 1.3135973 ],\n",
              "          ...,\n",
              "          [ 0.1990299 ],\n",
              "          [ 0.1990299 ],\n",
              "          [ 0.1990299 ]],\n",
              "\n",
              "         [[ 1.1543734 ],\n",
              "          [ 1.3135973 ],\n",
              "          [ 1.1941793 ],\n",
              "          ...,\n",
              "          [ 0.1990299 ],\n",
              "          [ 0.1990299 ],\n",
              "          [ 0.1990299 ]],\n",
              "\n",
              "         [[ 1.3135973 ],\n",
              "          [ 1.3932092 ],\n",
              "          [ 0.8757315 ],\n",
              "          ...,\n",
              "          [ 0.1990299 ],\n",
              "          [ 0.1990299 ],\n",
              "          [ 0.15922391]],\n",
              "\n",
              "         ...,\n",
              "\n",
              "         [[ 1.1543734 ],\n",
              "          [ 1.1543734 ],\n",
              "          [ 1.1543734 ],\n",
              "          ...,\n",
              "          [10.150524  ],\n",
              "          [10.150524  ],\n",
              "          [10.110719  ]],\n",
              "\n",
              "         [[ 1.1145674 ],\n",
              "          [ 1.1145674 ],\n",
              "          [ 1.1145674 ],\n",
              "          ...,\n",
              "          [10.150524  ],\n",
              "          [10.150524  ],\n",
              "          [10.110719  ]],\n",
              "\n",
              "         [[ 1.1145674 ],\n",
              "          [ 1.1145674 ],\n",
              "          [ 1.0747614 ],\n",
              "          ...,\n",
              "          [10.150524  ],\n",
              "          [10.150524  ],\n",
              "          [10.110719  ]]],\n",
              "\n",
              "\n",
              "        ...,\n",
              "\n",
              "\n",
              "        [[[ 1.4330152 ],\n",
              "          [ 1.3534032 ],\n",
              "          [ 1.3135973 ],\n",
              "          ...,\n",
              "          [ 0.23883587],\n",
              "          [ 0.23883587],\n",
              "          [ 0.23883587]],\n",
              "\n",
              "         [[ 1.3932092 ],\n",
              "          [ 1.3932092 ],\n",
              "          [ 1.3534032 ],\n",
              "          ...,\n",
              "          [ 0.23883587],\n",
              "          [ 0.23883587],\n",
              "          [ 0.23883587]],\n",
              "\n",
              "         [[ 1.2339853 ],\n",
              "          [ 1.2737913 ],\n",
              "          [ 1.1145674 ],\n",
              "          ...,\n",
              "          [ 0.31844783],\n",
              "          [ 0.31844783],\n",
              "          [ 0.23883587]],\n",
              "\n",
              "         ...,\n",
              "\n",
              "         [[ 1.0747614 ],\n",
              "          [ 1.0747614 ],\n",
              "          [ 1.0349554 ],\n",
              "          ...,\n",
              "          [ 0.        ],\n",
              "          [ 0.        ],\n",
              "          [ 0.        ]],\n",
              "\n",
              "         [[ 1.1145674 ],\n",
              "          [ 1.1145674 ],\n",
              "          [ 1.0349554 ],\n",
              "          ...,\n",
              "          [ 0.03980598],\n",
              "          [ 0.03980598],\n",
              "          [ 0.        ]],\n",
              "\n",
              "         [[ 1.1145674 ],\n",
              "          [ 1.1145674 ],\n",
              "          [ 0.99514943],\n",
              "          ...,\n",
              "          [ 0.03980598],\n",
              "          [ 0.03980598],\n",
              "          [ 0.        ]]],\n",
              "\n",
              "\n",
              "        [[[ 1.4728212 ],\n",
              "          [ 1.3534032 ],\n",
              "          [ 1.1941793 ],\n",
              "          ...,\n",
              "          [ 0.23883587],\n",
              "          [ 0.23883587],\n",
              "          [ 0.23883587]],\n",
              "\n",
              "         [[ 1.4330152 ],\n",
              "          [ 1.3932092 ],\n",
              "          [ 1.2737913 ],\n",
              "          ...,\n",
              "          [ 0.23883587],\n",
              "          [ 0.23883587],\n",
              "          [ 0.23883587]],\n",
              "\n",
              "         [[ 1.3135973 ],\n",
              "          [ 1.2339853 ],\n",
              "          [ 1.1543734 ],\n",
              "          ...,\n",
              "          [ 0.31844783],\n",
              "          [ 0.23883587],\n",
              "          [ 0.23883587]],\n",
              "\n",
              "         ...,\n",
              "\n",
              "         [[ 1.1145674 ],\n",
              "          [ 1.1145674 ],\n",
              "          [ 1.0747614 ],\n",
              "          ...,\n",
              "          [ 0.03980598],\n",
              "          [ 0.03980598],\n",
              "          [ 0.        ]],\n",
              "\n",
              "         [[ 1.1145674 ],\n",
              "          [ 1.1145674 ],\n",
              "          [ 1.1145674 ],\n",
              "          ...,\n",
              "          [ 0.03980598],\n",
              "          [ 0.03980598],\n",
              "          [ 0.03980598]],\n",
              "\n",
              "         [[ 1.1145674 ],\n",
              "          [ 1.0747614 ],\n",
              "          [ 1.0747614 ],\n",
              "          ...,\n",
              "          [ 0.03980598],\n",
              "          [ 0.        ],\n",
              "          [ 0.03980598]]],\n",
              "\n",
              "\n",
              "        [[[ 1.5126271 ],\n",
              "          [ 1.3534032 ],\n",
              "          [ 1.2737913 ],\n",
              "          ...,\n",
              "          [ 0.23883587],\n",
              "          [ 0.23883587],\n",
              "          [ 0.23883587]],\n",
              "\n",
              "         [[ 1.5922391 ],\n",
              "          [ 1.3534032 ],\n",
              "          [ 1.1941793 ],\n",
              "          ...,\n",
              "          [ 0.23883587],\n",
              "          [ 0.23883587],\n",
              "          [ 0.23883587]],\n",
              "\n",
              "         [[ 1.2737913 ],\n",
              "          [ 1.1941793 ],\n",
              "          [ 1.0747614 ],\n",
              "          ...,\n",
              "          [ 0.31844783],\n",
              "          [ 0.31844783],\n",
              "          [ 0.23883587]],\n",
              "\n",
              "         ...,\n",
              "\n",
              "         [[ 1.1543734 ],\n",
              "          [ 1.1145674 ],\n",
              "          [ 1.0747614 ],\n",
              "          ...,\n",
              "          [ 0.03980598],\n",
              "          [ 0.03980598],\n",
              "          [ 0.03980598]],\n",
              "\n",
              "         [[ 1.1543734 ],\n",
              "          [ 1.1145674 ],\n",
              "          [ 1.1145674 ],\n",
              "          ...,\n",
              "          [ 0.03980598],\n",
              "          [ 0.03980598],\n",
              "          [ 0.03980598]],\n",
              "\n",
              "         [[ 1.1543734 ],\n",
              "          [ 1.1145674 ],\n",
              "          [ 1.1145674 ],\n",
              "          ...,\n",
              "          [ 0.03980598],\n",
              "          [ 0.03980598],\n",
              "          [ 0.        ]]]],\n",
              "\n",
              "\n",
              "\n",
              "       [[[[ 1.6218268 ],\n",
              "          [ 1.508676  ],\n",
              "          [ 1.1692239 ],\n",
              "          ...,\n",
              "          [ 0.4148859 ],\n",
              "          [ 0.377169  ],\n",
              "          [ 0.377169  ]],\n",
              "\n",
              "         [[ 1.4709591 ],\n",
              "          [ 1.6218268 ],\n",
              "          [ 1.1692239 ],\n",
              "          ...,\n",
              "          [ 0.4148859 ],\n",
              "          [ 0.377169  ],\n",
              "          [ 0.377169  ]],\n",
              "\n",
              "         [[ 1.6218268 ],\n",
              "          [ 1.6218268 ],\n",
              "          [ 1.508676  ],\n",
              "          ...,\n",
              "          [ 0.4148859 ],\n",
              "          [ 0.377169  ],\n",
              "          [ 0.377169  ]],\n",
              "\n",
              "         ...,\n",
              "\n",
              "         [[ 1.0937902 ],\n",
              "          [ 1.0937902 ],\n",
              "          [ 1.0937902 ],\n",
              "          ...,\n",
              "          [ 0.1131507 ],\n",
              "          [ 0.1131507 ],\n",
              "          [ 0.1131507 ]],\n",
              "\n",
              "         [[ 1.0560732 ],\n",
              "          [ 1.0560732 ],\n",
              "          [ 1.0560732 ],\n",
              "          ...,\n",
              "          [ 0.1131507 ],\n",
              "          [ 0.1131507 ],\n",
              "          [ 0.1131507 ]],\n",
              "\n",
              "         [[ 1.0560732 ],\n",
              "          [ 1.0560732 ],\n",
              "          [ 1.0560732 ],\n",
              "          ...,\n",
              "          [ 0.1131507 ],\n",
              "          [ 0.1131507 ],\n",
              "          [ 0.0754338 ]]],\n",
              "\n",
              "\n",
              "        [[[ 1.5463929 ],\n",
              "          [ 1.508676  ],\n",
              "          [ 1.3200915 ],\n",
              "          ...,\n",
              "          [ 0.4526028 ],\n",
              "          [ 0.377169  ],\n",
              "          [ 0.377169  ]],\n",
              "\n",
              "         [[ 1.5463929 ],\n",
              "          [ 1.5463929 ],\n",
              "          [ 1.3578085 ],\n",
              "          ...,\n",
              "          [ 0.4526028 ],\n",
              "          [ 0.377169  ],\n",
              "          [ 0.377169  ]],\n",
              "\n",
              "         [[ 1.4332422 ],\n",
              "          [ 1.4332422 ],\n",
              "          [ 1.3955253 ],\n",
              "          ...,\n",
              "          [ 0.377169  ],\n",
              "          [ 0.377169  ],\n",
              "          [ 0.33945212]],\n",
              "\n",
              "         ...,\n",
              "\n",
              "         [[ 1.0560732 ],\n",
              "          [ 1.0560732 ],\n",
              "          [ 1.0560732 ],\n",
              "          ...,\n",
              "          [ 0.1131507 ],\n",
              "          [ 0.0754338 ],\n",
              "          [ 0.0754338 ]],\n",
              "\n",
              "         [[ 1.0183563 ],\n",
              "          [ 1.0183563 ],\n",
              "          [ 1.0183563 ],\n",
              "          ...,\n",
              "          [ 0.0754338 ],\n",
              "          [ 0.0754338 ],\n",
              "          [ 0.0754338 ]],\n",
              "\n",
              "         [[ 1.0183563 ],\n",
              "          [ 1.0183563 ],\n",
              "          [ 1.0183563 ],\n",
              "          ...,\n",
              "          [ 0.0754338 ],\n",
              "          [ 0.0754338 ],\n",
              "          [ 0.0377169 ]]],\n",
              "\n",
              "\n",
              "        [[[ 1.5841098 ],\n",
              "          [ 1.508676  ],\n",
              "          [ 1.2823746 ],\n",
              "          ...,\n",
              "          [ 0.377169  ],\n",
              "          [ 0.3017352 ],\n",
              "          [ 0.3017352 ]],\n",
              "\n",
              "         [[ 1.5841098 ],\n",
              "          [ 1.5463929 ],\n",
              "          [ 1.3578085 ],\n",
              "          ...,\n",
              "          [ 0.377169  ],\n",
              "          [ 0.3017352 ],\n",
              "          [ 0.3017352 ]],\n",
              "\n",
              "         [[ 1.4332422 ],\n",
              "          [ 1.4332422 ],\n",
              "          [ 1.3955253 ],\n",
              "          ...,\n",
              "          [ 0.377169  ],\n",
              "          [ 0.377169  ],\n",
              "          [ 0.377169  ]],\n",
              "\n",
              "         ...,\n",
              "\n",
              "         [[ 1.0937902 ],\n",
              "          [ 1.0937902 ],\n",
              "          [ 1.0937902 ],\n",
              "          ...,\n",
              "          [ 0.1131507 ],\n",
              "          [ 0.1131507 ],\n",
              "          [ 0.0754338 ]],\n",
              "\n",
              "         [[ 1.0560732 ],\n",
              "          [ 1.0560732 ],\n",
              "          [ 1.0560732 ],\n",
              "          ...,\n",
              "          [ 0.1131507 ],\n",
              "          [ 0.0754338 ],\n",
              "          [ 0.0754338 ]],\n",
              "\n",
              "         [[ 1.0560732 ],\n",
              "          [ 1.0560732 ],\n",
              "          [ 1.0560732 ],\n",
              "          ...,\n",
              "          [ 0.0754338 ],\n",
              "          [ 0.0754338 ],\n",
              "          [ 0.0754338 ]]],\n",
              "\n",
              "\n",
              "        ...,\n",
              "\n",
              "\n",
              "        [[[ 1.4332422 ],\n",
              "          [ 1.4332422 ],\n",
              "          [ 1.4709591 ],\n",
              "          ...,\n",
              "          [ 0.377169  ],\n",
              "          [ 0.4148859 ],\n",
              "          [ 0.377169  ]],\n",
              "\n",
              "         [[ 1.4332422 ],\n",
              "          [ 1.4332422 ],\n",
              "          [ 1.4709591 ],\n",
              "          ...,\n",
              "          [ 0.377169  ],\n",
              "          [ 0.4148859 ],\n",
              "          [ 0.377169  ]],\n",
              "\n",
              "         [[ 1.4332422 ],\n",
              "          [ 1.3955253 ],\n",
              "          [ 1.3955253 ],\n",
              "          ...,\n",
              "          [ 0.33945212],\n",
              "          [ 0.33945212],\n",
              "          [ 0.33945212]],\n",
              "\n",
              "         ...,\n",
              "\n",
              "         [[ 1.0937902 ],\n",
              "          [ 1.0560732 ],\n",
              "          [ 1.0560732 ],\n",
              "          ...,\n",
              "          [ 0.0377169 ],\n",
              "          [ 0.0377169 ],\n",
              "          [ 0.0377169 ]],\n",
              "\n",
              "         [[ 1.0560732 ],\n",
              "          [ 1.0560732 ],\n",
              "          [ 1.0560732 ],\n",
              "          ...,\n",
              "          [ 0.0377169 ],\n",
              "          [ 0.0377169 ],\n",
              "          [ 0.        ]],\n",
              "\n",
              "         [[ 1.0560732 ],\n",
              "          [ 1.0560732 ],\n",
              "          [ 1.0560732 ],\n",
              "          ...,\n",
              "          [ 0.0377169 ],\n",
              "          [ 0.        ],\n",
              "          [ 0.        ]]],\n",
              "\n",
              "\n",
              "        [[[ 1.4709591 ],\n",
              "          [ 1.4709591 ],\n",
              "          [ 1.508676  ],\n",
              "          ...,\n",
              "          [ 0.377169  ],\n",
              "          [ 0.4148859 ],\n",
              "          [ 0.377169  ]],\n",
              "\n",
              "         [[ 1.4709591 ],\n",
              "          [ 1.4709591 ],\n",
              "          [ 1.508676  ],\n",
              "          ...,\n",
              "          [ 0.377169  ],\n",
              "          [ 0.4148859 ],\n",
              "          [ 0.377169  ]],\n",
              "\n",
              "         [[ 1.5463929 ],\n",
              "          [ 1.4709591 ],\n",
              "          [ 1.4709591 ],\n",
              "          ...,\n",
              "          [ 0.33945212],\n",
              "          [ 0.33945212],\n",
              "          [ 0.33945212]],\n",
              "\n",
              "         ...,\n",
              "\n",
              "         [[ 1.0937902 ],\n",
              "          [ 1.0560732 ],\n",
              "          [ 1.0560732 ],\n",
              "          ...,\n",
              "          [ 0.0377169 ],\n",
              "          [ 0.0377169 ],\n",
              "          [ 0.0377169 ]],\n",
              "\n",
              "         [[ 1.0560732 ],\n",
              "          [ 1.0560732 ],\n",
              "          [ 1.0560732 ],\n",
              "          ...,\n",
              "          [ 0.0377169 ],\n",
              "          [ 0.0377169 ],\n",
              "          [ 0.        ]],\n",
              "\n",
              "         [[ 1.0560732 ],\n",
              "          [ 1.0560732 ],\n",
              "          [ 1.0560732 ],\n",
              "          ...,\n",
              "          [ 0.0377169 ],\n",
              "          [ 0.        ],\n",
              "          [ 0.        ]]],\n",
              "\n",
              "\n",
              "        [[[ 1.5463929 ],\n",
              "          [ 1.5463929 ],\n",
              "          [ 1.508676  ],\n",
              "          ...,\n",
              "          [ 0.4148859 ],\n",
              "          [ 0.4148859 ],\n",
              "          [ 0.377169  ]],\n",
              "\n",
              "         [[ 1.5463929 ],\n",
              "          [ 1.5463929 ],\n",
              "          [ 1.508676  ],\n",
              "          ...,\n",
              "          [ 0.377169  ],\n",
              "          [ 0.377169  ],\n",
              "          [ 0.377169  ]],\n",
              "\n",
              "         [[ 1.5463929 ],\n",
              "          [ 1.4709591 ],\n",
              "          [ 1.4709591 ],\n",
              "          ...,\n",
              "          [ 0.377169  ],\n",
              "          [ 0.377169  ],\n",
              "          [ 0.377169  ]],\n",
              "\n",
              "         ...,\n",
              "\n",
              "         [[ 1.0183563 ],\n",
              "          [ 1.0183563 ],\n",
              "          [ 1.0183563 ],\n",
              "          ...,\n",
              "          [ 0.0377169 ],\n",
              "          [ 0.0377169 ],\n",
              "          [ 0.0377169 ]],\n",
              "\n",
              "         [[ 1.0183563 ],\n",
              "          [ 1.0183563 ],\n",
              "          [ 1.0183563 ],\n",
              "          ...,\n",
              "          [ 0.0377169 ],\n",
              "          [ 0.0377169 ],\n",
              "          [ 0.0377169 ]],\n",
              "\n",
              "         [[ 1.0183563 ],\n",
              "          [ 1.0183563 ],\n",
              "          [ 1.0183563 ],\n",
              "          ...,\n",
              "          [ 0.0377169 ],\n",
              "          [ 0.0377169 ],\n",
              "          [ 0.        ]]]]], dtype=float32)"
            ]
          },
          "metadata": {},
          "execution_count": 30
        }
      ]
    },
    {
      "cell_type": "code",
      "source": [
        "\n",
        "# for i in range (50):\n",
        "#     val = sample.next()\n",
        "\n",
        "#     print(i,val[0][0][0][0][0])\n",
        "#     print(tf.strings.reduce_join([num_to_char(word) for word in val[1][0]]))\n",
        "#     yhat = model.predict(val[0])\n",
        "#     print(tf.strings.reduce_join([num_to_char(x) for x in tf.argmax(yhat[0],axis=1)]))\n",
        "#     print(tf.strings.reduce_join([num_to_char(tf.argmax(x)) for x in yhat[0]]))"
      ],
      "metadata": {
        "execution": {
          "iopub.status.busy": "2023-11-16T01:02:08.849213Z",
          "iopub.execute_input": "2023-11-16T01:02:08.849536Z",
          "iopub.status.idle": "2023-11-16T01:02:08.854538Z",
          "shell.execute_reply.started": "2023-11-16T01:02:08.849509Z",
          "shell.execute_reply": "2023-11-16T01:02:08.853313Z"
        },
        "trusted": true,
        "id": "McdMshJo7tia"
      },
      "execution_count": null,
      "outputs": []
    },
    {
      "cell_type": "code",
      "source": [
        "# imageio.mimsave('./animation.gif', val[0][0], fps=10)"
      ],
      "metadata": {
        "tags": [],
        "execution": {
          "iopub.status.busy": "2023-11-16T01:02:08.856444Z",
          "iopub.execute_input": "2023-11-16T01:02:08.857382Z",
          "iopub.status.idle": "2023-11-16T01:02:08.867939Z",
          "shell.execute_reply.started": "2023-11-16T01:02:08.857348Z",
          "shell.execute_reply": "2023-11-16T01:02:08.865876Z"
        },
        "trusted": true,
        "id": "KMddw-nM7tia"
      },
      "execution_count": null,
      "outputs": []
    },
    {
      "cell_type": "code",
      "source": [
        "# 0:videos, 0: 1st video out of the batch,  0: return the first frame in the video\n",
        "plt.imshow(val[0][0][35])"
      ],
      "metadata": {
        "tags": [],
        "execution": {
          "iopub.status.busy": "2023-11-16T01:02:08.870680Z",
          "iopub.execute_input": "2023-11-16T01:02:08.871024Z",
          "iopub.status.idle": "2023-11-16T01:02:09.177830Z",
          "shell.execute_reply.started": "2023-11-16T01:02:08.870991Z",
          "shell.execute_reply": "2023-11-16T01:02:09.176227Z"
        },
        "trusted": true,
        "id": "SA_r8VqS7tia",
        "outputId": "bba5d85d-e983-451a-858b-3eed2507cec9",
        "colab": {
          "base_uri": "https://localhost:8080/",
          "height": 245
        }
      },
      "execution_count": 31,
      "outputs": [
        {
          "output_type": "execute_result",
          "data": {
            "text/plain": [
              "<matplotlib.image.AxesImage at 0x79f36d724c70>"
            ]
          },
          "metadata": {},
          "execution_count": 31
        },
        {
          "output_type": "display_data",
          "data": {
            "text/plain": [
              "<Figure size 640x480 with 1 Axes>"
            ],
            "image/png": "[encoded data removed]"
          },
          "metadata": {}
        }
      ]
    },
    {
      "cell_type": "code",
      "source": [
        "tf.strings.reduce_join([num_to_char(word) for word in val[1][0]])"
      ],
      "metadata": {
        "tags": [],
        "execution": {
          "iopub.status.busy": "2023-11-16T01:02:09.179875Z",
          "iopub.execute_input": "2023-11-16T01:02:09.180156Z",
          "iopub.status.idle": "2023-11-16T01:02:09.252441Z",
          "shell.execute_reply.started": "2023-11-16T01:02:09.180131Z",
          "shell.execute_reply": "2023-11-16T01:02:09.250826Z"
        },
        "trusted": true,
        "id": "Jn_iqxhK7tib",
        "outputId": "cd4ac136-bebd-4c44-a5f2-409510b5a7e2",
        "colab": {
          "base_uri": "https://localhost:8080/"
        }
      },
      "execution_count": 32,
      "outputs": [
        {
          "output_type": "execute_result",
          "data": {
            "text/plain": [
              "<tf.Tensor: shape=(), dtype=string, numpy=b'set blue with b five again'>"
            ]
          },
          "metadata": {},
          "execution_count": 32
        }
      ]
    },
    {
      "cell_type": "markdown",
      "source": [
        "# 3. Design the Deep Neural Network"
      ],
      "metadata": {
        "tags": [],
        "id": "pnoR0WkR7tib"
      }
    },
    {
      "cell_type": "code",
      "source": [
        "from tensorflow.keras.models import Sequential\n",
        "from tensorflow.keras.layers import Conv3D, LSTM, Dense, Dropout, Bidirectional, MaxPool3D, Activation, Reshape, SpatialDropout3D, BatchNormalization, TimeDistributed, Flatten\n",
        "from tensorflow.keras.optimizers import Adam\n",
        "from tensorflow.keras.callbacks import ModelCheckpoint, LearningRateScheduler"
      ],
      "metadata": {
        "tags": [],
        "execution": {
          "iopub.status.busy": "2023-11-16T01:02:09.254567Z",
          "iopub.execute_input": "2023-11-16T01:02:09.254830Z",
          "iopub.status.idle": "2023-11-16T01:02:09.267015Z",
          "shell.execute_reply.started": "2023-11-16T01:02:09.254807Z",
          "shell.execute_reply": "2023-11-16T01:02:09.265945Z"
        },
        "trusted": true,
        "id": "UvWnqJqe7tib"
      },
      "execution_count": 33,
      "outputs": []
    },
    {
      "cell_type": "code",
      "source": [
        "data.as_numpy_iterator().next()[0][0].shape"
      ],
      "metadata": {
        "execution": {
          "iopub.status.busy": "2023-11-16T01:02:09.269705Z",
          "iopub.execute_input": "2023-11-16T01:02:09.269962Z",
          "iopub.status.idle": "2023-11-16T01:02:10.183317Z",
          "shell.execute_reply.started": "2023-11-16T01:02:09.269939Z",
          "shell.execute_reply": "2023-11-16T01:02:10.182371Z"
        },
        "trusted": true,
        "id": "pHfz57-J7tib",
        "outputId": "0b01009b-ee93-4b9b-9b12-82cb4bb8b3fe",
        "colab": {
          "base_uri": "https://localhost:8080/"
        }
      },
      "execution_count": 34,
      "outputs": [
        {
          "output_type": "execute_result",
          "data": {
            "text/plain": [
              "(75, 46, 140, 1)"
            ]
          },
          "metadata": {},
          "execution_count": 34
        }
      ]
    },
    {
      "cell_type": "code",
      "source": [
        "model = Sequential()\n",
        "model.add(Conv3D(128, 3, input_shape=(75,46,140,1), padding='same'))\n",
        "model.add(Activation('relu'))\n",
        "model.add(MaxPool3D((1,2,2)))\n",
        "\n",
        "model.add(Conv3D(256, 3, padding='same'))\n",
        "model.add(Activation('relu'))\n",
        "model.add(MaxPool3D((1,2,2)))\n",
        "\n",
        "model.add(Conv3D(75, 3, padding='same'))\n",
        "model.add(Activation('relu'))\n",
        "model.add(MaxPool3D((1,2,2)))\n",
        "\n",
        "model.add(TimeDistributed(Flatten()))\n",
        "\n",
        "model.add(Bidirectional(LSTM(128, kernel_initializer='Orthogonal', return_sequences=True)))\n",
        "model.add(Dropout(.5))\n",
        "\n",
        "model.add(Bidirectional(LSTM(128, kernel_initializer='Orthogonal', return_sequences=True)))\n",
        "model.add(Dropout(.5))\n",
        "\n",
        "model.add(Dense(char_to_num.vocabulary_size()+1, kernel_initializer='he_normal', activation='softmax'))"
      ],
      "metadata": {
        "tags": [],
        "execution": {
          "iopub.status.busy": "2023-11-16T01:02:10.184620Z",
          "iopub.execute_input": "2023-11-16T01:02:10.185713Z",
          "iopub.status.idle": "2023-11-16T01:02:12.367267Z",
          "shell.execute_reply.started": "2023-11-16T01:02:10.185683Z",
          "shell.execute_reply": "2023-11-16T01:02:12.366243Z"
        },
        "trusted": true,
        "id": "ed9yBoR67tib",
        "outputId": "190865fd-8cbe-4a6a-9107-325ed068818a",
        "colab": {
          "base_uri": "https://localhost:8080/"
        }
      },
      "execution_count": 35,
      "outputs": [
        {
          "output_type": "stream",
          "name": "stderr",
          "text": [
            "/usr/local/lib/python3.10/dist-packages/keras/src/layers/convolutional/base_conv.py:107: UserWarning: Do not pass an `input_shape`/`input_dim` argument to a layer. When using Sequential models, prefer using an `Input(shape)` object as the first layer in the model instead.\n",
            "  super().__init__(activity_regularizer=activity_regularizer, **kwargs)\n"
          ]
        }
      ]
    },
    {
      "cell_type": "code",
      "source": [
        "# url = 'https://drive.google.com/uc?id=1vWscXs4Vt0a_1IH1-ct2TCgXAZT-N3_Y'\n",
        "# url = 'https://drive.google.com/file/d/1fyZoYgqZw_aRa66kiOR6J8XLu3Y9wfMg/view?usp=sharing'\n",
        "# url = 'https://drive.google.com/u/0/uc?id=1JAmcd2v0JcZStgs69VytgqwGJMlhNeaT&export=download'\n",
        "# output = 'check.zip'\n",
        "# gdown.download(url, output, quiet=False)\n",
        "# gdown.extractall('check.zip', 'models')"
      ],
      "metadata": {
        "execution": {
          "iopub.status.busy": "2023-11-16T01:02:12.368701Z",
          "iopub.execute_input": "2023-11-16T01:02:12.369086Z",
          "iopub.status.idle": "2023-11-16T01:02:12.374115Z",
          "shell.execute_reply.started": "2023-11-16T01:02:12.369050Z",
          "shell.execute_reply": "2023-11-16T01:02:12.373081Z"
        },
        "trusted": true,
        "id": "sRh9He3h7tib"
      },
      "execution_count": null,
      "outputs": []
    },
    {
      "cell_type": "code",
      "source": [
        "# model.load_weights('./models/models/checkpoint')"
      ],
      "metadata": {
        "execution": {
          "iopub.status.busy": "2023-11-16T01:02:12.375308Z",
          "iopub.execute_input": "2023-11-16T01:02:12.375650Z",
          "iopub.status.idle": "2023-11-16T01:02:12.385450Z",
          "shell.execute_reply.started": "2023-11-16T01:02:12.375624Z",
          "shell.execute_reply": "2023-11-16T01:02:12.384584Z"
        },
        "trusted": true,
        "id": "MfYr3duG7tib"
      },
      "execution_count": null,
      "outputs": []
    },
    {
      "cell_type": "code",
      "source": [
        "model.summary()"
      ],
      "metadata": {
        "tags": [],
        "execution": {
          "iopub.status.busy": "2023-11-16T01:02:12.386652Z",
          "iopub.execute_input": "2023-11-16T01:02:12.387025Z",
          "iopub.status.idle": "2023-11-16T01:02:12.432834Z",
          "shell.execute_reply.started": "2023-11-16T01:02:12.386994Z",
          "shell.execute_reply": "2023-11-16T01:02:12.432029Z"
        },
        "trusted": true,
        "id": "pAFcYuhi7tib",
        "outputId": "635e587a-33cd-4642-8f00-e1d96dd9b52f",
        "colab": {
          "base_uri": "https://localhost:8080/",
          "height": 628
        }
      },
      "execution_count": 36,
      "outputs": [
        {
          "output_type": "display_data",
          "data": {
            "text/plain": [
              "\u001b[1mModel: \"sequential\"\u001b[0m\n"
            ],
            "text/html": [
              "<pre style=\"white-space:pre;overflow-x:auto;line-height:normal;font-family:Menlo,'DejaVu Sans Mono',consolas,'Courier New',monospace\"><span style=\"font-weight: bold\">Model: \"sequential\"</span>\n",
              "</pre>\n"
            ]
          },
          "metadata": {}
        },
        {
          "output_type": "display_data",
          "data": {
            "text/plain": [
              "┏━━━━━━━━━━━━━━━━━━━━━━━━━━━━━━━━━━━━━━┳━━━━━━━━━━━━━━━━━━━━━━━━━━━━━┳━━━━━━━━━━━━━━━━━┓\n",
              "┃\u001b[1m \u001b[0m\u001b[1mLayer (type)                        \u001b[0m\u001b[1m \u001b[0m┃\u001b[1m \u001b[0m\u001b[1mOutput Shape               \u001b[0m\u001b[1m \u001b[0m┃\u001b[1m \u001b[0m\u001b[1m        Param #\u001b[0m\u001b[1m \u001b[0m┃\n",
              "┡━━━━━━━━━━━━━━━━━━━━━━━━━━━━━━━━━━━━━━╇━━━━━━━━━━━━━━━━━━━━━━━━━━━━━╇━━━━━━━━━━━━━━━━━┩\n",
              "│ conv3d (\u001b[38;5;33mConv3D\u001b[0m)                      │ (\u001b[38;5;45mNone\u001b[0m, \u001b[38;5;34m75\u001b[0m, \u001b[38;5;34m46\u001b[0m, \u001b[38;5;34m140\u001b[0m, \u001b[38;5;34m128\u001b[0m)    │           \u001b[38;5;34m3,584\u001b[0m │\n",
              "├──────────────────────────────────────┼─────────────────────────────┼─────────────────┤\n",
              "│ activation (\u001b[38;5;33mActivation\u001b[0m)              │ (\u001b[38;5;45mNone\u001b[0m, \u001b[38;5;34m75\u001b[0m, \u001b[38;5;34m46\u001b[0m, \u001b[38;5;34m140\u001b[0m, \u001b[38;5;34m128\u001b[0m)    │               \u001b[38;5;34m0\u001b[0m │\n",
              "├──────────────────────────────────────┼─────────────────────────────┼─────────────────┤\n",
              "│ max_pooling3d (\u001b[38;5;33mMaxPooling3D\u001b[0m)         │ (\u001b[38;5;45mNone\u001b[0m, \u001b[38;5;34m75\u001b[0m, \u001b[38;5;34m23\u001b[0m, \u001b[38;5;34m70\u001b[0m, \u001b[38;5;34m128\u001b[0m)     │               \u001b[38;5;34m0\u001b[0m │\n",
              "├──────────────────────────────────────┼─────────────────────────────┼─────────────────┤\n",
              "│ conv3d_1 (\u001b[38;5;33mConv3D\u001b[0m)                    │ (\u001b[38;5;45mNone\u001b[0m, \u001b[38;5;34m75\u001b[0m, \u001b[38;5;34m23\u001b[0m, \u001b[38;5;34m70\u001b[0m, \u001b[38;5;34m256\u001b[0m)     │         \u001b[38;5;34m884,992\u001b[0m │\n",
              "├──────────────────────────────────────┼─────────────────────────────┼─────────────────┤\n",
              "│ activation_1 (\u001b[38;5;33mActivation\u001b[0m)            │ (\u001b[38;5;45mNone\u001b[0m, \u001b[38;5;34m75\u001b[0m, \u001b[38;5;34m23\u001b[0m, \u001b[38;5;34m70\u001b[0m, \u001b[38;5;34m256\u001b[0m)     │               \u001b[38;5;34m0\u001b[0m │\n",
              "├──────────────────────────────────────┼─────────────────────────────┼─────────────────┤\n",
              "│ max_pooling3d_1 (\u001b[38;5;33mMaxPooling3D\u001b[0m)       │ (\u001b[38;5;45mNone\u001b[0m, \u001b[38;5;34m75\u001b[0m, \u001b[38;5;34m11\u001b[0m, \u001b[38;5;34m35\u001b[0m, \u001b[38;5;34m256\u001b[0m)     │               \u001b[38;5;34m0\u001b[0m │\n",
              "├──────────────────────────────────────┼─────────────────────────────┼─────────────────┤\n",
              "│ conv3d_2 (\u001b[38;5;33mConv3D\u001b[0m)                    │ (\u001b[38;5;45mNone\u001b[0m, \u001b[38;5;34m75\u001b[0m, \u001b[38;5;34m11\u001b[0m, \u001b[38;5;34m35\u001b[0m, \u001b[38;5;34m75\u001b[0m)      │         \u001b[38;5;34m518,475\u001b[0m │\n",
              "├──────────────────────────────────────┼─────────────────────────────┼─────────────────┤\n",
              "│ activation_2 (\u001b[38;5;33mActivation\u001b[0m)            │ (\u001b[38;5;45mNone\u001b[0m, \u001b[38;5;34m75\u001b[0m, \u001b[38;5;34m11\u001b[0m, \u001b[38;5;34m35\u001b[0m, \u001b[38;5;34m75\u001b[0m)      │               \u001b[38;5;34m0\u001b[0m │\n",
              "├──────────────────────────────────────┼─────────────────────────────┼─────────────────┤\n",
              "│ max_pooling3d_2 (\u001b[38;5;33mMaxPooling3D\u001b[0m)       │ (\u001b[38;5;45mNone\u001b[0m, \u001b[38;5;34m75\u001b[0m, \u001b[38;5;34m5\u001b[0m, \u001b[38;5;34m17\u001b[0m, \u001b[38;5;34m75\u001b[0m)       │               \u001b[38;5;34m0\u001b[0m │\n",
              "├──────────────────────────────────────┼─────────────────────────────┼─────────────────┤\n",
              "│ time_distributed (\u001b[38;5;33mTimeDistributed\u001b[0m)   │ (\u001b[38;5;45mNone\u001b[0m, \u001b[38;5;34m75\u001b[0m, \u001b[38;5;34m6375\u001b[0m)            │               \u001b[38;5;34m0\u001b[0m │\n",
              "├──────────────────────────────────────┼─────────────────────────────┼─────────────────┤\n",
              "│ bidirectional (\u001b[38;5;33mBidirectional\u001b[0m)        │ (\u001b[38;5;45mNone\u001b[0m, \u001b[38;5;34m75\u001b[0m, \u001b[38;5;34m256\u001b[0m)             │       \u001b[38;5;34m6,660,096\u001b[0m │\n",
              "├──────────────────────────────────────┼─────────────────────────────┼─────────────────┤\n",
              "│ dropout (\u001b[38;5;33mDropout\u001b[0m)                    │ (\u001b[38;5;45mNone\u001b[0m, \u001b[38;5;34m75\u001b[0m, \u001b[38;5;34m256\u001b[0m)             │               \u001b[38;5;34m0\u001b[0m │\n",
              "├──────────────────────────────────────┼─────────────────────────────┼─────────────────┤\n",
              "│ bidirectional_1 (\u001b[38;5;33mBidirectional\u001b[0m)      │ (\u001b[38;5;45mNone\u001b[0m, \u001b[38;5;34m75\u001b[0m, \u001b[38;5;34m256\u001b[0m)             │         \u001b[38;5;34m394,240\u001b[0m │\n",
              "├──────────────────────────────────────┼─────────────────────────────┼─────────────────┤\n",
              "│ dropout_1 (\u001b[38;5;33mDropout\u001b[0m)                  │ (\u001b[38;5;45mNone\u001b[0m, \u001b[38;5;34m75\u001b[0m, \u001b[38;5;34m256\u001b[0m)             │               \u001b[38;5;34m0\u001b[0m │\n",
              "├──────────────────────────────────────┼─────────────────────────────┼─────────────────┤\n",
              "│ dense (\u001b[38;5;33mDense\u001b[0m)                        │ (\u001b[38;5;45mNone\u001b[0m, \u001b[38;5;34m75\u001b[0m, \u001b[38;5;34m41\u001b[0m)              │          \u001b[38;5;34m10,537\u001b[0m │\n",
              "└──────────────────────────────────────┴─────────────────────────────┴─────────────────┘\n"
            ],
            "text/html": [
              "<pre style=\"white-space:pre;overflow-x:auto;line-height:normal;font-family:Menlo,'DejaVu Sans Mono',consolas,'Courier New',monospace\">┏━━━━━━━━━━━━━━━━━━━━━━━━━━━━━━━━━━━━━━┳━━━━━━━━━━━━━━━━━━━━━━━━━━━━━┳━━━━━━━━━━━━━━━━━┓\n",
              "┃<span style=\"font-weight: bold\"> Layer (type)                         </span>┃<span style=\"font-weight: bold\"> Output Shape                </span>┃<span style=\"font-weight: bold\">         Param # </span>┃\n",
              "┡━━━━━━━━━━━━━━━━━━━━━━━━━━━━━━━━━━━━━━╇━━━━━━━━━━━━━━━━━━━━━━━━━━━━━╇━━━━━━━━━━━━━━━━━┩\n",
              "│ conv3d (<span style=\"color: #0087ff; text-decoration-color: #0087ff\">Conv3D</span>)                      │ (<span style=\"color: #00d7ff; text-decoration-color: #00d7ff\">None</span>, <span style=\"color: #00af00; text-decoration-color: #00af00\">75</span>, <span style=\"color: #00af00; text-decoration-color: #00af00\">46</span>, <span style=\"color: #00af00; text-decoration-color: #00af00\">140</span>, <span style=\"color: #00af00; text-decoration-color: #00af00\">128</span>)    │           <span style=\"color: #00af00; text-decoration-color: #00af00\">3,584</span> │\n",
              "├──────────────────────────────────────┼─────────────────────────────┼─────────────────┤\n",
              "│ activation (<span style=\"color: #0087ff; text-decoration-color: #0087ff\">Activation</span>)              │ (<span style=\"color: #00d7ff; text-decoration-color: #00d7ff\">None</span>, <span style=\"color: #00af00; text-decoration-color: #00af00\">75</span>, <span style=\"color: #00af00; text-decoration-color: #00af00\">46</span>, <span style=\"color: #00af00; text-decoration-color: #00af00\">140</span>, <span style=\"color: #00af00; text-decoration-color: #00af00\">128</span>)    │               <span style=\"color: #00af00; text-decoration-color: #00af00\">0</span> │\n",
              "├──────────────────────────────────────┼─────────────────────────────┼─────────────────┤\n",
              "│ max_pooling3d (<span style=\"color: #0087ff; text-decoration-color: #0087ff\">MaxPooling3D</span>)         │ (<span style=\"color: #00d7ff; text-decoration-color: #00d7ff\">None</span>, <span style=\"color: #00af00; text-decoration-color: #00af00\">75</span>, <span style=\"color: #00af00; text-decoration-color: #00af00\">23</span>, <span style=\"color: #00af00; text-decoration-color: #00af00\">70</span>, <span style=\"color: #00af00; text-decoration-color: #00af00\">128</span>)     │               <span style=\"color: #00af00; text-decoration-color: #00af00\">0</span> │\n",
              "├──────────────────────────────────────┼─────────────────────────────┼─────────────────┤\n",
              "│ conv3d_1 (<span style=\"color: #0087ff; text-decoration-color: #0087ff\">Conv3D</span>)                    │ (<span style=\"color: #00d7ff; text-decoration-color: #00d7ff\">None</span>, <span style=\"color: #00af00; text-decoration-color: #00af00\">75</span>, <span style=\"color: #00af00; text-decoration-color: #00af00\">23</span>, <span style=\"color: #00af00; text-decoration-color: #00af00\">70</span>, <span style=\"color: #00af00; text-decoration-color: #00af00\">256</span>)     │         <span style=\"color: #00af00; text-decoration-color: #00af00\">884,992</span> │\n",
              "├──────────────────────────────────────┼─────────────────────────────┼─────────────────┤\n",
              "│ activation_1 (<span style=\"color: #0087ff; text-decoration-color: #0087ff\">Activation</span>)            │ (<span style=\"color: #00d7ff; text-decoration-color: #00d7ff\">None</span>, <span style=\"color: #00af00; text-decoration-color: #00af00\">75</span>, <span style=\"color: #00af00; text-decoration-color: #00af00\">23</span>, <span style=\"color: #00af00; text-decoration-color: #00af00\">70</span>, <span style=\"color: #00af00; text-decoration-color: #00af00\">256</span>)     │               <span style=\"color: #00af00; text-decoration-color: #00af00\">0</span> │\n",
              "├──────────────────────────────────────┼─────────────────────────────┼─────────────────┤\n",
              "│ max_pooling3d_1 (<span style=\"color: #0087ff; text-decoration-color: #0087ff\">MaxPooling3D</span>)       │ (<span style=\"color: #00d7ff; text-decoration-color: #00d7ff\">None</span>, <span style=\"color: #00af00; text-decoration-color: #00af00\">75</span>, <span style=\"color: #00af00; text-decoration-color: #00af00\">11</span>, <span style=\"color: #00af00; text-decoration-color: #00af00\">35</span>, <span style=\"color: #00af00; text-decoration-color: #00af00\">256</span>)     │               <span style=\"color: #00af00; text-decoration-color: #00af00\">0</span> │\n",
              "├──────────────────────────────────────┼─────────────────────────────┼─────────────────┤\n",
              "│ conv3d_2 (<span style=\"color: #0087ff; text-decoration-color: #0087ff\">Conv3D</span>)                    │ (<span style=\"color: #00d7ff; text-decoration-color: #00d7ff\">None</span>, <span style=\"color: #00af00; text-decoration-color: #00af00\">75</span>, <span style=\"color: #00af00; text-decoration-color: #00af00\">11</span>, <span style=\"color: #00af00; text-decoration-color: #00af00\">35</span>, <span style=\"color: #00af00; text-decoration-color: #00af00\">75</span>)      │         <span style=\"color: #00af00; text-decoration-color: #00af00\">518,475</span> │\n",
              "├──────────────────────────────────────┼─────────────────────────────┼─────────────────┤\n",
              "│ activation_2 (<span style=\"color: #0087ff; text-decoration-color: #0087ff\">Activation</span>)            │ (<span style=\"color: #00d7ff; text-decoration-color: #00d7ff\">None</span>, <span style=\"color: #00af00; text-decoration-color: #00af00\">75</span>, <span style=\"color: #00af00; text-decoration-color: #00af00\">11</span>, <span style=\"color: #00af00; text-decoration-color: #00af00\">35</span>, <span style=\"color: #00af00; text-decoration-color: #00af00\">75</span>)      │               <span style=\"color: #00af00; text-decoration-color: #00af00\">0</span> │\n",
              "├──────────────────────────────────────┼─────────────────────────────┼─────────────────┤\n",
              "│ max_pooling3d_2 (<span style=\"color: #0087ff; text-decoration-color: #0087ff\">MaxPooling3D</span>)       │ (<span style=\"color: #00d7ff; text-decoration-color: #00d7ff\">None</span>, <span style=\"color: #00af00; text-decoration-color: #00af00\">75</span>, <span style=\"color: #00af00; text-decoration-color: #00af00\">5</span>, <span style=\"color: #00af00; text-decoration-color: #00af00\">17</span>, <span style=\"color: #00af00; text-decoration-color: #00af00\">75</span>)       │               <span style=\"color: #00af00; text-decoration-color: #00af00\">0</span> │\n",
              "├──────────────────────────────────────┼─────────────────────────────┼─────────────────┤\n",
              "│ time_distributed (<span style=\"color: #0087ff; text-decoration-color: #0087ff\">TimeDistributed</span>)   │ (<span style=\"color: #00d7ff; text-decoration-color: #00d7ff\">None</span>, <span style=\"color: #00af00; text-decoration-color: #00af00\">75</span>, <span style=\"color: #00af00; text-decoration-color: #00af00\">6375</span>)            │               <span style=\"color: #00af00; text-decoration-color: #00af00\">0</span> │\n",
              "├──────────────────────────────────────┼─────────────────────────────┼─────────────────┤\n",
              "│ bidirectional (<span style=\"color: #0087ff; text-decoration-color: #0087ff\">Bidirectional</span>)        │ (<span style=\"color: #00d7ff; text-decoration-color: #00d7ff\">None</span>, <span style=\"color: #00af00; text-decoration-color: #00af00\">75</span>, <span style=\"color: #00af00; text-decoration-color: #00af00\">256</span>)             │       <span style=\"color: #00af00; text-decoration-color: #00af00\">6,660,096</span> │\n",
              "├──────────────────────────────────────┼─────────────────────────────┼─────────────────┤\n",
              "│ dropout (<span style=\"color: #0087ff; text-decoration-color: #0087ff\">Dropout</span>)                    │ (<span style=\"color: #00d7ff; text-decoration-color: #00d7ff\">None</span>, <span style=\"color: #00af00; text-decoration-color: #00af00\">75</span>, <span style=\"color: #00af00; text-decoration-color: #00af00\">256</span>)             │               <span style=\"color: #00af00; text-decoration-color: #00af00\">0</span> │\n",
              "├──────────────────────────────────────┼─────────────────────────────┼─────────────────┤\n",
              "│ bidirectional_1 (<span style=\"color: #0087ff; text-decoration-color: #0087ff\">Bidirectional</span>)      │ (<span style=\"color: #00d7ff; text-decoration-color: #00d7ff\">None</span>, <span style=\"color: #00af00; text-decoration-color: #00af00\">75</span>, <span style=\"color: #00af00; text-decoration-color: #00af00\">256</span>)             │         <span style=\"color: #00af00; text-decoration-color: #00af00\">394,240</span> │\n",
              "├──────────────────────────────────────┼─────────────────────────────┼─────────────────┤\n",
              "│ dropout_1 (<span style=\"color: #0087ff; text-decoration-color: #0087ff\">Dropout</span>)                  │ (<span style=\"color: #00d7ff; text-decoration-color: #00d7ff\">None</span>, <span style=\"color: #00af00; text-decoration-color: #00af00\">75</span>, <span style=\"color: #00af00; text-decoration-color: #00af00\">256</span>)             │               <span style=\"color: #00af00; text-decoration-color: #00af00\">0</span> │\n",
              "├──────────────────────────────────────┼─────────────────────────────┼─────────────────┤\n",
              "│ dense (<span style=\"color: #0087ff; text-decoration-color: #0087ff\">Dense</span>)                        │ (<span style=\"color: #00d7ff; text-decoration-color: #00d7ff\">None</span>, <span style=\"color: #00af00; text-decoration-color: #00af00\">75</span>, <span style=\"color: #00af00; text-decoration-color: #00af00\">41</span>)              │          <span style=\"color: #00af00; text-decoration-color: #00af00\">10,537</span> │\n",
              "└──────────────────────────────────────┴─────────────────────────────┴─────────────────┘\n",
              "</pre>\n"
            ]
          },
          "metadata": {}
        },
        {
          "output_type": "display_data",
          "data": {
            "text/plain": [
              "\u001b[1m Total params: \u001b[0m\u001b[38;5;34m8,471,924\u001b[0m (32.32 MB)\n"
            ],
            "text/html": [
              "<pre style=\"white-space:pre;overflow-x:auto;line-height:normal;font-family:Menlo,'DejaVu Sans Mono',consolas,'Courier New',monospace\"><span style=\"font-weight: bold\"> Total params: </span><span style=\"color: #00af00; text-decoration-color: #00af00\">8,471,924</span> (32.32 MB)\n",
              "</pre>\n"
            ]
          },
          "metadata": {}
        },
        {
          "output_type": "display_data",
          "data": {
            "text/plain": [
              "\u001b[1m Trainable params: \u001b[0m\u001b[38;5;34m8,471,924\u001b[0m (32.32 MB)\n"
            ],
            "text/html": [
              "<pre style=\"white-space:pre;overflow-x:auto;line-height:normal;font-family:Menlo,'DejaVu Sans Mono',consolas,'Courier New',monospace\"><span style=\"font-weight: bold\"> Trainable params: </span><span style=\"color: #00af00; text-decoration-color: #00af00\">8,471,924</span> (32.32 MB)\n",
              "</pre>\n"
            ]
          },
          "metadata": {}
        },
        {
          "output_type": "display_data",
          "data": {
            "text/plain": [
              "\u001b[1m Non-trainable params: \u001b[0m\u001b[38;5;34m0\u001b[0m (0.00 B)\n"
            ],
            "text/html": [
              "<pre style=\"white-space:pre;overflow-x:auto;line-height:normal;font-family:Menlo,'DejaVu Sans Mono',consolas,'Courier New',monospace\"><span style=\"font-weight: bold\"> Non-trainable params: </span><span style=\"color: #00af00; text-decoration-color: #00af00\">0</span> (0.00 B)\n",
              "</pre>\n"
            ]
          },
          "metadata": {}
        }
      ]
    },
    {
      "cell_type": "code",
      "source": [
        "5*17*75"
      ],
      "metadata": {
        "execution": {
          "iopub.status.busy": "2023-11-16T01:02:12.433949Z",
          "iopub.execute_input": "2023-11-16T01:02:12.434271Z",
          "iopub.status.idle": "2023-11-16T01:02:12.440389Z",
          "shell.execute_reply.started": "2023-11-16T01:02:12.434239Z",
          "shell.execute_reply": "2023-11-16T01:02:12.439478Z"
        },
        "trusted": true,
        "id": "2NOR5Ubo7tic",
        "outputId": "2f9f8d4a-747c-4bb2-e340-3611fbec68f8",
        "colab": {
          "base_uri": "https://localhost:8080/"
        }
      },
      "execution_count": 37,
      "outputs": [
        {
          "output_type": "execute_result",
          "data": {
            "text/plain": [
              "6375"
            ]
          },
          "metadata": {},
          "execution_count": 37
        }
      ]
    },
    {
      "cell_type": "code",
      "source": [
        "yhat = model.predict(val[0])"
      ],
      "metadata": {
        "tags": [],
        "execution": {
          "iopub.status.busy": "2023-11-16T01:02:12.441390Z",
          "iopub.execute_input": "2023-11-16T01:02:12.441738Z",
          "iopub.status.idle": "2023-11-16T01:02:17.867857Z",
          "shell.execute_reply.started": "2023-11-16T01:02:12.441708Z",
          "shell.execute_reply": "2023-11-16T01:02:17.866905Z"
        },
        "trusted": true,
        "id": "-73CAQ6s7tic",
        "outputId": "f05fdf08-f89f-4be6-8579-fddbe3b2ca32",
        "colab": {
          "base_uri": "https://localhost:8080/"
        }
      },
      "execution_count": 38,
      "outputs": [
        {
          "output_type": "stream",
          "name": "stdout",
          "text": [
            "\u001b[1m1/1\u001b[0m \u001b[32m━━━━━━━━━━━━━━━━━━━━\u001b[0m\u001b[37m\u001b[0m \u001b[1m9s\u001b[0m 9s/step\n"
          ]
        }
      ]
    },
    {
      "cell_type": "code",
      "source": [
        "tf.strings.reduce_join([num_to_char(x) for x in tf.argmax(yhat[0],axis=1)])"
      ],
      "metadata": {
        "execution": {
          "iopub.status.busy": "2023-11-16T01:02:17.869368Z",
          "iopub.execute_input": "2023-11-16T01:02:17.869776Z",
          "iopub.status.idle": "2023-11-16T01:02:18.011056Z",
          "shell.execute_reply.started": "2023-11-16T01:02:17.869743Z",
          "shell.execute_reply": "2023-11-16T01:02:18.009234Z"
        },
        "trusted": true,
        "id": "7Ds3xvJT7tic",
        "outputId": "4772efb6-a3de-4bc8-9b20-47275bbca6c9",
        "colab": {
          "base_uri": "https://localhost:8080/"
        }
      },
      "execution_count": 39,
      "outputs": [
        {
          "output_type": "execute_result",
          "data": {
            "text/plain": [
              "<tf.Tensor: shape=(), dtype=string, numpy=b'9999999222222222224422222444444444444444444444444444444444444444444444444??'>"
            ]
          },
          "metadata": {},
          "execution_count": 39
        }
      ]
    },
    {
      "cell_type": "code",
      "source": [
        "tf.strings.reduce_join([num_to_char(tf.argmax(x)) for x in yhat[0]])"
      ],
      "metadata": {
        "tags": [],
        "execution": {
          "iopub.status.busy": "2023-11-16T01:02:18.013854Z",
          "iopub.execute_input": "2023-11-16T01:02:18.014624Z",
          "iopub.status.idle": "2023-11-16T01:02:18.198215Z",
          "shell.execute_reply.started": "2023-11-16T01:02:18.014568Z",
          "shell.execute_reply": "2023-11-16T01:02:18.196422Z"
        },
        "trusted": true,
        "id": "d82VYHML7tic",
        "outputId": "cee77039-41e4-4c3e-b5f3-df3b766595b6",
        "colab": {
          "base_uri": "https://localhost:8080/"
        }
      },
      "execution_count": 40,
      "outputs": [
        {
          "output_type": "execute_result",
          "data": {
            "text/plain": [
              "<tf.Tensor: shape=(), dtype=string, numpy=b'9999999222222222224422222444444444444444444444444444444444444444444444444??'>"
            ]
          },
          "metadata": {},
          "execution_count": 40
        }
      ]
    },
    {
      "cell_type": "code",
      "source": [
        "model.input_shape"
      ],
      "metadata": {
        "tags": [],
        "execution": {
          "iopub.status.busy": "2023-11-16T01:02:18.200916Z",
          "iopub.execute_input": "2023-11-16T01:02:18.201696Z",
          "iopub.status.idle": "2023-11-16T01:02:18.212821Z",
          "shell.execute_reply.started": "2023-11-16T01:02:18.201612Z",
          "shell.execute_reply": "2023-11-16T01:02:18.210996Z"
        },
        "trusted": true,
        "id": "vFOHQJZo7tic",
        "outputId": "b2a2ec42-dc49-4261-be39-901ecfd514f3",
        "colab": {
          "base_uri": "https://localhost:8080/"
        }
      },
      "execution_count": 41,
      "outputs": [
        {
          "output_type": "execute_result",
          "data": {
            "text/plain": [
              "(None, 75, 46, 140, 1)"
            ]
          },
          "metadata": {},
          "execution_count": 41
        }
      ]
    },
    {
      "cell_type": "code",
      "source": [
        "model.output_shape"
      ],
      "metadata": {
        "tags": [],
        "execution": {
          "iopub.status.busy": "2023-11-16T01:02:18.215246Z",
          "iopub.execute_input": "2023-11-16T01:02:18.216022Z",
          "iopub.status.idle": "2023-11-16T01:02:18.227781Z",
          "shell.execute_reply.started": "2023-11-16T01:02:18.215963Z",
          "shell.execute_reply": "2023-11-16T01:02:18.226185Z"
        },
        "trusted": true,
        "id": "jjcPAJ3K7tid",
        "outputId": "74e50b7c-7dde-4b9c-8dad-daf126bf0bbc",
        "colab": {
          "base_uri": "https://localhost:8080/"
        }
      },
      "execution_count": 42,
      "outputs": [
        {
          "output_type": "execute_result",
          "data": {
            "text/plain": [
              "(None, 75, 41)"
            ]
          },
          "metadata": {},
          "execution_count": 42
        }
      ]
    },
    {
      "cell_type": "markdown",
      "source": [
        "# 4. Setup Training Options and Train"
      ],
      "metadata": {
        "tags": [],
        "id": "9o-tr-yZ7tid"
      }
    },
    {
      "cell_type": "code",
      "source": [
        "def scheduler(epoch, lr):\n",
        "    if epoch < 30:\n",
        "        return lr\n",
        "    else:\n",
        "        return lr * tf.math.exp(-0.1)"
      ],
      "metadata": {
        "tags": [],
        "execution": {
          "iopub.status.busy": "2023-11-16T01:02:18.230038Z",
          "iopub.execute_input": "2023-11-16T01:02:18.230390Z",
          "iopub.status.idle": "2023-11-16T01:02:18.238048Z",
          "shell.execute_reply.started": "2023-11-16T01:02:18.230356Z",
          "shell.execute_reply": "2023-11-16T01:02:18.236699Z"
        },
        "trusted": true,
        "id": "YK8omCgi7tid"
      },
      "execution_count": 43,
      "outputs": []
    },
    {
      "cell_type": "code",
      "source": [
        "def CTCLoss(y_true, y_pred):\n",
        "    batch_len = tf.cast(tf.shape(y_true)[0], dtype=\"int64\")\n",
        "    input_length = tf.cast(tf.shape(y_pred)[1], dtype=\"int64\")\n",
        "    label_length = tf.cast(tf.shape(y_true)[1], dtype=\"int64\")\n",
        "\n",
        "    input_length = input_length * tf.ones(shape=(batch_len, 1), dtype=\"int64\")\n",
        "    label_length = label_length * tf.ones(shape=(batch_len, 1), dtype=\"int64\")\n",
        "\n",
        "    loss = tf.keras.backend.ctc_batch_cost(y_true, y_pred, input_length, label_length)\n",
        "    return loss"
      ],
      "metadata": {
        "tags": [],
        "execution": {
          "iopub.status.busy": "2023-11-16T01:02:18.239359Z",
          "iopub.execute_input": "2023-11-16T01:02:18.239706Z",
          "iopub.status.idle": "2023-11-16T01:02:18.251918Z",
          "shell.execute_reply.started": "2023-11-16T01:02:18.239678Z",
          "shell.execute_reply": "2023-11-16T01:02:18.250056Z"
        },
        "trusted": true,
        "id": "s9gu1u457tid"
      },
      "execution_count": 44,
      "outputs": []
    },
    {
      "cell_type": "code",
      "source": [
        "class ProduceExample(tf.keras.callbacks.Callback):\n",
        "    def __init__(self, dataset) -> None:\n",
        "        self.dataset = dataset.as_numpy_iterator()\n",
        "\n",
        "    def on_epoch_end(self, epoch, logs=None) -> None:\n",
        "        data = self.dataset.next()\n",
        "        yhat = self.model.predict(data[0])\n",
        "        decoded = tf.keras.backend.ctc_decode(yhat, [75,75], greedy=False)[0][0].numpy()\n",
        "        for x in range(len(yhat)):\n",
        "            print('Original:', tf.strings.reduce_join(num_to_char(data[1][x])).numpy().decode('utf-8'))\n",
        "            print('Prediction:', tf.strings.reduce_join(num_to_char(decoded[x])).numpy().decode('utf-8'))\n",
        "            print('~'*100)"
      ],
      "metadata": {
        "tags": [],
        "execution": {
          "iopub.status.busy": "2023-11-16T01:02:18.253816Z",
          "iopub.execute_input": "2023-11-16T01:02:18.254204Z",
          "iopub.status.idle": "2023-11-16T01:02:18.267950Z",
          "shell.execute_reply.started": "2023-11-16T01:02:18.254167Z",
          "shell.execute_reply": "2023-11-16T01:02:18.265822Z"
        },
        "trusted": true,
        "id": "CRc7i46S7tid"
      },
      "execution_count": 47,
      "outputs": []
    },
    {
      "cell_type": "code",
      "source": [
        "model.compile(optimizer=tf.keras.optimizers.Adam(learning_rate=0.00001), loss=CTCLoss)"
      ],
      "metadata": {
        "tags": [],
        "execution": {
          "iopub.status.busy": "2023-11-16T01:02:18.270718Z",
          "iopub.execute_input": "2023-11-16T01:02:18.272093Z",
          "iopub.status.idle": "2023-11-16T01:02:18.310185Z",
          "shell.execute_reply.started": "2023-11-16T01:02:18.272012Z",
          "shell.execute_reply": "2023-11-16T01:02:18.308020Z"
        },
        "trusted": true,
        "id": "H4tfB5Vg7tid"
      },
      "execution_count": 51,
      "outputs": []
    },
    {
      "cell_type": "code",
      "source": [
        "checkpoint_callback = ModelCheckpoint(os.path.join('models','checkpoint.weights.h5'), monitor='loss', save_weights_only=True)"
      ],
      "metadata": {
        "tags": [],
        "execution": {
          "iopub.status.busy": "2023-11-16T01:02:18.312893Z",
          "iopub.execute_input": "2023-11-16T01:02:18.313619Z",
          "iopub.status.idle": "2023-11-16T01:02:18.323468Z",
          "shell.execute_reply.started": "2023-11-16T01:02:18.313555Z",
          "shell.execute_reply": "2023-11-16T01:02:18.321547Z"
        },
        "trusted": true,
        "id": "kutkkEZy7tie"
      },
      "execution_count": 54,
      "outputs": []
    },
    {
      "cell_type": "code",
      "source": [
        "schedule_callback = LearningRateScheduler(scheduler)"
      ],
      "metadata": {
        "tags": [],
        "execution": {
          "iopub.status.busy": "2023-11-16T01:02:18.325921Z",
          "iopub.execute_input": "2023-11-16T01:02:18.326646Z",
          "iopub.status.idle": "2023-11-16T01:02:18.336578Z",
          "shell.execute_reply.started": "2023-11-16T01:02:18.326572Z",
          "shell.execute_reply": "2023-11-16T01:02:18.334992Z"
        },
        "trusted": true,
        "id": "Jwlfy80o7tie"
      },
      "execution_count": 55,
      "outputs": []
    },
    {
      "cell_type": "code",
      "source": [
        "example_callback = ProduceExample(test)"
      ],
      "metadata": {
        "tags": [],
        "execution": {
          "iopub.status.busy": "2023-11-16T01:02:18.337812Z",
          "iopub.execute_input": "2023-11-16T01:02:18.338182Z",
          "iopub.status.idle": "2023-11-16T01:02:18.375157Z",
          "shell.execute_reply.started": "2023-11-16T01:02:18.338137Z",
          "shell.execute_reply": "2023-11-16T01:02:18.373543Z"
        },
        "trusted": true,
        "id": "-OielM8c7tie"
      },
      "execution_count": 56,
      "outputs": []
    },
    {
      "cell_type": "code",
      "source": [
        "# model.fit(train, validation_data=test, epochs=46, callbacks=[checkpoint_callback, schedule_callback, example_callback])"
      ],
      "metadata": {
        "tags": [],
        "execution": {
          "iopub.status.busy": "2023-11-16T01:02:18.377394Z",
          "iopub.execute_input": "2023-11-16T01:02:18.378054Z",
          "iopub.status.idle": "2023-11-16T01:02:18.388987Z",
          "shell.execute_reply.started": "2023-11-16T01:02:18.378005Z",
          "shell.execute_reply": "2023-11-16T01:02:18.387121Z"
        },
        "trusted": true,
        "id": "HFVlppvL7tie"
      },
      "execution_count": null,
      "outputs": []
    },
    {
      "cell_type": "markdown",
      "source": [
        "# 5. Make a Prediction"
      ],
      "metadata": {
        "tags": [],
        "id": "Ee2zxUNA7tie"
      }
    },
    {
      "cell_type": "code",
      "source": [
        "# url = 'https://drive.google.com/uc?id=1vWscXs4Vt0a_1IH1-ct2TCgXAZT-N3_Y'\n",
        "# output = 'checkpoints.zip'\n",
        "# gdown.download(url, output, quiet=False)\n",
        "# gdown.extractall('checkpoints.zip', 'models')"
      ],
      "metadata": {
        "tags": [],
        "execution": {
          "iopub.status.busy": "2023-11-16T01:02:18.391934Z",
          "iopub.execute_input": "2023-11-16T01:02:18.392824Z",
          "iopub.status.idle": "2023-11-16T01:02:18.401515Z",
          "shell.execute_reply.started": "2023-11-16T01:02:18.392766Z",
          "shell.execute_reply": "2023-11-16T01:02:18.399554Z"
        },
        "trusted": true,
        "id": "bdAfSR1F7tie"
      },
      "execution_count": null,
      "outputs": []
    },
    {
      "cell_type": "code",
      "source": [],
      "metadata": {
        "trusted": true,
        "id": "YC4RGho07tie"
      },
      "execution_count": null,
      "outputs": []
    },
    {
      "cell_type": "code",
      "source": [
        "# model.load_weights('./models/checkpoint')"
      ],
      "metadata": {
        "tags": [],
        "execution": {
          "iopub.status.busy": "2023-11-16T01:02:18.404344Z",
          "iopub.execute_input": "2023-11-16T01:02:18.405551Z",
          "iopub.status.idle": "2023-11-16T01:02:18.414322Z",
          "shell.execute_reply.started": "2023-11-16T01:02:18.405466Z",
          "shell.execute_reply": "2023-11-16T01:02:18.412503Z"
        },
        "trusted": true,
        "id": "p7kA03aS7tie"
      },
      "execution_count": null,
      "outputs": []
    },
    {
      "cell_type": "code",
      "source": [],
      "metadata": {
        "trusted": true,
        "id": "250wiEev7tie"
      },
      "execution_count": null,
      "outputs": []
    },
    {
      "cell_type": "code",
      "source": [
        "test_data = data.as_numpy_iterator()"
      ],
      "metadata": {
        "tags": [],
        "execution": {
          "iopub.status.busy": "2023-11-16T01:02:18.417118Z",
          "iopub.execute_input": "2023-11-16T01:02:18.417827Z",
          "iopub.status.idle": "2023-11-16T01:02:18.438233Z",
          "shell.execute_reply.started": "2023-11-16T01:02:18.417761Z",
          "shell.execute_reply": "2023-11-16T01:02:18.436777Z"
        },
        "trusted": true,
        "id": "qyzQ1K-J7tif"
      },
      "execution_count": 57,
      "outputs": []
    },
    {
      "cell_type": "code",
      "source": [
        "sample = test_data.next()"
      ],
      "metadata": {
        "tags": [],
        "execution": {
          "iopub.status.busy": "2023-11-16T01:02:18.440330Z",
          "iopub.execute_input": "2023-11-16T01:02:18.440743Z",
          "iopub.status.idle": "2023-11-16T01:02:18.909674Z",
          "shell.execute_reply.started": "2023-11-16T01:02:18.440706Z",
          "shell.execute_reply": "2023-11-16T01:02:18.908517Z"
        },
        "trusted": true,
        "id": "ouCYMTBd7tif"
      },
      "execution_count": 58,
      "outputs": []
    },
    {
      "cell_type": "code",
      "source": [
        "sample[0].shape"
      ],
      "metadata": {
        "execution": {
          "iopub.status.busy": "2023-11-16T01:02:18.911098Z",
          "iopub.execute_input": "2023-11-16T01:02:18.911724Z",
          "iopub.status.idle": "2023-11-16T01:02:18.920760Z",
          "shell.execute_reply.started": "2023-11-16T01:02:18.911696Z",
          "shell.execute_reply": "2023-11-16T01:02:18.919667Z"
        },
        "trusted": true,
        "id": "5_bQl2i27tif",
        "outputId": "1097512d-674a-4b76-93f1-070e72c301ee",
        "colab": {
          "base_uri": "https://localhost:8080/"
        }
      },
      "execution_count": 59,
      "outputs": [
        {
          "output_type": "execute_result",
          "data": {
            "text/plain": [
              "(2, 75, 46, 140, 1)"
            ]
          },
          "metadata": {},
          "execution_count": 59
        }
      ]
    },
    {
      "cell_type": "code",
      "source": [
        "sample[1].shape"
      ],
      "metadata": {
        "execution": {
          "iopub.status.busy": "2023-11-16T01:02:18.922780Z",
          "iopub.execute_input": "2023-11-16T01:02:18.923037Z",
          "iopub.status.idle": "2023-11-16T01:02:18.934067Z",
          "shell.execute_reply.started": "2023-11-16T01:02:18.923014Z",
          "shell.execute_reply": "2023-11-16T01:02:18.932549Z"
        },
        "trusted": true,
        "id": "0jEqcmd-7tif",
        "outputId": "dd8178ba-5b49-4382-e782-e69139d57102",
        "colab": {
          "base_uri": "https://localhost:8080/"
        }
      },
      "execution_count": 60,
      "outputs": [
        {
          "output_type": "execute_result",
          "data": {
            "text/plain": [
              "(2, 40)"
            ]
          },
          "metadata": {},
          "execution_count": 60
        }
      ]
    },
    {
      "cell_type": "code",
      "source": [
        "sample[1]"
      ],
      "metadata": {
        "execution": {
          "iopub.status.busy": "2023-11-16T01:02:18.935968Z",
          "iopub.execute_input": "2023-11-16T01:02:18.936239Z",
          "iopub.status.idle": "2023-11-16T01:02:18.946044Z",
          "shell.execute_reply.started": "2023-11-16T01:02:18.936215Z",
          "shell.execute_reply": "2023-11-16T01:02:18.944884Z"
        },
        "trusted": true,
        "id": "-yq_57nX7tif",
        "outputId": "660f072b-974e-44ea-eb24-3c00d721b137",
        "colab": {
          "base_uri": "https://localhost:8080/"
        }
      },
      "execution_count": 61,
      "outputs": [
        {
          "output_type": "execute_result",
          "data": {
            "text/plain": [
              "array([[19,  5, 20, 39, 18,  5,  4, 39, 23,  9, 20,  8, 39, 15, 39, 19,\n",
              "         9, 24, 39, 14, 15, 23,  0,  0,  0,  0,  0,  0,  0,  0,  0,  0,\n",
              "         0,  0,  0,  0,  0,  0,  0,  0],\n",
              "       [19,  5, 20, 39,  7, 18,  5,  5, 14, 39,  2, 25, 39,  3, 39, 14,\n",
              "         9, 14,  5, 39,  1,  7,  1,  9, 14,  0,  0,  0,  0,  0,  0,  0,\n",
              "         0,  0,  0,  0,  0,  0,  0,  0]])"
            ]
          },
          "metadata": {},
          "execution_count": 61
        }
      ]
    },
    {
      "cell_type": "code",
      "source": [
        "yhat = model.predict(sample[0])"
      ],
      "metadata": {
        "tags": [],
        "execution": {
          "iopub.status.busy": "2023-11-16T01:02:18.948346Z",
          "iopub.execute_input": "2023-11-16T01:02:18.948652Z",
          "iopub.status.idle": "2023-11-16T01:02:20.930136Z",
          "shell.execute_reply.started": "2023-11-16T01:02:18.948627Z",
          "shell.execute_reply": "2023-11-16T01:02:20.929211Z"
        },
        "trusted": true,
        "id": "vJdTJFaX7tif",
        "outputId": "066946d4-fbbc-4055-f80b-3178462bfbc9",
        "colab": {
          "base_uri": "https://localhost:8080/"
        }
      },
      "execution_count": 62,
      "outputs": [
        {
          "output_type": "stream",
          "name": "stdout",
          "text": [
            "\u001b[1m1/1\u001b[0m \u001b[32m━━━━━━━━━━━━━━━━━━━━\u001b[0m\u001b[37m\u001b[0m \u001b[1m8s\u001b[0m 8s/step\n"
          ]
        }
      ]
    },
    {
      "cell_type": "code",
      "source": [
        "print('~'*100, 'REAL TEXT')\n",
        "[tf.strings.reduce_join([num_to_char(word) for word in sentence]) for sentence in sample[1]]"
      ],
      "metadata": {
        "tags": [],
        "execution": {
          "iopub.status.busy": "2023-11-16T01:02:20.931667Z",
          "iopub.execute_input": "2023-11-16T01:02:20.932015Z",
          "iopub.status.idle": "2023-11-16T01:02:21.011348Z",
          "shell.execute_reply.started": "2023-11-16T01:02:20.931982Z",
          "shell.execute_reply": "2023-11-16T01:02:21.010469Z"
        },
        "trusted": true,
        "id": "BKiZf5gg7tif",
        "outputId": "6074dfa6-cc27-451f-e93d-17540c1d6467",
        "colab": {
          "base_uri": "https://localhost:8080/"
        }
      },
      "execution_count": 63,
      "outputs": [
        {
          "output_type": "stream",
          "name": "stdout",
          "text": [
            "~~~~~~~~~~~~~~~~~~~~~~~~~~~~~~~~~~~~~~~~~~~~~~~~~~~~~~~~~~~~~~~~~~~~~~~~~~~~~~~~~~~~~~~~~~~~~~~~~~~~ REAL TEXT\n"
          ]
        },
        {
          "output_type": "execute_result",
          "data": {
            "text/plain": [
              "[<tf.Tensor: shape=(), dtype=string, numpy=b'set red with o six now'>,\n",
              " <tf.Tensor: shape=(), dtype=string, numpy=b'set green by c nine again'>]"
            ]
          },
          "metadata": {},
          "execution_count": 63
        }
      ]
    },
    {
      "cell_type": "code",
      "source": [
        "# for i in range (50):\n",
        "#     val = sample.next()\n",
        "\n",
        "# #     print(i,val[0][0][0][0][0])\n",
        "#     og = tf.strings.reduce_join([num_to_char(word) for word in val[1][0]])\n",
        "#     print(og)\n",
        "#     yhat = model.predict(val[0])\n",
        "# #     print(tf.strings.reduce_join([num_to_char(x) for x in tf.argmax(yhat[0],axis=1)]))\n",
        "# #     print(tf.strings.reduce_join([num_to_char(tf.argmax(x)) for x in yhat[0]]))\n",
        "#     decoded = tf.keras.backend.ctc_decode(yhat, input_length=[75,75], greedy=True)[0][0].numpy()\n",
        "#     predicted = [tf.strings.reduce_join([num_to_char(word) for word in sentence]) for sentence in decoded]\n",
        "#     print(predicted)"
      ],
      "metadata": {
        "execution": {
          "iopub.status.busy": "2023-11-16T01:02:21.012632Z",
          "iopub.execute_input": "2023-11-16T01:02:21.012975Z",
          "iopub.status.idle": "2023-11-16T01:02:21.858647Z",
          "shell.execute_reply.started": "2023-11-16T01:02:21.012942Z",
          "shell.execute_reply": "2023-11-16T01:02:21.857344Z"
        },
        "trusted": true,
        "id": "3bwgyJfL7tif"
      },
      "execution_count": null,
      "outputs": []
    },
    {
      "cell_type": "code",
      "source": [
        "decoded = tf.keras.backend.ctc_decode(yhat, input_length=[75,75], greedy=True)[0][0].numpy()"
      ],
      "metadata": {
        "tags": [],
        "execution": {
          "iopub.status.busy": "2023-11-16T01:02:21.860217Z",
          "iopub.execute_input": "2023-11-16T01:02:21.860657Z",
          "iopub.status.idle": "2023-11-16T01:02:21.884725Z",
          "shell.execute_reply.started": "2023-11-16T01:02:21.860604Z",
          "shell.execute_reply": "2023-11-16T01:02:21.883652Z"
        },
        "trusted": true,
        "id": "_u2eVD4U7tig"
      },
      "execution_count": 64,
      "outputs": []
    },
    {
      "cell_type": "code",
      "source": [
        "print('~'*100, 'PREDICTIONS')\n",
        "[tf.strings.reduce_join([num_to_char(word) for word in sentence]) for sentence in decoded]"
      ],
      "metadata": {
        "tags": [],
        "execution": {
          "iopub.status.busy": "2023-11-16T01:02:21.885892Z",
          "iopub.execute_input": "2023-11-16T01:02:21.886180Z",
          "iopub.status.idle": "2023-11-16T01:02:22.038020Z",
          "shell.execute_reply.started": "2023-11-16T01:02:21.886153Z",
          "shell.execute_reply": "2023-11-16T01:02:22.036993Z"
        },
        "trusted": true,
        "id": "Nqc44BsQ7tig",
        "outputId": "629d81e6-96e1-4735-862d-64f20cc7f346",
        "colab": {
          "base_uri": "https://localhost:8080/"
        }
      },
      "execution_count": 65,
      "outputs": [
        {
          "output_type": "stream",
          "name": "stdout",
          "text": [
            "~~~~~~~~~~~~~~~~~~~~~~~~~~~~~~~~~~~~~~~~~~~~~~~~~~~~~~~~~~~~~~~~~~~~~~~~~~~~~~~~~~~~~~~~~~~~~~~~~~~~ PREDICTIONS\n"
          ]
        },
        {
          "output_type": "execute_result",
          "data": {
            "text/plain": [
              "[<tf.Tensor: shape=(), dtype=string, numpy=b'y?4?2?4n'>,\n",
              " <tf.Tensor: shape=(), dtype=string, numpy=b'9?9?2?'>]"
            ]
          },
          "metadata": {},
          "execution_count": 65
        }
      ]
    },
    {
      "cell_type": "code",
      "source": [],
      "metadata": {
        "id": "x36wnd3j7tig"
      },
      "execution_count": null,
      "outputs": []
    },
    {
      "cell_type": "markdown",
      "source": [
        "# Test on a Video"
      ],
      "metadata": {
        "id": "jix87zWu7tig"
      }
    },
    {
      "cell_type": "code",
      "source": [
        "sample1 = load_data(tf.convert_to_tensor('./data/s1/bras9a.mpg'))"
      ],
      "metadata": {
        "execution": {
          "iopub.status.busy": "2023-11-16T01:02:22.039230Z",
          "iopub.execute_input": "2023-11-16T01:02:22.039539Z",
          "iopub.status.idle": "2023-11-16T01:02:22.282420Z",
          "shell.execute_reply.started": "2023-11-16T01:02:22.039513Z",
          "shell.execute_reply": "2023-11-16T01:02:22.281358Z"
        },
        "trusted": true,
        "id": "GkmwDw9Z7tig"
      },
      "execution_count": 66,
      "outputs": []
    },
    {
      "cell_type": "code",
      "source": [
        "print('~'*100, 'REAL TEXT')\n",
        "[tf.strings.reduce_join([num_to_char(word) for word in sentence]) for sentence in [sample1[1]]]"
      ],
      "metadata": {
        "execution": {
          "iopub.status.busy": "2023-11-16T01:02:22.283682Z",
          "iopub.execute_input": "2023-11-16T01:02:22.284011Z",
          "iopub.status.idle": "2023-11-16T01:02:22.321027Z",
          "shell.execute_reply.started": "2023-11-16T01:02:22.283979Z",
          "shell.execute_reply": "2023-11-16T01:02:22.320135Z"
        },
        "trusted": true,
        "id": "rTd_EnRG7tig",
        "outputId": "84ac36d9-520a-4952-e987-97735e3a98f5",
        "colab": {
          "base_uri": "https://localhost:8080/"
        }
      },
      "execution_count": 67,
      "outputs": [
        {
          "output_type": "stream",
          "name": "stdout",
          "text": [
            "~~~~~~~~~~~~~~~~~~~~~~~~~~~~~~~~~~~~~~~~~~~~~~~~~~~~~~~~~~~~~~~~~~~~~~~~~~~~~~~~~~~~~~~~~~~~~~~~~~~~ REAL TEXT\n"
          ]
        },
        {
          "output_type": "execute_result",
          "data": {
            "text/plain": [
              "[<tf.Tensor: shape=(), dtype=string, numpy=b'bin red at s nine again'>]"
            ]
          },
          "metadata": {},
          "execution_count": 67
        }
      ]
    },
    {
      "cell_type": "code",
      "source": [
        "yhat = model.predict(tf.expand_dims(sample1[0], axis=0))"
      ],
      "metadata": {
        "execution": {
          "iopub.status.busy": "2023-11-16T01:02:22.322717Z",
          "iopub.execute_input": "2023-11-16T01:02:22.323090Z",
          "iopub.status.idle": "2023-11-16T01:02:22.876313Z",
          "shell.execute_reply.started": "2023-11-16T01:02:22.323054Z",
          "shell.execute_reply": "2023-11-16T01:02:22.875386Z"
        },
        "trusted": true,
        "id": "z-IZSLc17tig",
        "outputId": "97e002d7-f1e7-4cd0-9d19-82865b61a61f",
        "colab": {
          "base_uri": "https://localhost:8080/"
        }
      },
      "execution_count": 68,
      "outputs": [
        {
          "output_type": "stream",
          "name": "stdout",
          "text": [
            "\u001b[1m1/1\u001b[0m \u001b[32m━━━━━━━━━━━━━━━━━━━━\u001b[0m\u001b[37m\u001b[0m \u001b[1m4s\u001b[0m 4s/step\n"
          ]
        }
      ]
    },
    {
      "cell_type": "code",
      "source": [
        "decoded = tf.keras.backend.ctc_decode(yhat, input_length=[75], greedy=True)[0][0].numpy()"
      ],
      "metadata": {
        "execution": {
          "iopub.status.busy": "2023-11-16T01:02:22.877877Z",
          "iopub.execute_input": "2023-11-16T01:02:22.878224Z",
          "iopub.status.idle": "2023-11-16T01:02:22.888161Z",
          "shell.execute_reply.started": "2023-11-16T01:02:22.878191Z",
          "shell.execute_reply": "2023-11-16T01:02:22.887390Z"
        },
        "trusted": true,
        "id": "uHjCMYWB7tig"
      },
      "execution_count": 69,
      "outputs": []
    },
    {
      "cell_type": "code",
      "source": [
        "print('~'*100, 'PREDICTIONS')\n",
        "[tf.strings.reduce_join([num_to_char(word) for word in sentence]) for sentence in decoded]"
      ],
      "metadata": {
        "execution": {
          "iopub.status.busy": "2023-11-16T01:02:22.889404Z",
          "iopub.execute_input": "2023-11-16T01:02:22.889733Z",
          "iopub.status.idle": "2023-11-16T01:02:22.965500Z",
          "shell.execute_reply.started": "2023-11-16T01:02:22.889707Z",
          "shell.execute_reply": "2023-11-16T01:02:22.964501Z"
        },
        "trusted": true,
        "id": "ooIqW_aL7tih",
        "outputId": "7a4f1aab-d2c2-40ed-fc55-433b7379b1d7",
        "colab": {
          "base_uri": "https://localhost:8080/"
        }
      },
      "execution_count": 70,
      "outputs": [
        {
          "output_type": "stream",
          "name": "stdout",
          "text": [
            "~~~~~~~~~~~~~~~~~~~~~~~~~~~~~~~~~~~~~~~~~~~~~~~~~~~~~~~~~~~~~~~~~~~~~~~~~~~~~~~~~~~~~~~~~~~~~~~~~~~~ PREDICTIONS\n"
          ]
        },
        {
          "output_type": "execute_result",
          "data": {
            "text/plain": [
              "[<tf.Tensor: shape=(), dtype=string, numpy=b'9?'>]"
            ]
          },
          "metadata": {},
          "execution_count": 70
        }
      ]
    },
    {
      "cell_type": "code",
      "source": [
        "len(test)"
      ],
      "metadata": {
        "execution": {
          "iopub.status.busy": "2023-11-16T01:02:22.966690Z",
          "iopub.execute_input": "2023-11-16T01:02:22.966963Z",
          "iopub.status.idle": "2023-11-16T01:02:22.973697Z",
          "shell.execute_reply.started": "2023-11-16T01:02:22.966937Z",
          "shell.execute_reply": "2023-11-16T01:02:22.972704Z"
        },
        "trusted": true,
        "id": "y5jSM8I57tih",
        "outputId": "2a7203e8-9563-4675-a4a9-85e1a08c7526",
        "colab": {
          "base_uri": "https://localhost:8080/"
        }
      },
      "execution_count": 71,
      "outputs": [
        {
          "output_type": "execute_result",
          "data": {
            "text/plain": [
              "50"
            ]
          },
          "metadata": {},
          "execution_count": 71
        }
      ]
    },
    {
      "cell_type": "code",
      "source": [],
      "metadata": {
        "id": "97DpYUvn7tii"
      },
      "execution_count": null,
      "outputs": []
    },
    {
      "cell_type": "markdown",
      "source": [
        "# Accuracy Analysis"
      ],
      "metadata": {
        "id": "JK91vjZJ7tii"
      }
    },
    {
      "cell_type": "markdown",
      "source": [
        "### On 50-Epoch Trained Model"
      ],
      "metadata": {
        "id": "XEwyrhqg7tii"
      }
    },
    {
      "cell_type": "code",
      "source": [
        "url = 'https://drive.google.com/u/0/uc?id=1JAmcd2v0JcZStgs69VytgqwGJMlhNeaT&export=download'\n",
        "output = 'check.zip'\n",
        "gdown.download(url, output, quiet=False)\n",
        "gdown.extractall('check.zip', 'models')"
      ],
      "metadata": {
        "execution": {
          "iopub.status.busy": "2023-11-16T01:02:22.974883Z",
          "iopub.execute_input": "2023-11-16T01:02:22.975204Z",
          "iopub.status.idle": "2023-11-16T01:02:30.165129Z",
          "shell.execute_reply.started": "2023-11-16T01:02:22.975168Z",
          "shell.execute_reply": "2023-11-16T01:02:30.164142Z"
        },
        "trusted": true,
        "id": "phGAAkV47tii",
        "outputId": "d17471e8-5c63-47fe-f8c0-cdad7cd4c193"
      },
      "execution_count": null,
      "outputs": [
        {
          "name": "stderr",
          "text": "Downloading...\nFrom (uriginal): https://drive.google.com/u/0/uc?id=1JAmcd2v0JcZStgs69VytgqwGJMlhNeaT&export=download\nFrom (redirected): https://drive.google.com/uc?id=1JAmcd2v0JcZStgs69VytgqwGJMlhNeaT&export=download&confirm=t&uuid=7723e342-c7d6-49f5-a2ce-8865a8d420ca\nTo: /kaggle/working/check.zip\n100%|██████████| 95.3M/95.3M [00:02<00:00, 32.4MB/s]\n",
          "output_type": "stream"
        },
        {
          "execution_count": 77,
          "output_type": "execute_result",
          "data": {
            "text/plain": "['models/models/checkpoint',\n 'models/models/checkpoint.index',\n 'models/models/checkpoint.data-00000-of-00001']"
          },
          "metadata": {}
        }
      ]
    },
    {
      "cell_type": "code",
      "source": [
        "model.load_weights('./models/models/checkpoint')"
      ],
      "metadata": {
        "execution": {
          "iopub.status.busy": "2023-11-16T01:02:30.166689Z",
          "iopub.execute_input": "2023-11-16T01:02:30.167125Z",
          "iopub.status.idle": "2023-11-16T01:02:30.379332Z",
          "shell.execute_reply.started": "2023-11-16T01:02:30.167075Z",
          "shell.execute_reply": "2023-11-16T01:02:30.378388Z"
        },
        "trusted": true,
        "id": "YTNag_gt7tii",
        "outputId": "8561ef02-be98-46f3-abfa-6abf6711fa6f"
      },
      "execution_count": null,
      "outputs": [
        {
          "execution_count": 78,
          "output_type": "execute_result",
          "data": {
            "text/plain": "<tensorflow.python.checkpoint.checkpoint.CheckpointLoadStatus at 0x7e69f07b7f70>"
          },
          "metadata": {}
        }
      ]
    },
    {
      "cell_type": "code",
      "source": [
        "data = tf.data.Dataset.list_files('./data/s1/*.mpg')\n",
        "data = data.shuffle(500, reshuffle_each_iteration=False)\n",
        "data = data.map(mappable_function)\n",
        "data = data.padded_batch(2, padded_shapes=([75,None,None,None],[40]))\n",
        "data = data.prefetch(tf.data.AUTOTUNE)"
      ],
      "metadata": {
        "execution": {
          "iopub.status.busy": "2023-11-16T01:02:30.380814Z",
          "iopub.execute_input": "2023-11-16T01:02:30.381503Z",
          "iopub.status.idle": "2023-11-16T01:02:30.407552Z",
          "shell.execute_reply.started": "2023-11-16T01:02:30.381465Z",
          "shell.execute_reply": "2023-11-16T01:02:30.406681Z"
        },
        "trusted": true,
        "id": "jM-bVckx7tii"
      },
      "execution_count": null,
      "outputs": []
    },
    {
      "cell_type": "code",
      "source": [
        "test_data = data.as_numpy_iterator()"
      ],
      "metadata": {
        "execution": {
          "iopub.status.busy": "2023-11-16T01:02:30.408666Z",
          "iopub.execute_input": "2023-11-16T01:02:30.409011Z",
          "iopub.status.idle": "2023-11-16T01:02:30.426119Z",
          "shell.execute_reply.started": "2023-11-16T01:02:30.408978Z",
          "shell.execute_reply": "2023-11-16T01:02:30.425257Z"
        },
        "trusted": true,
        "id": "hjy-wzkF7tii"
      },
      "execution_count": null,
      "outputs": []
    },
    {
      "cell_type": "code",
      "source": [],
      "metadata": {
        "trusted": true,
        "id": "EMMSXrrb7tii"
      },
      "execution_count": null,
      "outputs": []
    },
    {
      "cell_type": "code",
      "source": [
        "def levenshtein_distance(str1, str2):\n",
        "    len_str1 = len(str1) + 1\n",
        "    len_str2 = len(str2) + 1\n",
        "\n",
        "    # Initialize a matrix to store edit distances\n",
        "    matrix = [[0] * len_str2 for _ in range(len_str1)]\n",
        "\n",
        "    # Initialize the first row and column of the matrix\n",
        "    for i in range(len_str1):\n",
        "        matrix[i][0] = i\n",
        "    for j in range(len_str2):\n",
        "        matrix[0][j] = j\n",
        "\n",
        "    # Fill in the matrix using dynamic programming\n",
        "    for i in range(1, len_str1):\n",
        "        for j in range(1, len_str2):\n",
        "            cost = 0 if str1[i - 1] == str2[j - 1] else 1\n",
        "            matrix[i][j] = min(\n",
        "                matrix[i - 1][j] + 1,      # Deletion\n",
        "                matrix[i][j - 1] + 1,      # Insertion\n",
        "                matrix[i - 1][j - 1] + cost  # Substitution\n",
        "            )\n",
        "\n",
        "    return matrix[len_str1 - 1][len_str2 - 1]\n",
        "\n",
        "def calculate_word_error_rate(reference, hypothesis):\n",
        "    reference_words = reference.split()\n",
        "    hypothesis_words = hypothesis.split()\n",
        "\n",
        "    # Calculate Levenshtein distance between reference and hypothesis words\n",
        "    distance = levenshtein_distance(reference_words, hypothesis_words)\n",
        "\n",
        "    # Calculate Word Error Rate\n",
        "    wer = distance / len(reference_words)\n",
        "    return wer\n",
        "\n",
        "def calculate_sentence_error_rate(reference, hypothesis):\n",
        "    # Calculate Levenshtein distance between reference and hypothesis sentences\n",
        "    distance = levenshtein_distance(reference, hypothesis)\n",
        "\n",
        "    # Calculate Sentence Error Rate\n",
        "    ser = distance / len(reference)\n",
        "    return ser"
      ],
      "metadata": {
        "execution": {
          "iopub.status.busy": "2023-11-16T01:02:30.427259Z",
          "iopub.execute_input": "2023-11-16T01:02:30.427568Z",
          "iopub.status.idle": "2023-11-16T01:02:30.437569Z",
          "shell.execute_reply.started": "2023-11-16T01:02:30.427541Z",
          "shell.execute_reply": "2023-11-16T01:02:30.436456Z"
        },
        "trusted": true,
        "id": "Qb_KH7OI7tij"
      },
      "execution_count": null,
      "outputs": []
    },
    {
      "cell_type": "code",
      "source": [
        "word_error_rates_for_model1=[]\n",
        "sentence_error_rates_for_model1=[]"
      ],
      "metadata": {
        "execution": {
          "iopub.status.busy": "2023-11-16T01:02:30.449087Z",
          "iopub.execute_input": "2023-11-16T01:02:30.449401Z",
          "iopub.status.idle": "2023-11-16T01:02:30.453964Z",
          "shell.execute_reply.started": "2023-11-16T01:02:30.449374Z",
          "shell.execute_reply": "2023-11-16T01:02:30.452913Z"
        },
        "trusted": true,
        "id": "W82DU6fo7tij"
      },
      "execution_count": null,
      "outputs": []
    },
    {
      "cell_type": "code",
      "source": [
        "for i in range (500):\n",
        "    try:\n",
        "        sample = test_data.next()\n",
        "\n",
        "        #     print(i,val[0][0][0][0][0])\n",
        "        og = [tf.strings.reduce_join([num_to_char(word) for word in sentence]) for sentence in sample[1]]\n",
        "        #     og = tf.strings.reduce_join([num_to_char(word) for word in sample[1][0]])\n",
        "\n",
        "        yhat = model.predict(sample[0])\n",
        "        #     print(tf.strings.reduce_join([num_to_char(x) for x in tf.argmax(yhat[0],axis=1)]))\n",
        "        #     print(tf.strings.reduce_join([num_to_char(tf.argmax(x)) for x in yhat[0]]))\n",
        "        decoded = tf.keras.backend.ctc_decode(yhat, input_length=[75,75], greedy=True)[0][0].numpy()\n",
        "        predicted = [tf.strings.reduce_join([num_to_char(word) for word in sentence]) for sentence in decoded]\n",
        "\n",
        "\n",
        "        reference_string = str(og[1])[11:-25]\n",
        "        hypothesis_string = str(predicted[1])[11:-25]\n",
        "\n",
        "        wer = calculate_word_error_rate(reference_string, hypothesis_string)\n",
        "        ser = calculate_sentence_error_rate(reference_string, hypothesis_string)\n",
        "\n",
        "        word_error_rates_for_model1.append(wer)\n",
        "        sentence_error_rates_for_model1.append(ser)\n",
        "\n",
        "        if i<10: # print results for first 10 sentences\n",
        "\n",
        "            print(og[1])\n",
        "            print(\"Real Sentence\",str(og[1])[11:-25])\n",
        "\n",
        "            print(predicted[1])\n",
        "            print(\"Sentence Predicted\",str(predicted[1])[11:-25])\n",
        "\n",
        "            print(f\"Word Error Rate: {wer * 100:.2f}%\")\n",
        "            print(f\"Sentence Error Rate: {ser * 100:.2f}%\")\n",
        "\n",
        "            print()\n",
        "    except:\n",
        "        pass\n",
        ""
      ],
      "metadata": {
        "execution": {
          "iopub.status.busy": "2023-11-16T01:02:30.455065Z",
          "iopub.execute_input": "2023-11-16T01:02:30.455389Z",
          "iopub.status.idle": "2023-11-16T01:08:45.275142Z",
          "shell.execute_reply.started": "2023-11-16T01:02:30.455363Z",
          "shell.execute_reply": "2023-11-16T01:08:45.274331Z"
        },
        "trusted": true,
        "id": "47yVe-QX7tij",
        "outputId": "eade65fe-331c-45ed-c022-c6cdcbaed6d2"
      },
      "execution_count": null,
      "outputs": [
        {
          "name": "stdout",
          "text": "1/1 [==============================] - 0s 119ms/step\ntf.Tensor(b'set green at i nine again', shape=(), dtype=string)\nReal Sentence 'set green at i nine again'\ntf.Tensor(b'set green at nine again', shape=(), dtype=string)\nSentence Predicted 'set green at nine again'\nWord Error Rate: 16.67%\nSentence Error Rate: 7.41%\n\n1/1 [==============================] - 0s 118ms/step\ntf.Tensor(b'set blue with h seven soon', shape=(), dtype=string)\nReal Sentence 'set blue with h seven soon'\ntf.Tensor(b'set blue with seven soon', shape=(), dtype=string)\nSentence Predicted 'set blue with seven soon'\nWord Error Rate: 16.67%\nSentence Error Rate: 7.14%\n\n1/1 [==============================] - 0s 116ms/step\ntf.Tensor(b'place sp blue at i six please', shape=(), dtype=string)\nReal Sentence 'place sp blue at i six please'\ntf.Tensor(b'place blue at six please', shape=(), dtype=string)\nSentence Predicted 'place blue at six please'\nWord Error Rate: 28.57%\nSentence Error Rate: 16.13%\n\n1/1 [==============================] - 0s 117ms/step\ntf.Tensor(b'place blue with j four please', shape=(), dtype=string)\nReal Sentence 'place blue with j four please'\ntf.Tensor(b'place blue with four please', shape=(), dtype=string)\nSentence Predicted 'place blue with four please'\nWord Error Rate: 16.67%\nSentence Error Rate: 6.45%\n\n1/1 [==============================] - 0s 117ms/step\ntf.Tensor(b'lay red with r nine soon', shape=(), dtype=string)\nReal Sentence 'lay red with r nine soon'\ntf.Tensor(b'lay red with nine sooon', shape=(), dtype=string)\nSentence Predicted 'lay red with nine sooon'\nWord Error Rate: 33.33%\nSentence Error Rate: 11.54%\n\n1/1 [==============================] - 0s 133ms/step\ntf.Tensor(b'lay red sp with l five soon', shape=(), dtype=string)\nReal Sentence 'lay red sp with l five soon'\ntf.Tensor(b'lay red with five soon', shape=(), dtype=string)\nSentence Predicted 'lay red with five soon'\nWord Error Rate: 28.57%\nSentence Error Rate: 17.24%\n\n1/1 [==============================] - 0s 119ms/step\ntf.Tensor(b'place white at j seven soon', shape=(), dtype=string)\nReal Sentence 'place white at j seven soon'\ntf.Tensor(b'place white at seven soon', shape=(), dtype=string)\nSentence Predicted 'place white at seven soon'\nWord Error Rate: 16.67%\nSentence Error Rate: 6.90%\n\n1/1 [==============================] - 0s 127ms/step\ntf.Tensor(b'set blue at h one again', shape=(), dtype=string)\nReal Sentence 'set blue at h one again'\ntf.Tensor(b'set blue at h one again', shape=(), dtype=string)\nSentence Predicted 'set blue at h one again'\nWord Error Rate: 0.00%\nSentence Error Rate: 0.00%\n\n1/1 [==============================] - 0s 121ms/step\ntf.Tensor(b'place green with r five soon', shape=(), dtype=string)\nReal Sentence 'place green with r five soon'\ntf.Tensor(b'place green with five soon', shape=(), dtype=string)\nSentence Predicted 'place green with five soon'\nWord Error Rate: 16.67%\nSentence Error Rate: 6.67%\n\n1/1 [==============================] - 0s 120ms/step\ntf.Tensor(b'lay blue by q eight now', shape=(), dtype=string)\nReal Sentence 'lay blue by q eight now'\ntf.Tensor(b'lay blue by eight now', shape=(), dtype=string)\nSentence Predicted 'lay blue by eight now'\nWord Error Rate: 16.67%\nSentence Error Rate: 8.00%\n\n1/1 [==============================] - 0s 123ms/step\n1/1 [==============================] - 0s 123ms/step\n1/1 [==============================] - 0s 117ms/step\n1/1 [==============================] - 0s 118ms/step\n1/1 [==============================] - 0s 120ms/step\n1/1 [==============================] - 0s 118ms/step\n1/1 [==============================] - 0s 116ms/step\n1/1 [==============================] - 0s 122ms/step\n1/1 [==============================] - 0s 130ms/step\n1/1 [==============================] - 0s 118ms/step\n1/1 [==============================] - 0s 118ms/step\n1/1 [==============================] - 0s 114ms/step\n1/1 [==============================] - 0s 125ms/step\n1/1 [==============================] - 0s 120ms/step\n1/1 [==============================] - 0s 122ms/step\n1/1 [==============================] - 0s 115ms/step\n1/1 [==============================] - 0s 117ms/step\n1/1 [==============================] - 0s 115ms/step\n1/1 [==============================] - 0s 118ms/step\n1/1 [==============================] - 0s 116ms/step\n1/1 [==============================] - 0s 116ms/step\n1/1 [==============================] - 0s 129ms/step\n1/1 [==============================] - 0s 116ms/step\n1/1 [==============================] - 0s 128ms/step\n1/1 [==============================] - 0s 114ms/step\n1/1 [==============================] - 0s 116ms/step\n1/1 [==============================] - 0s 114ms/step\n1/1 [==============================] - 0s 114ms/step\n1/1 [==============================] - 0s 119ms/step\n1/1 [==============================] - 0s 119ms/step\n1/1 [==============================] - 0s 118ms/step\n1/1 [==============================] - 0s 116ms/step\n",
          "output_type": "stream"
        },
        {
          "name": "stderr",
          "text": "[mpeg1video @ 0x7e69500610c0] ac-tex damaged at 22 17\n[mpeg1video @ 0x7e69500610c0] Warning MVs not available\n",
          "output_type": "stream"
        },
        {
          "name": "stdout",
          "text": "1/1 [==============================] - 0s 117ms/step\n1/1 [==============================] - 0s 124ms/step\n1/1 [==============================] - 0s 124ms/step\n1/1 [==============================] - 0s 116ms/step\n1/1 [==============================] - 0s 119ms/step\n1/1 [==============================] - 0s 118ms/step\n1/1 [==============================] - 0s 122ms/step\n1/1 [==============================] - 0s 124ms/step\n1/1 [==============================] - 0s 119ms/step\n1/1 [==============================] - 0s 120ms/step\n1/1 [==============================] - 0s 126ms/step\n1/1 [==============================] - 0s 119ms/step\n1/1 [==============================] - 0s 122ms/step\n1/1 [==============================] - 0s 119ms/step\n1/1 [==============================] - 0s 126ms/step\n1/1 [==============================] - 0s 126ms/step\n1/1 [==============================] - 0s 116ms/step\n1/1 [==============================] - 0s 121ms/step\n1/1 [==============================] - 0s 120ms/step\n1/1 [==============================] - 0s 116ms/step\n1/1 [==============================] - 0s 116ms/step\n1/1 [==============================] - 0s 115ms/step\n1/1 [==============================] - 0s 115ms/step\n1/1 [==============================] - 0s 117ms/step\n1/1 [==============================] - 0s 121ms/step\n1/1 [==============================] - 0s 116ms/step\n1/1 [==============================] - 0s 115ms/step\n1/1 [==============================] - 0s 116ms/step\n1/1 [==============================] - 0s 114ms/step\n1/1 [==============================] - 0s 124ms/step\n1/1 [==============================] - 0s 118ms/step\n1/1 [==============================] - 0s 117ms/step\n1/1 [==============================] - 0s 125ms/step\n1/1 [==============================] - 0s 125ms/step\n1/1 [==============================] - 0s 115ms/step\n1/1 [==============================] - 0s 116ms/step\n1/1 [==============================] - 0s 117ms/step\n1/1 [==============================] - 0s 116ms/step\n1/1 [==============================] - 0s 123ms/step\n1/1 [==============================] - 0s 122ms/step\n1/1 [==============================] - 0s 122ms/step\n1/1 [==============================] - 0s 116ms/step\n1/1 [==============================] - 0s 118ms/step\n1/1 [==============================] - 0s 120ms/step\n1/1 [==============================] - 0s 121ms/step\n1/1 [==============================] - 0s 114ms/step\n1/1 [==============================] - 0s 122ms/step\n1/1 [==============================] - 0s 115ms/step\n1/1 [==============================] - 0s 119ms/step\n1/1 [==============================] - 0s 116ms/step\n1/1 [==============================] - 0s 116ms/step\n1/1 [==============================] - 0s 116ms/step\n1/1 [==============================] - 0s 123ms/step\n1/1 [==============================] - 0s 119ms/step\n1/1 [==============================] - 0s 118ms/step\n1/1 [==============================] - 0s 115ms/step\n1/1 [==============================] - 0s 116ms/step\n1/1 [==============================] - 0s 118ms/step\n1/1 [==============================] - 0s 116ms/step\n1/1 [==============================] - 0s 117ms/step\n1/1 [==============================] - 0s 115ms/step\n1/1 [==============================] - 0s 115ms/step\n1/1 [==============================] - 0s 121ms/step\n1/1 [==============================] - 0s 117ms/step\n1/1 [==============================] - 0s 115ms/step\n1/1 [==============================] - 0s 116ms/step\n1/1 [==============================] - 0s 117ms/step\n1/1 [==============================] - 0s 119ms/step\n1/1 [==============================] - 0s 132ms/step\n1/1 [==============================] - 0s 114ms/step\n1/1 [==============================] - 0s 119ms/step\n1/1 [==============================] - 0s 118ms/step\n1/1 [==============================] - 0s 114ms/step\n1/1 [==============================] - 0s 116ms/step\n1/1 [==============================] - 0s 121ms/step\n1/1 [==============================] - 0s 116ms/step\n1/1 [==============================] - 0s 117ms/step\n1/1 [==============================] - 0s 123ms/step\n1/1 [==============================] - 0s 115ms/step\n1/1 [==============================] - 0s 115ms/step\n1/1 [==============================] - 0s 115ms/step\n1/1 [==============================] - 0s 121ms/step\n1/1 [==============================] - 0s 121ms/step\n1/1 [==============================] - 0s 117ms/step\n1/1 [==============================] - 0s 115ms/step\n1/1 [==============================] - 0s 116ms/step\n1/1 [==============================] - 0s 119ms/step\n1/1 [==============================] - 0s 123ms/step\n1/1 [==============================] - 0s 118ms/step\n1/1 [==============================] - 0s 115ms/step\n1/1 [==============================] - 0s 114ms/step\n1/1 [==============================] - 0s 118ms/step\n1/1 [==============================] - 0s 114ms/step\n1/1 [==============================] - 0s 119ms/step\n1/1 [==============================] - 0s 114ms/step\n1/1 [==============================] - 0s 115ms/step\n1/1 [==============================] - 0s 121ms/step\n1/1 [==============================] - 0s 115ms/step\n1/1 [==============================] - 0s 119ms/step\n1/1 [==============================] - 0s 123ms/step\n1/1 [==============================] - 0s 115ms/step\n1/1 [==============================] - 0s 121ms/step\n1/1 [==============================] - 0s 114ms/step\n1/1 [==============================] - 0s 120ms/step\n1/1 [==============================] - 0s 120ms/step\n1/1 [==============================] - 0s 122ms/step\n1/1 [==============================] - 0s 114ms/step\n1/1 [==============================] - 0s 115ms/step\n1/1 [==============================] - 0s 115ms/step\n1/1 [==============================] - 0s 121ms/step\n1/1 [==============================] - 0s 121ms/step\n1/1 [==============================] - 0s 113ms/step\n1/1 [==============================] - 0s 113ms/step\n1/1 [==============================] - 0s 119ms/step\n1/1 [==============================] - 0s 114ms/step\n1/1 [==============================] - 0s 116ms/step\n1/1 [==============================] - 0s 119ms/step\n1/1 [==============================] - 0s 117ms/step\n1/1 [==============================] - 0s 114ms/step\n1/1 [==============================] - 0s 115ms/step\n1/1 [==============================] - 0s 115ms/step\n1/1 [==============================] - 0s 115ms/step\n1/1 [==============================] - 0s 121ms/step\n1/1 [==============================] - 0s 119ms/step\n1/1 [==============================] - 0s 115ms/step\n1/1 [==============================] - 0s 115ms/step\n1/1 [==============================] - 0s 120ms/step\n1/1 [==============================] - 0s 113ms/step\n1/1 [==============================] - 0s 115ms/step\n1/1 [==============================] - 0s 119ms/step\n1/1 [==============================] - 0s 114ms/step\n1/1 [==============================] - 0s 121ms/step\n1/1 [==============================] - 0s 120ms/step\n1/1 [==============================] - 0s 115ms/step\n1/1 [==============================] - 0s 114ms/step\n1/1 [==============================] - 0s 123ms/step\n1/1 [==============================] - 0s 120ms/step\n1/1 [==============================] - 0s 119ms/step\n1/1 [==============================] - 0s 113ms/step\n1/1 [==============================] - 0s 119ms/step\n1/1 [==============================] - 0s 116ms/step\n1/1 [==============================] - 0s 113ms/step\n1/1 [==============================] - 0s 115ms/step\n1/1 [==============================] - 0s 119ms/step\n1/1 [==============================] - 0s 117ms/step\n1/1 [==============================] - 0s 115ms/step\n1/1 [==============================] - 0s 115ms/step\n1/1 [==============================] - 0s 121ms/step\n1/1 [==============================] - 0s 113ms/step\n1/1 [==============================] - 0s 128ms/step\n1/1 [==============================] - 0s 115ms/step\n1/1 [==============================] - 0s 121ms/step\n1/1 [==============================] - 0s 115ms/step\n1/1 [==============================] - 0s 121ms/step\n1/1 [==============================] - 0s 114ms/step\n1/1 [==============================] - 0s 115ms/step\n1/1 [==============================] - 0s 118ms/step\n1/1 [==============================] - 0s 117ms/step\n1/1 [==============================] - 0s 115ms/step\n1/1 [==============================] - 0s 129ms/step\n1/1 [==============================] - 0s 116ms/step\n1/1 [==============================] - 0s 116ms/step\n1/1 [==============================] - 0s 115ms/step\n1/1 [==============================] - 0s 117ms/step\n1/1 [==============================] - 0s 114ms/step\n1/1 [==============================] - 0s 121ms/step\n1/1 [==============================] - 0s 116ms/step\n1/1 [==============================] - 0s 116ms/step\n1/1 [==============================] - 0s 117ms/step\n1/1 [==============================] - 0s 117ms/step\n1/1 [==============================] - 0s 117ms/step\n1/1 [==============================] - 0s 115ms/step\n1/1 [==============================] - 0s 116ms/step\n1/1 [==============================] - 0s 115ms/step\n1/1 [==============================] - 0s 115ms/step\n1/1 [==============================] - 0s 115ms/step\n1/1 [==============================] - 0s 124ms/step\n1/1 [==============================] - 0s 117ms/step\n1/1 [==============================] - 0s 118ms/step\n1/1 [==============================] - 0s 120ms/step\n1/1 [==============================] - 0s 116ms/step\n1/1 [==============================] - 0s 114ms/step\n1/1 [==============================] - 0s 121ms/step\n1/1 [==============================] - 0s 117ms/step\n1/1 [==============================] - 0s 118ms/step\n1/1 [==============================] - 0s 122ms/step\n1/1 [==============================] - 0s 116ms/step\n1/1 [==============================] - 0s 115ms/step\n1/1 [==============================] - 0s 115ms/step\n1/1 [==============================] - 0s 116ms/step\n1/1 [==============================] - 0s 120ms/step\n1/1 [==============================] - 0s 121ms/step\n1/1 [==============================] - 0s 117ms/step\n1/1 [==============================] - 0s 114ms/step\n1/1 [==============================] - 0s 117ms/step\n1/1 [==============================] - 0s 114ms/step\n1/1 [==============================] - 0s 115ms/step\n1/1 [==============================] - 0s 115ms/step\n1/1 [==============================] - 0s 115ms/step\n1/1 [==============================] - 0s 115ms/step\n1/1 [==============================] - 0s 117ms/step\n1/1 [==============================] - 0s 122ms/step\n1/1 [==============================] - 0s 123ms/step\n1/1 [==============================] - 0s 126ms/step\n1/1 [==============================] - 0s 117ms/step\n1/1 [==============================] - 0s 121ms/step\n1/1 [==============================] - 0s 115ms/step\n1/1 [==============================] - 0s 115ms/step\n1/1 [==============================] - 0s 116ms/step\n1/1 [==============================] - 0s 115ms/step\n1/1 [==============================] - 0s 123ms/step\n1/1 [==============================] - 0s 114ms/step\n1/1 [==============================] - 0s 120ms/step\n1/1 [==============================] - 0s 114ms/step\n1/1 [==============================] - 0s 115ms/step\n1/1 [==============================] - 0s 114ms/step\n1/1 [==============================] - 0s 122ms/step\n1/1 [==============================] - 0s 122ms/step\n1/1 [==============================] - 0s 119ms/step\n1/1 [==============================] - 0s 114ms/step\n1/1 [==============================] - 0s 115ms/step\n1/1 [==============================] - 0s 122ms/step\n1/1 [==============================] - 0s 120ms/step\n1/1 [==============================] - 0s 119ms/step\n1/1 [==============================] - 0s 114ms/step\n1/1 [==============================] - 0s 116ms/step\n1/1 [==============================] - 0s 118ms/step\n1/1 [==============================] - 0s 114ms/step\n1/1 [==============================] - 0s 118ms/step\n1/1 [==============================] - 0s 115ms/step\n1/1 [==============================] - 0s 114ms/step\n1/1 [==============================] - 0s 113ms/step\n1/1 [==============================] - 0s 113ms/step\n1/1 [==============================] - 0s 115ms/step\n1/1 [==============================] - 0s 117ms/step\n1/1 [==============================] - 0s 116ms/step\n1/1 [==============================] - 0s 115ms/step\n1/1 [==============================] - 0s 115ms/step\n1/1 [==============================] - 0s 117ms/step\n1/1 [==============================] - 0s 114ms/step\n1/1 [==============================] - 0s 119ms/step\n1/1 [==============================] - 0s 117ms/step\n1/1 [==============================] - 0s 113ms/step\n1/1 [==============================] - 0s 115ms/step\n1/1 [==============================] - 0s 124ms/step\n1/1 [==============================] - 0s 118ms/step\n1/1 [==============================] - 0s 122ms/step\n1/1 [==============================] - 0s 120ms/step\n1/1 [==============================] - 0s 115ms/step\n1/1 [==============================] - 0s 115ms/step\n1/1 [==============================] - 0s 114ms/step\n1/1 [==============================] - 0s 118ms/step\n1/1 [==============================] - 0s 114ms/step\n1/1 [==============================] - 0s 114ms/step\n1/1 [==============================] - 0s 114ms/step\n1/1 [==============================] - 0s 114ms/step\n1/1 [==============================] - 0s 115ms/step\n1/1 [==============================] - 0s 118ms/step\n1/1 [==============================] - 0s 120ms/step\n1/1 [==============================] - 0s 116ms/step\n1/1 [==============================] - 0s 114ms/step\n1/1 [==============================] - 0s 114ms/step\n1/1 [==============================] - 0s 122ms/step\n1/1 [==============================] - 0s 120ms/step\n1/1 [==============================] - 0s 114ms/step\n1/1 [==============================] - 0s 118ms/step\n1/1 [==============================] - 0s 117ms/step\n1/1 [==============================] - 0s 117ms/step\n1/1 [==============================] - 0s 114ms/step\n1/1 [==============================] - 0s 115ms/step\n1/1 [==============================] - 0s 122ms/step\n1/1 [==============================] - 0s 116ms/step\n1/1 [==============================] - 0s 115ms/step\n1/1 [==============================] - 0s 116ms/step\n1/1 [==============================] - 0s 114ms/step\n1/1 [==============================] - 0s 115ms/step\n1/1 [==============================] - 0s 116ms/step\n1/1 [==============================] - 0s 115ms/step\n1/1 [==============================] - 0s 115ms/step\n1/1 [==============================] - 0s 116ms/step\n1/1 [==============================] - 0s 115ms/step\n1/1 [==============================] - 0s 119ms/step\n1/1 [==============================] - 0s 117ms/step\n1/1 [==============================] - 0s 120ms/step\n1/1 [==============================] - 0s 115ms/step\n1/1 [==============================] - 0s 115ms/step\n1/1 [==============================] - 0s 123ms/step\n1/1 [==============================] - 0s 123ms/step\n1/1 [==============================] - 0s 120ms/step\n1/1 [==============================] - 0s 116ms/step\n1/1 [==============================] - 0s 114ms/step\n1/1 [==============================] - 0s 114ms/step\n1/1 [==============================] - 0s 121ms/step\n1/1 [==============================] - 0s 116ms/step\n1/1 [==============================] - 0s 121ms/step\n1/1 [==============================] - 0s 121ms/step\n1/1 [==============================] - 0s 119ms/step\n1/1 [==============================] - 0s 120ms/step\n1/1 [==============================] - 0s 119ms/step\n1/1 [==============================] - 0s 120ms/step\n1/1 [==============================] - 0s 114ms/step\n1/1 [==============================] - 0s 117ms/step\n1/1 [==============================] - 0s 117ms/step\n1/1 [==============================] - 0s 121ms/step\n1/1 [==============================] - 0s 116ms/step\n1/1 [==============================] - 0s 115ms/step\n1/1 [==============================] - 0s 114ms/step\n1/1 [==============================] - 0s 123ms/step\n1/1 [==============================] - 0s 120ms/step\n1/1 [==============================] - 0s 116ms/step\n1/1 [==============================] - 0s 121ms/step\n1/1 [==============================] - 0s 116ms/step\n1/1 [==============================] - 0s 118ms/step\n1/1 [==============================] - 0s 114ms/step\n1/1 [==============================] - 0s 115ms/step\n1/1 [==============================] - 0s 119ms/step\n1/1 [==============================] - 0s 114ms/step\n1/1 [==============================] - 0s 114ms/step\n1/1 [==============================] - 0s 116ms/step\n1/1 [==============================] - 0s 114ms/step\n1/1 [==============================] - 0s 116ms/step\n1/1 [==============================] - 0s 118ms/step\n1/1 [==============================] - 0s 115ms/step\n1/1 [==============================] - 0s 117ms/step\n1/1 [==============================] - 0s 115ms/step\n1/1 [==============================] - 0s 115ms/step\n1/1 [==============================] - 0s 121ms/step\n1/1 [==============================] - 0s 121ms/step\n1/1 [==============================] - 0s 122ms/step\n1/1 [==============================] - 0s 118ms/step\n1/1 [==============================] - 0s 123ms/step\n1/1 [==============================] - 0s 115ms/step\n1/1 [==============================] - 0s 114ms/step\n1/1 [==============================] - 0s 115ms/step\n1/1 [==============================] - 0s 114ms/step\n1/1 [==============================] - 0s 119ms/step\n1/1 [==============================] - 0s 121ms/step\n1/1 [==============================] - 0s 131ms/step\n1/1 [==============================] - 0s 118ms/step\n1/1 [==============================] - 0s 117ms/step\n1/1 [==============================] - 0s 118ms/step\n1/1 [==============================] - 0s 117ms/step\n1/1 [==============================] - 0s 114ms/step\n1/1 [==============================] - 0s 118ms/step\n1/1 [==============================] - 0s 123ms/step\n1/1 [==============================] - 0s 118ms/step\n1/1 [==============================] - 0s 115ms/step\n1/1 [==============================] - 0s 115ms/step\n1/1 [==============================] - 0s 114ms/step\n1/1 [==============================] - 0s 116ms/step\n1/1 [==============================] - 0s 116ms/step\n1/1 [==============================] - 0s 114ms/step\n1/1 [==============================] - 0s 114ms/step\n1/1 [==============================] - 0s 120ms/step\n1/1 [==============================] - 0s 113ms/step\n1/1 [==============================] - 0s 116ms/step\n1/1 [==============================] - 0s 120ms/step\n1/1 [==============================] - 0s 123ms/step\n1/1 [==============================] - 0s 118ms/step\n1/1 [==============================] - 0s 114ms/step\n1/1 [==============================] - 0s 121ms/step\n1/1 [==============================] - 0s 115ms/step\n1/1 [==============================] - 0s 122ms/step\n1/1 [==============================] - 0s 117ms/step\n1/1 [==============================] - 0s 121ms/step\n1/1 [==============================] - 0s 116ms/step\n1/1 [==============================] - 0s 114ms/step\n1/1 [==============================] - 0s 118ms/step\n1/1 [==============================] - 0s 114ms/step\n1/1 [==============================] - 0s 121ms/step\n1/1 [==============================] - 0s 115ms/step\n1/1 [==============================] - 0s 122ms/step\n1/1 [==============================] - 0s 119ms/step\n1/1 [==============================] - 0s 115ms/step\n1/1 [==============================] - 0s 118ms/step\n1/1 [==============================] - 0s 120ms/step\n1/1 [==============================] - 0s 114ms/step\n1/1 [==============================] - 0s 121ms/step\n1/1 [==============================] - 0s 114ms/step\n1/1 [==============================] - 0s 119ms/step\n1/1 [==============================] - 0s 114ms/step\n1/1 [==============================] - 0s 115ms/step\n1/1 [==============================] - 0s 114ms/step\n1/1 [==============================] - 0s 121ms/step\n1/1 [==============================] - 0s 115ms/step\n1/1 [==============================] - 0s 119ms/step\n1/1 [==============================] - 0s 120ms/step\n1/1 [==============================] - 0s 117ms/step\n1/1 [==============================] - 0s 122ms/step\n1/1 [==============================] - 0s 118ms/step\n1/1 [==============================] - 0s 115ms/step\n1/1 [==============================] - 0s 121ms/step\n1/1 [==============================] - 0s 114ms/step\n1/1 [==============================] - 0s 115ms/step\n1/1 [==============================] - 0s 114ms/step\n1/1 [==============================] - 0s 122ms/step\n1/1 [==============================] - 0s 120ms/step\n1/1 [==============================] - 0s 124ms/step\n1/1 [==============================] - 0s 118ms/step\n1/1 [==============================] - 0s 122ms/step\n1/1 [==============================] - 0s 126ms/step\n1/1 [==============================] - 0s 117ms/step\n1/1 [==============================] - 0s 117ms/step\n1/1 [==============================] - 0s 122ms/step\n1/1 [==============================] - 0s 120ms/step\n1/1 [==============================] - 0s 116ms/step\n1/1 [==============================] - 0s 116ms/step\n1/1 [==============================] - 0s 121ms/step\n1/1 [==============================] - 0s 116ms/step\n1/1 [==============================] - 0s 120ms/step\n1/1 [==============================] - 0s 115ms/step\n1/1 [==============================] - 0s 114ms/step\n1/1 [==============================] - 0s 122ms/step\n1/1 [==============================] - 0s 122ms/step\n1/1 [==============================] - 0s 123ms/step\n1/1 [==============================] - 0s 115ms/step\n1/1 [==============================] - 0s 118ms/step\n1/1 [==============================] - 0s 115ms/step\n1/1 [==============================] - 0s 115ms/step\n1/1 [==============================] - 0s 115ms/step\n1/1 [==============================] - 0s 115ms/step\n1/1 [==============================] - 0s 115ms/step\n1/1 [==============================] - 0s 115ms/step\n1/1 [==============================] - 0s 117ms/step\n1/1 [==============================] - 0s 124ms/step\n1/1 [==============================] - 0s 117ms/step\n1/1 [==============================] - 0s 121ms/step\n1/1 [==============================] - 0s 123ms/step\n1/1 [==============================] - 0s 117ms/step\n1/1 [==============================] - 0s 117ms/step\n1/1 [==============================] - 0s 127ms/step\n1/1 [==============================] - 0s 115ms/step\n1/1 [==============================] - 0s 116ms/step\n1/1 [==============================] - 0s 123ms/step\n1/1 [==============================] - 0s 120ms/step\n1/1 [==============================] - 0s 115ms/step\n1/1 [==============================] - 0s 119ms/step\n1/1 [==============================] - 0s 116ms/step\n1/1 [==============================] - 0s 122ms/step\n1/1 [==============================] - 0s 120ms/step\n1/1 [==============================] - 0s 125ms/step\n1/1 [==============================] - 0s 117ms/step\n1/1 [==============================] - 0s 116ms/step\n1/1 [==============================] - 0s 122ms/step\n1/1 [==============================] - 0s 123ms/step\n1/1 [==============================] - 0s 122ms/step\n1/1 [==============================] - 0s 115ms/step\n1/1 [==============================] - 0s 117ms/step\n1/1 [==============================] - 0s 120ms/step\n1/1 [==============================] - 0s 115ms/step\n1/1 [==============================] - 0s 116ms/step\n1/1 [==============================] - 0s 115ms/step\n1/1 [==============================] - 0s 115ms/step\n1/1 [==============================] - 0s 116ms/step\n1/1 [==============================] - 0s 123ms/step\n1/1 [==============================] - 0s 115ms/step\n1/1 [==============================] - 0s 121ms/step\n",
          "output_type": "stream"
        }
      ]
    },
    {
      "cell_type": "code",
      "source": [
        "mean_wer=sum(word_error_rates_for_model1)/len(word_error_rates_for_model1)\n",
        "mean_ser=sum(sentence_error_rates_for_model1)/len(sentence_error_rates_for_model1)\n",
        "\n",
        "print(\"For Model 1\")\n",
        "print(f\"Mean Word Error Rate: {mean_wer * 100:.2f}%\")\n",
        "print(f\"Mean Sentence Error Rate: {mean_ser * 100:.2f}%\")"
      ],
      "metadata": {
        "execution": {
          "iopub.status.busy": "2023-11-16T01:17:31.428170Z",
          "iopub.execute_input": "2023-11-16T01:17:31.428961Z",
          "iopub.status.idle": "2023-11-16T01:17:31.434840Z",
          "shell.execute_reply.started": "2023-11-16T01:17:31.428928Z",
          "shell.execute_reply": "2023-11-16T01:17:31.433817Z"
        },
        "trusted": true,
        "id": "8PGJHrSn7tik",
        "outputId": "c8ab4c35-e588-47b0-e0d0-19d2c2575e43"
      },
      "execution_count": null,
      "outputs": [
        {
          "name": "stdout",
          "text": "For Model 1\nMean Word Error Rate: 14.40%\nMean Sentence Error Rate: 6.06%\n",
          "output_type": "stream"
        }
      ]
    },
    {
      "cell_type": "code",
      "source": [
        "# print(\"Max For Model 1\")\n",
        "# print(f\"Mean Word Error Rate: {max(word_error_rates_for_model1) * 100:.2f}%\")\n",
        "# print(f\"Mean Sentence Error Rate: {max(sentence_error_rates_for_model1) * 100:.2f}%\")"
      ],
      "metadata": {
        "execution": {
          "iopub.status.busy": "2023-11-16T01:20:38.432927Z",
          "iopub.execute_input": "2023-11-16T01:20:38.433324Z",
          "iopub.status.idle": "2023-11-16T01:20:38.437901Z",
          "shell.execute_reply.started": "2023-11-16T01:20:38.433293Z",
          "shell.execute_reply": "2023-11-16T01:20:38.436807Z"
        },
        "trusted": true,
        "id": "sneuLKSX7tik"
      },
      "execution_count": null,
      "outputs": []
    },
    {
      "cell_type": "code",
      "source": [
        "len(word_error_rates_for_model1)"
      ],
      "metadata": {
        "execution": {
          "iopub.status.busy": "2023-11-16T01:08:45.284741Z",
          "iopub.execute_input": "2023-11-16T01:08:45.285427Z",
          "iopub.status.idle": "2023-11-16T01:08:45.293842Z",
          "shell.execute_reply.started": "2023-11-16T01:08:45.285382Z",
          "shell.execute_reply": "2023-11-16T01:08:45.292912Z"
        },
        "trusted": true,
        "id": "FTLE1S2K7tik",
        "outputId": "7c40b8c4-d9de-47fe-8889-5c08d9263a4d"
      },
      "execution_count": null,
      "outputs": [
        {
          "execution_count": 85,
          "output_type": "execute_result",
          "data": {
            "text/plain": "498"
          },
          "metadata": {}
        }
      ]
    },
    {
      "cell_type": "markdown",
      "source": [
        "### On 96-Epoch trained model"
      ],
      "metadata": {
        "id": "SJDJhIcU7tik"
      }
    },
    {
      "cell_type": "code",
      "source": [
        "url = 'https://drive.google.com/uc?id=1vWscXs4Vt0a_1IH1-ct2TCgXAZT-N3_Y'\n",
        "output = 'checkpoints.zip'\n",
        "gdown.download(url, output, quiet=False)\n",
        "gdown.extractall('checkpoints.zip', 'models')"
      ],
      "metadata": {
        "execution": {
          "iopub.status.busy": "2023-11-16T01:08:45.294932Z",
          "iopub.execute_input": "2023-11-16T01:08:45.295406Z",
          "iopub.status.idle": "2023-11-16T01:08:51.651582Z",
          "shell.execute_reply.started": "2023-11-16T01:08:45.295373Z",
          "shell.execute_reply": "2023-11-16T01:08:51.650623Z"
        },
        "trusted": true,
        "id": "qB-CUhpv7tik",
        "outputId": "c7147460-37c4-4271-ec83-63117d12b502"
      },
      "execution_count": null,
      "outputs": [
        {
          "name": "stderr",
          "text": "Downloading...\nFrom (uriginal): https://drive.google.com/uc?id=1vWscXs4Vt0a_1IH1-ct2TCgXAZT-N3_Y\nFrom (redirected): https://drive.google.com/uc?id=1vWscXs4Vt0a_1IH1-ct2TCgXAZT-N3_Y&confirm=t&uuid=20684f54-1d09-4fa2-bb80-33ebd517253d\nTo: /kaggle/working/checkpoints.zip\n100%|██████████| 94.5M/94.5M [00:02<00:00, 31.9MB/s]\n",
          "output_type": "stream"
        },
        {
          "execution_count": 86,
          "output_type": "execute_result",
          "data": {
            "text/plain": "['models/checkpoint.index',\n 'models/__MACOSX/._checkpoint.index',\n 'models/checkpoint.data-00000-of-00001',\n 'models/__MACOSX/._checkpoint.data-00000-of-00001',\n 'models/checkpoint',\n 'models/__MACOSX/._checkpoint']"
          },
          "metadata": {}
        }
      ]
    },
    {
      "cell_type": "code",
      "source": [
        "model.load_weights('./models/checkpoint')"
      ],
      "metadata": {
        "execution": {
          "iopub.status.busy": "2023-11-16T01:08:51.652610Z",
          "iopub.execute_input": "2023-11-16T01:08:51.652862Z",
          "iopub.status.idle": "2023-11-16T01:08:51.817726Z",
          "shell.execute_reply.started": "2023-11-16T01:08:51.652839Z",
          "shell.execute_reply": "2023-11-16T01:08:51.816736Z"
        },
        "trusted": true,
        "id": "bGr7y5io7tik",
        "outputId": "2048e962-a37a-44b9-f193-a35a6b8afacb"
      },
      "execution_count": null,
      "outputs": [
        {
          "execution_count": 87,
          "output_type": "execute_result",
          "data": {
            "text/plain": "<tensorflow.python.checkpoint.checkpoint.CheckpointLoadStatus at 0x7e69f078b4f0>"
          },
          "metadata": {}
        }
      ]
    },
    {
      "cell_type": "code",
      "source": [
        "data = tf.data.Dataset.list_files('./data/s1/*.mpg')\n",
        "data = data.shuffle(500, reshuffle_each_iteration=False)\n",
        "data = data.map(mappable_function)\n",
        "data = data.padded_batch(2, padded_shapes=([75,None,None,None],[40]))\n",
        "data = data.prefetch(tf.data.AUTOTUNE)"
      ],
      "metadata": {
        "execution": {
          "iopub.status.busy": "2023-11-16T01:08:51.818827Z",
          "iopub.execute_input": "2023-11-16T01:08:51.819081Z",
          "iopub.status.idle": "2023-11-16T01:08:51.842835Z",
          "shell.execute_reply.started": "2023-11-16T01:08:51.819058Z",
          "shell.execute_reply": "2023-11-16T01:08:51.842147Z"
        },
        "trusted": true,
        "id": "9H6V23G07tik"
      },
      "execution_count": null,
      "outputs": []
    },
    {
      "cell_type": "code",
      "source": [],
      "metadata": {
        "id": "52Eqzf1m7tik"
      },
      "execution_count": null,
      "outputs": []
    },
    {
      "cell_type": "code",
      "source": [
        "test_data = data.as_numpy_iterator()"
      ],
      "metadata": {
        "execution": {
          "iopub.status.busy": "2023-11-16T01:08:51.843776Z",
          "iopub.execute_input": "2023-11-16T01:08:51.844038Z",
          "iopub.status.idle": "2023-11-16T01:08:51.858546Z",
          "shell.execute_reply.started": "2023-11-16T01:08:51.844014Z",
          "shell.execute_reply": "2023-11-16T01:08:51.857684Z"
        },
        "trusted": true,
        "id": "HTT_SMBA7tik"
      },
      "execution_count": null,
      "outputs": []
    },
    {
      "cell_type": "code",
      "source": [
        "word_error_rates_for_model2=[]\n",
        "sentence_error_rates_for_model2=[]"
      ],
      "metadata": {
        "execution": {
          "iopub.status.busy": "2023-11-16T01:08:51.859786Z",
          "iopub.execute_input": "2023-11-16T01:08:51.860386Z",
          "iopub.status.idle": "2023-11-16T01:08:51.864329Z",
          "shell.execute_reply.started": "2023-11-16T01:08:51.860353Z",
          "shell.execute_reply": "2023-11-16T01:08:51.863477Z"
        },
        "trusted": true,
        "id": "DjsSjOV-7tik"
      },
      "execution_count": null,
      "outputs": []
    },
    {
      "cell_type": "code",
      "source": [],
      "metadata": {
        "execution": {
          "iopub.status.busy": "2023-11-16T01:16:37.292489Z",
          "iopub.execute_input": "2023-11-16T01:16:37.293245Z",
          "iopub.status.idle": "2023-11-16T01:16:37.299621Z",
          "shell.execute_reply.started": "2023-11-16T01:16:37.293213Z",
          "shell.execute_reply": "2023-11-16T01:16:37.298444Z"
        },
        "trusted": true,
        "id": "ZfIf2TS-7til",
        "outputId": "682951ad-d5bb-482c-ffa6-f9a28fa3e122"
      },
      "execution_count": null,
      "outputs": [
        {
          "execution_count": 95,
          "output_type": "execute_result",
          "data": {
            "text/plain": "0.34615384615384615"
          },
          "metadata": {}
        }
      ]
    },
    {
      "cell_type": "code",
      "source": [
        "for i in range (500):\n",
        "    sample = test_data.next()\n",
        "\n",
        "#     print(i,val[0][0][0][0][0])\n",
        "    og = [tf.strings.reduce_join([num_to_char(word) for word in sentence]) for sentence in sample[1]]\n",
        "#     og = tf.strings.reduce_join([num_to_char(word) for word in sample[1][0]])\n",
        "\n",
        "    yhat = model.predict(sample[0])\n",
        "#     print(tf.strings.reduce_join([num_to_char(x) for x in tf.argmax(yhat[0],axis=1)]))\n",
        "#     print(tf.strings.reduce_join([num_to_char(tf.argmax(x)) for x in yhat[0]]))\n",
        "    decoded = tf.keras.backend.ctc_decode(yhat, input_length=[75,75], greedy=True)[0][0].numpy()\n",
        "    predicted = [tf.strings.reduce_join([num_to_char(word) for word in sentence]) for sentence in decoded]\n",
        "\n",
        "\n",
        "    reference_string = str(og[1])[11:-25]\n",
        "    hypothesis_string = str(predicted[1])[11:-25]\n",
        "\n",
        "    wer = calculate_word_error_rate(reference_string, hypothesis_string)\n",
        "    ser = calculate_sentence_error_rate(reference_string, hypothesis_string)\n",
        "\n",
        "    word_error_rates_for_model2.append(wer)\n",
        "    sentence_error_rates_for_model2.append(ser)\n",
        "\n",
        "    if i<10: # print results for first 10 sentences\n",
        "\n",
        "        print(og[1])\n",
        "        print(\"Real Sentence\",str(og[1])[11:-25])\n",
        "\n",
        "        print(predicted[1])\n",
        "        print(\"Sentence Predicted\",str(predicted[1])[11:-25])\n",
        "\n",
        "        print(f\"Word Error Rate: {wer * 100:.2f}%\")\n",
        "        print(f\"Sentence Error Rate: {ser * 100:.2f}%\")\n",
        "\n",
        "        print()\n",
        ""
      ],
      "metadata": {
        "execution": {
          "iopub.status.busy": "2023-11-16T01:08:51.865516Z",
          "iopub.execute_input": "2023-11-16T01:08:51.865774Z",
          "iopub.status.idle": "2023-11-16T01:15:11.159198Z",
          "shell.execute_reply.started": "2023-11-16T01:08:51.865750Z",
          "shell.execute_reply": "2023-11-16T01:15:11.158384Z"
        },
        "trusted": true,
        "id": "aUF6NMRB7til",
        "outputId": "9b543c16-bfc0-47b0-8d00-0fb4dfb91ad3"
      },
      "execution_count": null,
      "outputs": [
        {
          "name": "stdout",
          "text": "1/1 [==============================] - 0s 124ms/step\ntf.Tensor(b'bin red at m five again', shape=(), dtype=string)\nReal Sentence 'bin red at m five again'\ntf.Tensor(b'bin red at m five again', shape=(), dtype=string)\nSentence Predicted 'bin red at m five again'\nWord Error Rate: 0.00%\nSentence Error Rate: 0.00%\n\n1/1 [==============================] - 0s 117ms/step\ntf.Tensor(b'place red with d six please', shape=(), dtype=string)\nReal Sentence 'place red with d six please'\ntf.Tensor(b'place red with d six please', shape=(), dtype=string)\nSentence Predicted 'place red with d six please'\nWord Error Rate: 0.00%\nSentence Error Rate: 0.00%\n\n1/1 [==============================] - 0s 115ms/step\ntf.Tensor(b'place white by q seven again', shape=(), dtype=string)\nReal Sentence 'place white by q seven again'\ntf.Tensor(b'place white by q seven again', shape=(), dtype=string)\nSentence Predicted 'place white by q seven again'\nWord Error Rate: 0.00%\nSentence Error Rate: 0.00%\n\n1/1 [==============================] - 0s 123ms/step\ntf.Tensor(b'bin red at f nine soon', shape=(), dtype=string)\nReal Sentence 'bin red at f nine soon'\ntf.Tensor(b'bin red at f nine soon', shape=(), dtype=string)\nSentence Predicted 'bin red at f nine soon'\nWord Error Rate: 0.00%\nSentence Error Rate: 0.00%\n\n1/1 [==============================] - 0s 116ms/step\ntf.Tensor(b'place green with e seven soon', shape=(), dtype=string)\nReal Sentence 'place green with e seven soon'\ntf.Tensor(b'place green with seven soon', shape=(), dtype=string)\nSentence Predicted 'place green with seven soon'\nWord Error Rate: 16.67%\nSentence Error Rate: 6.45%\n\n1/1 [==============================] - 0s 115ms/step\ntf.Tensor(b'lay red at y four now', shape=(), dtype=string)\nReal Sentence 'lay red at y four now'\ntf.Tensor(b'lay red at y four now', shape=(), dtype=string)\nSentence Predicted 'lay red at y four now'\nWord Error Rate: 0.00%\nSentence Error Rate: 0.00%\n\n1/1 [==============================] - 0s 114ms/step\ntf.Tensor(b'place blue with p six now', shape=(), dtype=string)\nReal Sentence 'place blue with p six now'\ntf.Tensor(b'place blue with p six now', shape=(), dtype=string)\nSentence Predicted 'place blue with p six now'\nWord Error Rate: 0.00%\nSentence Error Rate: 0.00%\n\n1/1 [==============================] - 0s 118ms/step\ntf.Tensor(b'place white at x five soon', shape=(), dtype=string)\nReal Sentence 'place white at x five soon'\ntf.Tensor(b'place white at x five soon', shape=(), dtype=string)\nSentence Predicted 'place white at x five soon'\nWord Error Rate: 0.00%\nSentence Error Rate: 0.00%\n\n1/1 [==============================] - 0s 116ms/step\ntf.Tensor(b'set green by j one soon', shape=(), dtype=string)\nReal Sentence 'set green by j one soon'\ntf.Tensor(b'set green by j one soon', shape=(), dtype=string)\nSentence Predicted 'set green by j one soon'\nWord Error Rate: 0.00%\nSentence Error Rate: 0.00%\n\n1/1 [==============================] - 0s 115ms/step\ntf.Tensor(b'place white by k two please', shape=(), dtype=string)\nReal Sentence 'place white by k two please'\ntf.Tensor(b'place white by k two please', shape=(), dtype=string)\nSentence Predicted 'place white by k two please'\nWord Error Rate: 0.00%\nSentence Error Rate: 0.00%\n\n1/1 [==============================] - 0s 115ms/step\n1/1 [==============================] - 0s 116ms/step\n1/1 [==============================] - 0s 120ms/step\n1/1 [==============================] - 0s 115ms/step\n1/1 [==============================] - 0s 117ms/step\n1/1 [==============================] - 0s 114ms/step\n1/1 [==============================] - 0s 116ms/step\n1/1 [==============================] - 0s 121ms/step\n1/1 [==============================] - 0s 115ms/step\n1/1 [==============================] - 0s 114ms/step\n1/1 [==============================] - 0s 115ms/step\n1/1 [==============================] - 0s 115ms/step\n1/1 [==============================] - 0s 119ms/step\n1/1 [==============================] - 0s 119ms/step\n1/1 [==============================] - 0s 116ms/step\n1/1 [==============================] - 0s 119ms/step\n1/1 [==============================] - 0s 117ms/step\n1/1 [==============================] - 0s 124ms/step\n1/1 [==============================] - 0s 115ms/step\n1/1 [==============================] - 0s 116ms/step\n1/1 [==============================] - 0s 122ms/step\n1/1 [==============================] - 0s 114ms/step\n1/1 [==============================] - 0s 123ms/step\n1/1 [==============================] - 0s 121ms/step\n1/1 [==============================] - 0s 119ms/step\n1/1 [==============================] - 0s 116ms/step\n1/1 [==============================] - 0s 116ms/step\n1/1 [==============================] - 0s 117ms/step\n1/1 [==============================] - 0s 114ms/step\n1/1 [==============================] - 0s 118ms/step\n1/1 [==============================] - 0s 121ms/step\n1/1 [==============================] - 0s 122ms/step\n1/1 [==============================] - 0s 119ms/step\n1/1 [==============================] - 0s 123ms/step\n1/1 [==============================] - 0s 120ms/step\n1/1 [==============================] - 0s 115ms/step\n1/1 [==============================] - 0s 117ms/step\n1/1 [==============================] - 0s 122ms/step\n1/1 [==============================] - 0s 114ms/step\n1/1 [==============================] - 0s 116ms/step\n1/1 [==============================] - 0s 116ms/step\n1/1 [==============================] - 0s 122ms/step\n1/1 [==============================] - 0s 115ms/step\n1/1 [==============================] - 0s 115ms/step\n1/1 [==============================] - 0s 122ms/step\n1/1 [==============================] - 0s 116ms/step\n1/1 [==============================] - 0s 116ms/step\n1/1 [==============================] - 0s 115ms/step\n1/1 [==============================] - 0s 121ms/step\n1/1 [==============================] - 0s 119ms/step\n1/1 [==============================] - 0s 116ms/step\n1/1 [==============================] - 0s 113ms/step\n1/1 [==============================] - 0s 116ms/step\n1/1 [==============================] - 0s 116ms/step\n1/1 [==============================] - 0s 116ms/step\n1/1 [==============================] - 0s 115ms/step\n1/1 [==============================] - 0s 116ms/step\n1/1 [==============================] - 0s 121ms/step\n1/1 [==============================] - 0s 121ms/step\n1/1 [==============================] - 0s 114ms/step\n1/1 [==============================] - 0s 115ms/step\n1/1 [==============================] - 0s 115ms/step\n1/1 [==============================] - 0s 121ms/step\n1/1 [==============================] - 0s 121ms/step\n1/1 [==============================] - 0s 120ms/step\n1/1 [==============================] - 0s 114ms/step\n1/1 [==============================] - 0s 116ms/step\n1/1 [==============================] - 0s 114ms/step\n1/1 [==============================] - 0s 120ms/step\n1/1 [==============================] - 0s 115ms/step\n1/1 [==============================] - 0s 120ms/step\n1/1 [==============================] - 0s 116ms/step\n1/1 [==============================] - 0s 114ms/step\n1/1 [==============================] - 0s 121ms/step\n1/1 [==============================] - 0s 121ms/step\n1/1 [==============================] - 0s 114ms/step\n1/1 [==============================] - 0s 118ms/step\n1/1 [==============================] - 0s 120ms/step\n1/1 [==============================] - 0s 116ms/step\n1/1 [==============================] - 0s 114ms/step\n1/1 [==============================] - 0s 115ms/step\n1/1 [==============================] - 0s 114ms/step\n1/1 [==============================] - 0s 114ms/step\n1/1 [==============================] - 0s 114ms/step\n1/1 [==============================] - 0s 113ms/step\n1/1 [==============================] - 0s 115ms/step\n1/1 [==============================] - 0s 121ms/step\n1/1 [==============================] - 0s 117ms/step\n1/1 [==============================] - 0s 117ms/step\n1/1 [==============================] - 0s 116ms/step\n1/1 [==============================] - 0s 116ms/step\n1/1 [==============================] - 0s 114ms/step\n1/1 [==============================] - 0s 114ms/step\n1/1 [==============================] - 0s 122ms/step\n1/1 [==============================] - 0s 115ms/step\n1/1 [==============================] - 0s 114ms/step\n1/1 [==============================] - 0s 126ms/step\n1/1 [==============================] - 0s 119ms/step\n1/1 [==============================] - 0s 122ms/step\n1/1 [==============================] - 0s 127ms/step\n1/1 [==============================] - 0s 121ms/step\n1/1 [==============================] - 0s 120ms/step\n1/1 [==============================] - 0s 120ms/step\n1/1 [==============================] - 0s 130ms/step\n1/1 [==============================] - 0s 120ms/step\n1/1 [==============================] - 0s 120ms/step\n1/1 [==============================] - 0s 120ms/step\n1/1 [==============================] - 0s 124ms/step\n1/1 [==============================] - 0s 120ms/step\n1/1 [==============================] - 0s 127ms/step\n1/1 [==============================] - 0s 124ms/step\n1/1 [==============================] - 0s 128ms/step\n1/1 [==============================] - 0s 120ms/step\n1/1 [==============================] - 0s 128ms/step\n1/1 [==============================] - 0s 126ms/step\n1/1 [==============================] - 0s 119ms/step\n1/1 [==============================] - 0s 118ms/step\n1/1 [==============================] - 0s 122ms/step\n1/1 [==============================] - 0s 119ms/step\n1/1 [==============================] - 0s 127ms/step\n1/1 [==============================] - 0s 126ms/step\n1/1 [==============================] - 0s 122ms/step\n1/1 [==============================] - 0s 119ms/step\n1/1 [==============================] - 0s 118ms/step\n1/1 [==============================] - 0s 120ms/step\n1/1 [==============================] - 0s 127ms/step\n1/1 [==============================] - 0s 130ms/step\n1/1 [==============================] - 0s 118ms/step\n1/1 [==============================] - 0s 121ms/step\n1/1 [==============================] - 0s 120ms/step\n1/1 [==============================] - 0s 120ms/step\n1/1 [==============================] - 0s 125ms/step\n1/1 [==============================] - 0s 127ms/step\n1/1 [==============================] - 0s 119ms/step\n1/1 [==============================] - 0s 123ms/step\n1/1 [==============================] - 0s 118ms/step\n1/1 [==============================] - 0s 128ms/step\n1/1 [==============================] - 0s 117ms/step\n1/1 [==============================] - 0s 118ms/step\n1/1 [==============================] - 0s 116ms/step\n1/1 [==============================] - 0s 115ms/step\n1/1 [==============================] - 0s 125ms/step\n1/1 [==============================] - 0s 118ms/step\n1/1 [==============================] - 0s 117ms/step\n1/1 [==============================] - 0s 117ms/step\n1/1 [==============================] - 0s 129ms/step\n1/1 [==============================] - 0s 123ms/step\n1/1 [==============================] - 0s 117ms/step\n1/1 [==============================] - 0s 116ms/step\n1/1 [==============================] - 0s 117ms/step\n1/1 [==============================] - 0s 117ms/step\n1/1 [==============================] - 0s 117ms/step\n1/1 [==============================] - 0s 116ms/step\n1/1 [==============================] - 0s 115ms/step\n1/1 [==============================] - 0s 122ms/step\n1/1 [==============================] - 0s 118ms/step\n1/1 [==============================] - 0s 115ms/step\n1/1 [==============================] - 0s 122ms/step\n1/1 [==============================] - 0s 117ms/step\n1/1 [==============================] - 0s 116ms/step\n1/1 [==============================] - 0s 116ms/step\n1/1 [==============================] - 0s 116ms/step\n1/1 [==============================] - 0s 115ms/step\n1/1 [==============================] - 0s 121ms/step\n1/1 [==============================] - 0s 121ms/step\n1/1 [==============================] - 0s 118ms/step\n1/1 [==============================] - 0s 119ms/step\n1/1 [==============================] - 0s 115ms/step\n1/1 [==============================] - 0s 116ms/step\n1/1 [==============================] - 0s 117ms/step\n1/1 [==============================] - 0s 115ms/step\n1/1 [==============================] - 0s 114ms/step\n1/1 [==============================] - 0s 119ms/step\n1/1 [==============================] - 0s 118ms/step\n1/1 [==============================] - 0s 123ms/step\n1/1 [==============================] - 0s 116ms/step\n1/1 [==============================] - 0s 123ms/step\n1/1 [==============================] - 0s 115ms/step\n1/1 [==============================] - 0s 119ms/step\n1/1 [==============================] - 0s 116ms/step\n1/1 [==============================] - 0s 115ms/step\n1/1 [==============================] - 0s 121ms/step\n1/1 [==============================] - 0s 119ms/step\n1/1 [==============================] - 0s 115ms/step\n1/1 [==============================] - 0s 121ms/step\n1/1 [==============================] - 0s 118ms/step\n1/1 [==============================] - 0s 115ms/step\n1/1 [==============================] - 0s 120ms/step\n1/1 [==============================] - 0s 124ms/step\n1/1 [==============================] - 0s 116ms/step\n1/1 [==============================] - 0s 116ms/step\n1/1 [==============================] - 0s 116ms/step\n1/1 [==============================] - 0s 115ms/step\n1/1 [==============================] - 0s 116ms/step\n1/1 [==============================] - 0s 117ms/step\n1/1 [==============================] - 0s 115ms/step\n1/1 [==============================] - 0s 117ms/step\n1/1 [==============================] - 0s 119ms/step\n1/1 [==============================] - 0s 115ms/step\n1/1 [==============================] - 0s 120ms/step\n1/1 [==============================] - 0s 117ms/step\n1/1 [==============================] - 0s 115ms/step\n1/1 [==============================] - 0s 119ms/step\n1/1 [==============================] - 0s 116ms/step\n1/1 [==============================] - 0s 117ms/step\n1/1 [==============================] - 0s 122ms/step\n1/1 [==============================] - 0s 117ms/step\n1/1 [==============================] - 0s 119ms/step\n1/1 [==============================] - 0s 114ms/step\n1/1 [==============================] - 0s 117ms/step\n1/1 [==============================] - 0s 119ms/step\n1/1 [==============================] - 0s 115ms/step\n1/1 [==============================] - 0s 116ms/step\n1/1 [==============================] - 0s 122ms/step\n1/1 [==============================] - 0s 116ms/step\n1/1 [==============================] - 0s 116ms/step\n1/1 [==============================] - 0s 114ms/step\n1/1 [==============================] - 0s 116ms/step\n1/1 [==============================] - 0s 125ms/step\n1/1 [==============================] - 0s 116ms/step\n1/1 [==============================] - 0s 116ms/step\n1/1 [==============================] - 0s 117ms/step\n1/1 [==============================] - 0s 115ms/step\n1/1 [==============================] - 0s 115ms/step\n1/1 [==============================] - 0s 115ms/step\n1/1 [==============================] - 0s 116ms/step\n1/1 [==============================] - 0s 118ms/step\n1/1 [==============================] - 0s 117ms/step\n1/1 [==============================] - 0s 116ms/step\n1/1 [==============================] - 0s 127ms/step\n1/1 [==============================] - 0s 121ms/step\n1/1 [==============================] - 0s 115ms/step\n1/1 [==============================] - 0s 117ms/step\n1/1 [==============================] - 0s 115ms/step\n1/1 [==============================] - 0s 117ms/step\n1/1 [==============================] - 0s 118ms/step\n1/1 [==============================] - 0s 116ms/step\n1/1 [==============================] - 0s 117ms/step\n1/1 [==============================] - 0s 118ms/step\n1/1 [==============================] - 0s 115ms/step\n1/1 [==============================] - 0s 117ms/step\n1/1 [==============================] - 0s 120ms/step\n1/1 [==============================] - 0s 114ms/step\n1/1 [==============================] - 0s 117ms/step\n1/1 [==============================] - 0s 114ms/step\n",
          "output_type": "stream"
        },
        {
          "name": "stderr",
          "text": "[mpeg1video @ 0x7e6b340c4600] ac-tex damaged at 22 17\n[mpeg1video @ 0x7e6b340c4600] Warning MVs not available\n",
          "output_type": "stream"
        },
        {
          "name": "stdout",
          "text": "1/1 [==============================] - 0s 115ms/step\n1/1 [==============================] - 0s 123ms/step\n1/1 [==============================] - 0s 116ms/step\n1/1 [==============================] - 0s 117ms/step\n1/1 [==============================] - 0s 114ms/step\n1/1 [==============================] - 0s 117ms/step\n1/1 [==============================] - 0s 116ms/step\n1/1 [==============================] - 0s 119ms/step\n1/1 [==============================] - 0s 116ms/step\n1/1 [==============================] - 0s 115ms/step\n1/1 [==============================] - 0s 120ms/step\n1/1 [==============================] - 0s 115ms/step\n1/1 [==============================] - 0s 121ms/step\n1/1 [==============================] - 0s 120ms/step\n1/1 [==============================] - 0s 123ms/step\n1/1 [==============================] - 0s 121ms/step\n1/1 [==============================] - 0s 117ms/step\n1/1 [==============================] - 0s 123ms/step\n1/1 [==============================] - 0s 122ms/step\n1/1 [==============================] - 0s 116ms/step\n1/1 [==============================] - 0s 123ms/step\n1/1 [==============================] - 0s 117ms/step\n1/1 [==============================] - 0s 116ms/step\n1/1 [==============================] - 0s 114ms/step\n1/1 [==============================] - 0s 115ms/step\n1/1 [==============================] - 0s 116ms/step\n1/1 [==============================] - 0s 125ms/step\n1/1 [==============================] - 0s 122ms/step\n1/1 [==============================] - 0s 115ms/step\n1/1 [==============================] - 0s 121ms/step\n1/1 [==============================] - 0s 122ms/step\n1/1 [==============================] - 0s 115ms/step\n1/1 [==============================] - 0s 122ms/step\n1/1 [==============================] - 0s 116ms/step\n1/1 [==============================] - 0s 117ms/step\n1/1 [==============================] - 0s 119ms/step\n1/1 [==============================] - 0s 118ms/step\n1/1 [==============================] - 0s 120ms/step\n1/1 [==============================] - 0s 115ms/step\n1/1 [==============================] - 0s 116ms/step\n1/1 [==============================] - 0s 115ms/step\n1/1 [==============================] - 0s 115ms/step\n1/1 [==============================] - 0s 116ms/step\n1/1 [==============================] - 0s 121ms/step\n1/1 [==============================] - 0s 117ms/step\n1/1 [==============================] - 0s 120ms/step\n1/1 [==============================] - 0s 116ms/step\n1/1 [==============================] - 0s 116ms/step\n1/1 [==============================] - 0s 119ms/step\n1/1 [==============================] - 0s 115ms/step\n1/1 [==============================] - 0s 119ms/step\n1/1 [==============================] - 0s 116ms/step\n1/1 [==============================] - 0s 119ms/step\n1/1 [==============================] - 0s 115ms/step\n1/1 [==============================] - 0s 125ms/step\n1/1 [==============================] - 0s 122ms/step\n1/1 [==============================] - 0s 121ms/step\n1/1 [==============================] - 0s 115ms/step\n1/1 [==============================] - 0s 116ms/step\n1/1 [==============================] - 0s 116ms/step\n1/1 [==============================] - 0s 115ms/step\n1/1 [==============================] - 0s 123ms/step\n1/1 [==============================] - 0s 116ms/step\n1/1 [==============================] - 0s 120ms/step\n1/1 [==============================] - 0s 117ms/step\n1/1 [==============================] - 0s 120ms/step\n1/1 [==============================] - 0s 117ms/step\n1/1 [==============================] - 0s 124ms/step\n1/1 [==============================] - 0s 123ms/step\n1/1 [==============================] - 0s 122ms/step\n1/1 [==============================] - 0s 114ms/step\n1/1 [==============================] - 0s 119ms/step\n1/1 [==============================] - 0s 116ms/step\n1/1 [==============================] - 0s 116ms/step\n1/1 [==============================] - 0s 122ms/step\n1/1 [==============================] - 0s 120ms/step\n1/1 [==============================] - 0s 124ms/step\n1/1 [==============================] - 0s 116ms/step\n1/1 [==============================] - 0s 115ms/step\n1/1 [==============================] - 0s 115ms/step\n1/1 [==============================] - 0s 115ms/step\n1/1 [==============================] - 0s 123ms/step\n1/1 [==============================] - 0s 116ms/step\n1/1 [==============================] - 0s 115ms/step\n1/1 [==============================] - 0s 114ms/step\n1/1 [==============================] - 0s 118ms/step\n1/1 [==============================] - 0s 118ms/step\n1/1 [==============================] - 0s 116ms/step\n1/1 [==============================] - 0s 117ms/step\n1/1 [==============================] - 0s 115ms/step\n1/1 [==============================] - 0s 116ms/step\n1/1 [==============================] - 0s 115ms/step\n1/1 [==============================] - 0s 120ms/step\n1/1 [==============================] - 0s 117ms/step\n1/1 [==============================] - 0s 120ms/step\n1/1 [==============================] - 0s 115ms/step\n1/1 [==============================] - 0s 116ms/step\n1/1 [==============================] - 0s 117ms/step\n1/1 [==============================] - 0s 113ms/step\n1/1 [==============================] - 0s 115ms/step\n1/1 [==============================] - 0s 115ms/step\n1/1 [==============================] - 0s 118ms/step\n1/1 [==============================] - 0s 116ms/step\n1/1 [==============================] - 0s 120ms/step\n1/1 [==============================] - 0s 114ms/step\n1/1 [==============================] - 0s 121ms/step\n1/1 [==============================] - 0s 115ms/step\n1/1 [==============================] - 0s 114ms/step\n1/1 [==============================] - 0s 115ms/step\n1/1 [==============================] - 0s 120ms/step\n1/1 [==============================] - 0s 124ms/step\n1/1 [==============================] - 0s 121ms/step\n1/1 [==============================] - 0s 122ms/step\n1/1 [==============================] - 0s 116ms/step\n1/1 [==============================] - 0s 118ms/step\n1/1 [==============================] - 0s 118ms/step\n1/1 [==============================] - 0s 117ms/step\n1/1 [==============================] - 0s 118ms/step\n1/1 [==============================] - 0s 124ms/step\n1/1 [==============================] - 0s 124ms/step\n1/1 [==============================] - 0s 117ms/step\n1/1 [==============================] - 0s 118ms/step\n1/1 [==============================] - 0s 115ms/step\n1/1 [==============================] - 0s 120ms/step\n1/1 [==============================] - 0s 118ms/step\n1/1 [==============================] - 0s 125ms/step\n1/1 [==============================] - 0s 118ms/step\n1/1 [==============================] - 0s 123ms/step\n1/1 [==============================] - 0s 118ms/step\n1/1 [==============================] - 0s 121ms/step\n1/1 [==============================] - 0s 117ms/step\n1/1 [==============================] - 0s 116ms/step\n1/1 [==============================] - 0s 122ms/step\n1/1 [==============================] - 0s 120ms/step\n1/1 [==============================] - 0s 124ms/step\n1/1 [==============================] - 0s 118ms/step\n1/1 [==============================] - 0s 120ms/step\n1/1 [==============================] - 0s 116ms/step\n1/1 [==============================] - 0s 119ms/step\n1/1 [==============================] - 0s 120ms/step\n1/1 [==============================] - 0s 122ms/step\n1/1 [==============================] - 0s 122ms/step\n1/1 [==============================] - 0s 121ms/step\n1/1 [==============================] - 0s 126ms/step\n1/1 [==============================] - 0s 118ms/step\n1/1 [==============================] - 0s 117ms/step\n1/1 [==============================] - 0s 119ms/step\n1/1 [==============================] - 0s 120ms/step\n1/1 [==============================] - 0s 116ms/step\n1/1 [==============================] - 0s 120ms/step\n1/1 [==============================] - 0s 123ms/step\n1/1 [==============================] - 0s 126ms/step\n1/1 [==============================] - 0s 122ms/step\n1/1 [==============================] - 0s 118ms/step\n1/1 [==============================] - 0s 116ms/step\n1/1 [==============================] - 0s 124ms/step\n1/1 [==============================] - 0s 122ms/step\n1/1 [==============================] - 0s 117ms/step\n1/1 [==============================] - 0s 116ms/step\n1/1 [==============================] - 0s 124ms/step\n1/1 [==============================] - 0s 118ms/step\n1/1 [==============================] - 0s 116ms/step\n1/1 [==============================] - 0s 118ms/step\n1/1 [==============================] - 0s 124ms/step\n1/1 [==============================] - 0s 121ms/step\n1/1 [==============================] - 0s 118ms/step\n1/1 [==============================] - 0s 122ms/step\n1/1 [==============================] - 0s 117ms/step\n1/1 [==============================] - 0s 118ms/step\n1/1 [==============================] - 0s 116ms/step\n1/1 [==============================] - 0s 117ms/step\n1/1 [==============================] - 0s 116ms/step\n1/1 [==============================] - 0s 117ms/step\n1/1 [==============================] - 0s 118ms/step\n1/1 [==============================] - 0s 118ms/step\n1/1 [==============================] - 0s 117ms/step\n1/1 [==============================] - 0s 118ms/step\n1/1 [==============================] - 0s 123ms/step\n1/1 [==============================] - 0s 116ms/step\n1/1 [==============================] - 0s 118ms/step\n1/1 [==============================] - 0s 116ms/step\n1/1 [==============================] - 0s 123ms/step\n1/1 [==============================] - 0s 115ms/step\n1/1 [==============================] - 0s 117ms/step\n1/1 [==============================] - 0s 116ms/step\n1/1 [==============================] - 0s 117ms/step\n1/1 [==============================] - 0s 119ms/step\n1/1 [==============================] - 0s 116ms/step\n1/1 [==============================] - 0s 122ms/step\n1/1 [==============================] - 0s 122ms/step\n1/1 [==============================] - 0s 116ms/step\n1/1 [==============================] - 0s 134ms/step\n1/1 [==============================] - 0s 123ms/step\n1/1 [==============================] - 0s 125ms/step\n1/1 [==============================] - 0s 117ms/step\n1/1 [==============================] - 0s 117ms/step\n1/1 [==============================] - 0s 119ms/step\n1/1 [==============================] - 0s 116ms/step\n1/1 [==============================] - 0s 123ms/step\n1/1 [==============================] - 0s 116ms/step\n1/1 [==============================] - 0s 125ms/step\n1/1 [==============================] - 0s 118ms/step\n1/1 [==============================] - 0s 115ms/step\n1/1 [==============================] - 0s 120ms/step\n1/1 [==============================] - 0s 118ms/step\n1/1 [==============================] - 0s 118ms/step\n1/1 [==============================] - 0s 123ms/step\n1/1 [==============================] - 0s 122ms/step\n1/1 [==============================] - 0s 119ms/step\n1/1 [==============================] - 0s 121ms/step\n1/1 [==============================] - 0s 122ms/step\n1/1 [==============================] - 0s 117ms/step\n1/1 [==============================] - 0s 116ms/step\n1/1 [==============================] - 0s 121ms/step\n1/1 [==============================] - 0s 120ms/step\n1/1 [==============================] - 0s 118ms/step\n1/1 [==============================] - 0s 119ms/step\n1/1 [==============================] - 0s 120ms/step\n1/1 [==============================] - 0s 116ms/step\n1/1 [==============================] - 0s 122ms/step\n1/1 [==============================] - 0s 118ms/step\n1/1 [==============================] - 0s 123ms/step\n1/1 [==============================] - 0s 119ms/step\n1/1 [==============================] - 0s 120ms/step\n1/1 [==============================] - 0s 123ms/step\n1/1 [==============================] - 0s 116ms/step\n1/1 [==============================] - 0s 117ms/step\n1/1 [==============================] - 0s 121ms/step\n1/1 [==============================] - 0s 121ms/step\n1/1 [==============================] - 0s 116ms/step\n1/1 [==============================] - 0s 126ms/step\n1/1 [==============================] - 0s 116ms/step\n1/1 [==============================] - 0s 127ms/step\n1/1 [==============================] - 0s 116ms/step\n1/1 [==============================] - 0s 120ms/step\n1/1 [==============================] - 0s 120ms/step\n1/1 [==============================] - 0s 130ms/step\n1/1 [==============================] - 0s 125ms/step\n1/1 [==============================] - 0s 125ms/step\n1/1 [==============================] - 0s 115ms/step\n1/1 [==============================] - 0s 123ms/step\n1/1 [==============================] - 0s 122ms/step\n1/1 [==============================] - 0s 116ms/step\n1/1 [==============================] - 0s 117ms/step\n1/1 [==============================] - 0s 113ms/step\n",
          "output_type": "stream"
        }
      ]
    },
    {
      "cell_type": "code",
      "source": [
        "len(word_error_rates_for_model2)"
      ],
      "metadata": {
        "execution": {
          "iopub.status.busy": "2023-11-16T01:21:08.161014Z",
          "iopub.execute_input": "2023-11-16T01:21:08.161746Z",
          "iopub.status.idle": "2023-11-16T01:21:08.167589Z",
          "shell.execute_reply.started": "2023-11-16T01:21:08.161713Z",
          "shell.execute_reply": "2023-11-16T01:21:08.166625Z"
        },
        "trusted": true,
        "id": "bFUBjHE77til",
        "outputId": "9fe3225e-46a7-4e79-aec8-e37f26339006"
      },
      "execution_count": null,
      "outputs": [
        {
          "execution_count": 102,
          "output_type": "execute_result",
          "data": {
            "text/plain": "500"
          },
          "metadata": {}
        }
      ]
    },
    {
      "cell_type": "code",
      "source": [
        "mean_wer=sum(word_error_rates_for_model2)/len(word_error_rates_for_model2)\n",
        "mean_ser=sum(sentence_error_rates_for_model2)/len(sentence_error_rates_for_model2)\n",
        "\n",
        "print(\"For Model 2\")\n",
        "print(f\"Mean Word Error Rate: {mean_wer * 100:.8f}%\")\n",
        "print(f\"Mean Sentence Error Rate: {mean_ser * 100:.8f}%\")"
      ],
      "metadata": {
        "execution": {
          "iopub.status.busy": "2023-11-16T01:17:06.298549Z",
          "iopub.execute_input": "2023-11-16T01:17:06.299406Z",
          "iopub.status.idle": "2023-11-16T01:17:06.305063Z",
          "shell.execute_reply.started": "2023-11-16T01:17:06.299374Z",
          "shell.execute_reply": "2023-11-16T01:17:06.304136Z"
        },
        "trusted": true,
        "id": "xGNCaCPi7til",
        "outputId": "e65e49c9-5db3-4c1c-e04e-349b5fbf9fe5"
      },
      "execution_count": null,
      "outputs": [
        {
          "name": "stdout",
          "text": "For Model 2\nMean Word Error Rate: 1.76666667%\nMean Sentence Error Rate: 0.67408067%\n",
          "output_type": "stream"
        }
      ]
    },
    {
      "cell_type": "code",
      "source": [
        "# print(\"Max For Model 2\")\n",
        "# print(f\"Mean Word Error Rate: {max(word_error_rates_for_model2) * 100:.8f}%\")\n",
        "# print(f\"Mean Sentence Error Rate: {max(sentence_error_rates_for_model2) * 100:.8f}%\")"
      ],
      "metadata": {
        "execution": {
          "iopub.status.busy": "2023-11-16T01:20:49.458710Z",
          "iopub.execute_input": "2023-11-16T01:20:49.459506Z",
          "iopub.status.idle": "2023-11-16T01:20:49.463873Z",
          "shell.execute_reply.started": "2023-11-16T01:20:49.459473Z",
          "shell.execute_reply": "2023-11-16T01:20:49.462695Z"
        },
        "trusted": true,
        "id": "LV2dtUuX7til"
      },
      "execution_count": null,
      "outputs": []
    },
    {
      "cell_type": "code",
      "source": [],
      "metadata": {
        "id": "3sc5DSdS7til"
      },
      "execution_count": null,
      "outputs": []
    }
  ]
}